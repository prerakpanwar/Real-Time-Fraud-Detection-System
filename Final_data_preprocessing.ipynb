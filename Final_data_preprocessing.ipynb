{
 "cells": [
  {
   "cell_type": "code",
   "execution_count": 72,
   "id": "1129a106-e777-4308-b0e4-4d483f9851a3",
   "metadata": {
    "tags": []
   },
   "outputs": [
    {
     "name": "stdout",
     "output_type": "stream",
     "text": [
      "Combined DataFrame shape: (1852394, 23)\n"
     ]
    }
   ],
   "source": [
    "import pandas as pd\n",
    "\n",
    "# Read the two CSV files\n",
    "df1 = pd.read_csv('fraudTrain.csv') #both csvs from real_data_kaggle folder\n",
    "df2 = pd.read_csv('fraudTest.csv')\n",
    "\n",
    "# Combine the DataFrames\n",
    "combined_df = pd.concat([df1, df2], ignore_index=True)\n",
    "\n",
    "# Optionally, save the combined DataFrame to a new CSV\n",
    "combined_df.to_csv('combined_data.csv', index=False)\n",
    "\n",
    "# Display the shape to verify\n",
    "print(f\"Combined DataFrame shape: {combined_df.shape}\")"
   ]
  },
  {
   "cell_type": "code",
   "execution_count": 230,
   "id": "1917b554-6cbd-4331-aaf5-1d2229167a8f",
   "metadata": {
    "tags": []
   },
   "outputs": [],
   "source": [
    "import pandas as pd\n",
    "df= pd.read_csv('combined_data.csv')"
   ]
  },
  {
   "cell_type": "raw",
   "id": "c1fcc2a3-36e0-4db2-b886-bd7c4d51de6b",
   "metadata": {},
   "source": [
    "The first step for your credit card fraud detection project involves data preprocessing and exploratory data analysis (EDA)."
   ]
  },
  {
   "cell_type": "markdown",
   "id": "5e55fa4a-8f96-4dfb-aed5-ed7c9dfcc258",
   "metadata": {},
   "source": [
    "# 1. Understand Your Data"
   ]
  },
  {
   "cell_type": "raw",
   "id": "59f09c00-4b63-4611-9bf4-f44cdd357764",
   "metadata": {},
   "source": [
    "Check Dataset Overview:\n",
    "Look for null values, duplicates, and outliers.\n",
    "Check the distribution of the target variable (is_fraud) to understand if the dataset is imbalanced.\n",
    "Perform Summary Statistics:\n",
    "Get summary statistics for numerical and categorical features."
   ]
  },
  {
   "cell_type": "code",
   "execution_count": 74,
   "id": "b58bcf21-995a-499a-9f60-abbbb6650fb1",
   "metadata": {
    "tags": []
   },
   "outputs": [
    {
     "data": {
      "text/html": [
       "<div>\n",
       "<style scoped>\n",
       "    .dataframe tbody tr th:only-of-type {\n",
       "        vertical-align: middle;\n",
       "    }\n",
       "\n",
       "    .dataframe tbody tr th {\n",
       "        vertical-align: top;\n",
       "    }\n",
       "\n",
       "    .dataframe thead th {\n",
       "        text-align: right;\n",
       "    }\n",
       "</style>\n",
       "<table border=\"1\" class=\"dataframe\">\n",
       "  <thead>\n",
       "    <tr style=\"text-align: right;\">\n",
       "      <th></th>\n",
       "      <th>Unnamed: 0</th>\n",
       "      <th>trans_date_trans_time</th>\n",
       "      <th>cc_num</th>\n",
       "      <th>merchant</th>\n",
       "      <th>category</th>\n",
       "      <th>amt</th>\n",
       "      <th>first</th>\n",
       "      <th>last</th>\n",
       "      <th>gender</th>\n",
       "      <th>street</th>\n",
       "      <th>...</th>\n",
       "      <th>lat</th>\n",
       "      <th>long</th>\n",
       "      <th>city_pop</th>\n",
       "      <th>job</th>\n",
       "      <th>dob</th>\n",
       "      <th>trans_num</th>\n",
       "      <th>unix_time</th>\n",
       "      <th>merch_lat</th>\n",
       "      <th>merch_long</th>\n",
       "      <th>is_fraud</th>\n",
       "    </tr>\n",
       "  </thead>\n",
       "  <tbody>\n",
       "    <tr>\n",
       "      <th>0</th>\n",
       "      <td>0</td>\n",
       "      <td>2019-01-01 00:00:18</td>\n",
       "      <td>2703186189652095</td>\n",
       "      <td>fraud_Rippin, Kub and Mann</td>\n",
       "      <td>misc_net</td>\n",
       "      <td>4.97</td>\n",
       "      <td>Jennifer</td>\n",
       "      <td>Banks</td>\n",
       "      <td>F</td>\n",
       "      <td>561 Perry Cove</td>\n",
       "      <td>...</td>\n",
       "      <td>36.0788</td>\n",
       "      <td>-81.1781</td>\n",
       "      <td>3495</td>\n",
       "      <td>Psychologist, counselling</td>\n",
       "      <td>1988-03-09</td>\n",
       "      <td>0b242abb623afc578575680df30655b9</td>\n",
       "      <td>1325376018</td>\n",
       "      <td>36.011293</td>\n",
       "      <td>-82.048315</td>\n",
       "      <td>0</td>\n",
       "    </tr>\n",
       "    <tr>\n",
       "      <th>1</th>\n",
       "      <td>1</td>\n",
       "      <td>2019-01-01 00:00:44</td>\n",
       "      <td>630423337322</td>\n",
       "      <td>fraud_Heller, Gutmann and Zieme</td>\n",
       "      <td>grocery_pos</td>\n",
       "      <td>107.23</td>\n",
       "      <td>Stephanie</td>\n",
       "      <td>Gill</td>\n",
       "      <td>F</td>\n",
       "      <td>43039 Riley Greens Suite 393</td>\n",
       "      <td>...</td>\n",
       "      <td>48.8878</td>\n",
       "      <td>-118.2105</td>\n",
       "      <td>149</td>\n",
       "      <td>Special educational needs teacher</td>\n",
       "      <td>1978-06-21</td>\n",
       "      <td>1f76529f8574734946361c461b024d99</td>\n",
       "      <td>1325376044</td>\n",
       "      <td>49.159047</td>\n",
       "      <td>-118.186462</td>\n",
       "      <td>0</td>\n",
       "    </tr>\n",
       "    <tr>\n",
       "      <th>1852392</th>\n",
       "      <td>555717</td>\n",
       "      <td>2020-12-31 23:59:24</td>\n",
       "      <td>4079773899158</td>\n",
       "      <td>fraud_Breitenberg LLC</td>\n",
       "      <td>travel</td>\n",
       "      <td>7.99</td>\n",
       "      <td>Eric</td>\n",
       "      <td>Preston</td>\n",
       "      <td>M</td>\n",
       "      <td>7020 Doyle Stream Apt. 951</td>\n",
       "      <td>...</td>\n",
       "      <td>44.6255</td>\n",
       "      <td>-116.4493</td>\n",
       "      <td>129</td>\n",
       "      <td>Cartographer</td>\n",
       "      <td>1965-12-15</td>\n",
       "      <td>14392d723bb7737606b2700ac791b7aa</td>\n",
       "      <td>1388534364</td>\n",
       "      <td>44.470525</td>\n",
       "      <td>-117.080888</td>\n",
       "      <td>0</td>\n",
       "    </tr>\n",
       "    <tr>\n",
       "      <th>1852393</th>\n",
       "      <td>555718</td>\n",
       "      <td>2020-12-31 23:59:34</td>\n",
       "      <td>4170689372027579</td>\n",
       "      <td>fraud_Dare-Marvin</td>\n",
       "      <td>entertainment</td>\n",
       "      <td>38.13</td>\n",
       "      <td>Samuel</td>\n",
       "      <td>Frey</td>\n",
       "      <td>M</td>\n",
       "      <td>830 Myers Plaza Apt. 384</td>\n",
       "      <td>...</td>\n",
       "      <td>35.6665</td>\n",
       "      <td>-97.4798</td>\n",
       "      <td>116001</td>\n",
       "      <td>Media buyer</td>\n",
       "      <td>1993-05-10</td>\n",
       "      <td>1765bb45b3aa3224b4cdcb6e7a96cee3</td>\n",
       "      <td>1388534374</td>\n",
       "      <td>36.210097</td>\n",
       "      <td>-97.036372</td>\n",
       "      <td>0</td>\n",
       "    </tr>\n",
       "  </tbody>\n",
       "</table>\n",
       "<p>4 rows × 23 columns</p>\n",
       "</div>"
      ],
      "text/plain": [
       "         Unnamed: 0 trans_date_trans_time            cc_num  \\\n",
       "0                 0   2019-01-01 00:00:18  2703186189652095   \n",
       "1                 1   2019-01-01 00:00:44      630423337322   \n",
       "1852392      555717   2020-12-31 23:59:24     4079773899158   \n",
       "1852393      555718   2020-12-31 23:59:34  4170689372027579   \n",
       "\n",
       "                                merchant       category     amt      first  \\\n",
       "0             fraud_Rippin, Kub and Mann       misc_net    4.97   Jennifer   \n",
       "1        fraud_Heller, Gutmann and Zieme    grocery_pos  107.23  Stephanie   \n",
       "1852392            fraud_Breitenberg LLC         travel    7.99       Eric   \n",
       "1852393                fraud_Dare-Marvin  entertainment   38.13     Samuel   \n",
       "\n",
       "            last gender                        street  ...      lat      long  \\\n",
       "0          Banks      F                561 Perry Cove  ...  36.0788  -81.1781   \n",
       "1           Gill      F  43039 Riley Greens Suite 393  ...  48.8878 -118.2105   \n",
       "1852392  Preston      M    7020 Doyle Stream Apt. 951  ...  44.6255 -116.4493   \n",
       "1852393     Frey      M      830 Myers Plaza Apt. 384  ...  35.6665  -97.4798   \n",
       "\n",
       "         city_pop                                job         dob  \\\n",
       "0            3495          Psychologist, counselling  1988-03-09   \n",
       "1             149  Special educational needs teacher  1978-06-21   \n",
       "1852392       129                       Cartographer  1965-12-15   \n",
       "1852393    116001                        Media buyer  1993-05-10   \n",
       "\n",
       "                                trans_num   unix_time  merch_lat  merch_long  \\\n",
       "0        0b242abb623afc578575680df30655b9  1325376018  36.011293  -82.048315   \n",
       "1        1f76529f8574734946361c461b024d99  1325376044  49.159047 -118.186462   \n",
       "1852392  14392d723bb7737606b2700ac791b7aa  1388534364  44.470525 -117.080888   \n",
       "1852393  1765bb45b3aa3224b4cdcb6e7a96cee3  1388534374  36.210097  -97.036372   \n",
       "\n",
       "         is_fraud  \n",
       "0               0  \n",
       "1               0  \n",
       "1852392         0  \n",
       "1852393         0  \n",
       "\n",
       "[4 rows x 23 columns]"
      ]
     },
     "execution_count": 74,
     "metadata": {},
     "output_type": "execute_result"
    }
   ],
   "source": [
    "pd.concat([df.head(2),df.tail(2)])"
   ]
  },
  {
   "cell_type": "code",
   "execution_count": 75,
   "id": "6029e5b9-a3d4-4b0e-ba82-83180431be32",
   "metadata": {
    "tags": []
   },
   "outputs": [
    {
     "name": "stdout",
     "output_type": "stream",
     "text": [
      "<class 'pandas.core.frame.DataFrame'>\n",
      "RangeIndex: 1852394 entries, 0 to 1852393\n",
      "Data columns (total 23 columns):\n",
      " #   Column                 Dtype  \n",
      "---  ------                 -----  \n",
      " 0   Unnamed: 0             int64  \n",
      " 1   trans_date_trans_time  object \n",
      " 2   cc_num                 int64  \n",
      " 3   merchant               object \n",
      " 4   category               object \n",
      " 5   amt                    float64\n",
      " 6   first                  object \n",
      " 7   last                   object \n",
      " 8   gender                 object \n",
      " 9   street                 object \n",
      " 10  city                   object \n",
      " 11  state                  object \n",
      " 12  zip                    int64  \n",
      " 13  lat                    float64\n",
      " 14  long                   float64\n",
      " 15  city_pop               int64  \n",
      " 16  job                    object \n",
      " 17  dob                    object \n",
      " 18  trans_num              object \n",
      " 19  unix_time              int64  \n",
      " 20  merch_lat              float64\n",
      " 21  merch_long             float64\n",
      " 22  is_fraud               int64  \n",
      "dtypes: float64(5), int64(6), object(12)\n",
      "memory usage: 325.1+ MB\n"
     ]
    }
   ],
   "source": [
    "df.info()"
   ]
  },
  {
   "cell_type": "code",
   "execution_count": 76,
   "id": "f881dbb0-7716-4011-89e3-35eead49aa8c",
   "metadata": {
    "tags": []
   },
   "outputs": [
    {
     "data": {
      "text/plain": [
       "count    1.852394e+06\n",
       "mean     4.173860e+17\n",
       "std      1.309115e+18\n",
       "min      6.041621e+10\n",
       "25%      1.800429e+14\n",
       "50%      3.521417e+15\n",
       "75%      4.642255e+15\n",
       "max      4.992346e+18\n",
       "Name: cc_num, dtype: float64"
      ]
     },
     "execution_count": 76,
     "metadata": {},
     "output_type": "execute_result"
    }
   ],
   "source": [
    "df['cc_num'].describe()"
   ]
  },
  {
   "cell_type": "code",
   "execution_count": 77,
   "id": "420d6f9a-d49f-417a-a50e-5e8a7f994365",
   "metadata": {
    "tags": []
   },
   "outputs": [
    {
     "data": {
      "text/plain": [
       "is_fraud\n",
       "0    1842743\n",
       "1       9651\n",
       "Name: count, dtype: int64"
      ]
     },
     "execution_count": 77,
     "metadata": {},
     "output_type": "execute_result"
    }
   ],
   "source": [
    "df['is_fraud'].value_counts()"
   ]
  },
  {
   "cell_type": "code",
   "execution_count": 78,
   "id": "f71e21fc-8c27-4a51-a5ca-d3771398c602",
   "metadata": {
    "tags": []
   },
   "outputs": [
    {
     "name": "stdout",
     "output_type": "stream",
     "text": [
      "Unnamed: 0               1296675\n",
      "trans_date_trans_time    1819551\n",
      "cc_num                       999\n",
      "merchant                     693\n",
      "category                      14\n",
      "amt                        60616\n",
      "first                        355\n",
      "last                         486\n",
      "gender                         2\n",
      "street                       999\n",
      "city                         906\n",
      "state                         51\n",
      "zip                          985\n",
      "lat                          983\n",
      "long                         983\n",
      "city_pop                     891\n",
      "job                          497\n",
      "dob                          984\n",
      "trans_num                1852394\n",
      "unix_time                1819583\n",
      "merch_lat                1754157\n",
      "merch_long               1809753\n",
      "is_fraud                       2\n",
      "dtype: int64\n"
     ]
    }
   ],
   "source": [
    "# Check unique value counts for all columns\n",
    "unique_counts = df.nunique()\n",
    "# Display the results\n",
    "print(unique_counts)\n",
    "\n",
    "# # View unique values of a specific column, e.g., 'category'\n",
    "# unique_values = df['category'].unique()\n",
    "# print(unique_values)"
   ]
  },
  {
   "cell_type": "markdown",
   "id": "5531cde6-9997-40e4-b7d9-39438d5bfed5",
   "metadata": {},
   "source": [
    "# 2. Data Cleaning"
   ]
  },
  {
   "cell_type": "raw",
   "id": "51afd213-8d59-44c3-a986-b2facb522982",
   "metadata": {},
   "source": [
    "Handle Missing Values:\n",
    "Impute or drop rows/columns with missing data.\n",
    "\n",
    "Remove Duplicates:\n",
    "Drop duplicate rows if any.\n",
    "\n",
    "Check Data Consistency:\n",
    "Ensure trans_date_trans_time and dob are correctly formatted as datetime."
   ]
  },
  {
   "cell_type": "code",
   "execution_count": 79,
   "id": "aa917b57-7cb7-4a9b-a4fb-acbffa0312e9",
   "metadata": {
    "tags": []
   },
   "outputs": [
    {
     "data": {
      "text/plain": [
       "Unnamed: 0               0\n",
       "trans_date_trans_time    0\n",
       "cc_num                   0\n",
       "merchant                 0\n",
       "category                 0\n",
       "amt                      0\n",
       "first                    0\n",
       "last                     0\n",
       "gender                   0\n",
       "street                   0\n",
       "city                     0\n",
       "state                    0\n",
       "zip                      0\n",
       "lat                      0\n",
       "long                     0\n",
       "city_pop                 0\n",
       "job                      0\n",
       "dob                      0\n",
       "trans_num                0\n",
       "unix_time                0\n",
       "merch_lat                0\n",
       "merch_long               0\n",
       "is_fraud                 0\n",
       "dtype: int64"
      ]
     },
     "execution_count": 79,
     "metadata": {},
     "output_type": "execute_result"
    }
   ],
   "source": [
    "df.isnull().sum()"
   ]
  },
  {
   "cell_type": "code",
   "execution_count": 80,
   "id": "42c5c9d8-fd97-4ff5-bfbc-4d1cfd385337",
   "metadata": {
    "tags": []
   },
   "outputs": [
    {
     "data": {
      "text/plain": [
       "0"
      ]
     },
     "execution_count": 80,
     "metadata": {},
     "output_type": "execute_result"
    }
   ],
   "source": [
    "df.duplicated().sum()"
   ]
  },
  {
   "cell_type": "code",
   "execution_count": 81,
   "id": "f776e877-cf12-4559-8067-69c4506e6dbe",
   "metadata": {
    "tags": []
   },
   "outputs": [
    {
     "name": "stdout",
     "output_type": "stream",
     "text": [
      "Empty DataFrame\n",
      "Columns: [Unnamed: 0, trans_date_trans_time, cc_num, merchant, category, amt, first, last, gender, street, city, state, zip, lat, long, city_pop, job, dob, trans_num, unix_time, merch_lat, merch_long, is_fraud]\n",
      "Index: []\n",
      "\n",
      "[0 rows x 23 columns]\n"
     ]
    }
   ],
   "source": [
    "# Check for duplicate rows\n",
    "duplicates = df[df.duplicated()]\n",
    "print(duplicates)"
   ]
  },
  {
   "cell_type": "code",
   "execution_count": 231,
   "id": "f58c767f-c4b3-46d1-b991-fd1d01541815",
   "metadata": {
    "tags": []
   },
   "outputs": [],
   "source": [
    "df['trans_date_trans_time'] = pd.to_datetime(df['trans_date_trans_time'])\n",
    "df['dob'] = pd.to_datetime(df['dob'])"
   ]
  },
  {
   "cell_type": "code",
   "execution_count": 146,
   "id": "461b9270-6a9e-431f-9a68-35f2a0c94c84",
   "metadata": {
    "tags": []
   },
   "outputs": [
    {
     "name": "stdout",
     "output_type": "stream",
     "text": [
      "<class 'pandas.core.frame.DataFrame'>\n",
      "RangeIndex: 1852394 entries, 0 to 1852393\n",
      "Data columns (total 23 columns):\n",
      " #   Column                 Dtype         \n",
      "---  ------                 -----         \n",
      " 0   Unnamed: 0             int64         \n",
      " 1   trans_date_trans_time  datetime64[ns]\n",
      " 2   cc_num                 int64         \n",
      " 3   merchant               object        \n",
      " 4   category               object        \n",
      " 5   amt                    float64       \n",
      " 6   first                  object        \n",
      " 7   last                   object        \n",
      " 8   gender                 object        \n",
      " 9   street                 object        \n",
      " 10  city                   object        \n",
      " 11  state                  object        \n",
      " 12  zip                    int64         \n",
      " 13  lat                    float64       \n",
      " 14  long                   float64       \n",
      " 15  city_pop               int64         \n",
      " 16  job                    object        \n",
      " 17  dob                    datetime64[ns]\n",
      " 18  trans_num              object        \n",
      " 19  unix_time              int64         \n",
      " 20  merch_lat              float64       \n",
      " 21  merch_long             float64       \n",
      " 22  is_fraud               int64         \n",
      "dtypes: datetime64[ns](2), float64(5), int64(6), object(10)\n",
      "memory usage: 325.1+ MB\n"
     ]
    }
   ],
   "source": [
    "df.info()"
   ]
  },
  {
   "cell_type": "markdown",
   "id": "87d8576b-fdcd-47d8-81a1-4c42ff48f93c",
   "metadata": {
    "tags": []
   },
   "source": [
    "# 3. Feature Engineering"
   ]
  },
  {
   "cell_type": "raw",
   "id": "c277594b-7749-4721-9537-6d742e762ecd",
   "metadata": {},
   "source": [
    "1-Date Features:"
   ]
  },
  {
   "cell_type": "code",
   "execution_count": 232,
   "id": "a00ca47e-1f8f-4ca9-b098-600733105fc9",
   "metadata": {
    "tags": []
   },
   "outputs": [],
   "source": [
    "from datetime import datetime\n",
    "\n",
    "# Calculate age of the customer at the time of the transaction\n",
    "current_date = datetime.now()  # or use a fixed reference date if needed\n",
    "df['age'] = (df['trans_date_trans_time'] - df['dob']).dt.days // 365"
   ]
  },
  {
   "cell_type": "code",
   "execution_count": 148,
   "id": "a225c70a-7432-4c6c-9f89-1be7442d16d3",
   "metadata": {
    "tags": []
   },
   "outputs": [
    {
     "data": {
      "text/html": [
       "<div>\n",
       "<style scoped>\n",
       "    .dataframe tbody tr th:only-of-type {\n",
       "        vertical-align: middle;\n",
       "    }\n",
       "\n",
       "    .dataframe tbody tr th {\n",
       "        vertical-align: top;\n",
       "    }\n",
       "\n",
       "    .dataframe thead th {\n",
       "        text-align: right;\n",
       "    }\n",
       "</style>\n",
       "<table border=\"1\" class=\"dataframe\">\n",
       "  <thead>\n",
       "    <tr style=\"text-align: right;\">\n",
       "      <th></th>\n",
       "      <th>Unnamed: 0</th>\n",
       "      <th>trans_date_trans_time</th>\n",
       "      <th>cc_num</th>\n",
       "      <th>merchant</th>\n",
       "      <th>category</th>\n",
       "      <th>amt</th>\n",
       "      <th>first</th>\n",
       "      <th>last</th>\n",
       "      <th>gender</th>\n",
       "      <th>street</th>\n",
       "      <th>...</th>\n",
       "      <th>long</th>\n",
       "      <th>city_pop</th>\n",
       "      <th>job</th>\n",
       "      <th>dob</th>\n",
       "      <th>trans_num</th>\n",
       "      <th>unix_time</th>\n",
       "      <th>merch_lat</th>\n",
       "      <th>merch_long</th>\n",
       "      <th>is_fraud</th>\n",
       "      <th>age</th>\n",
       "    </tr>\n",
       "  </thead>\n",
       "  <tbody>\n",
       "    <tr>\n",
       "      <th>0</th>\n",
       "      <td>0</td>\n",
       "      <td>2019-01-01 00:00:18</td>\n",
       "      <td>2703186189652095</td>\n",
       "      <td>fraud_Rippin, Kub and Mann</td>\n",
       "      <td>misc_net</td>\n",
       "      <td>4.97</td>\n",
       "      <td>Jennifer</td>\n",
       "      <td>Banks</td>\n",
       "      <td>F</td>\n",
       "      <td>561 Perry Cove</td>\n",
       "      <td>...</td>\n",
       "      <td>-81.1781</td>\n",
       "      <td>3495</td>\n",
       "      <td>Psychologist, counselling</td>\n",
       "      <td>1988-03-09</td>\n",
       "      <td>0b242abb623afc578575680df30655b9</td>\n",
       "      <td>1325376018</td>\n",
       "      <td>36.011293</td>\n",
       "      <td>-82.048315</td>\n",
       "      <td>0</td>\n",
       "      <td>30</td>\n",
       "    </tr>\n",
       "    <tr>\n",
       "      <th>1</th>\n",
       "      <td>1</td>\n",
       "      <td>2019-01-01 00:00:44</td>\n",
       "      <td>630423337322</td>\n",
       "      <td>fraud_Heller, Gutmann and Zieme</td>\n",
       "      <td>grocery_pos</td>\n",
       "      <td>107.23</td>\n",
       "      <td>Stephanie</td>\n",
       "      <td>Gill</td>\n",
       "      <td>F</td>\n",
       "      <td>43039 Riley Greens Suite 393</td>\n",
       "      <td>...</td>\n",
       "      <td>-118.2105</td>\n",
       "      <td>149</td>\n",
       "      <td>Special educational needs teacher</td>\n",
       "      <td>1978-06-21</td>\n",
       "      <td>1f76529f8574734946361c461b024d99</td>\n",
       "      <td>1325376044</td>\n",
       "      <td>49.159047</td>\n",
       "      <td>-118.186462</td>\n",
       "      <td>0</td>\n",
       "      <td>40</td>\n",
       "    </tr>\n",
       "    <tr>\n",
       "      <th>2</th>\n",
       "      <td>2</td>\n",
       "      <td>2019-01-01 00:00:51</td>\n",
       "      <td>38859492057661</td>\n",
       "      <td>fraud_Lind-Buckridge</td>\n",
       "      <td>entertainment</td>\n",
       "      <td>220.11</td>\n",
       "      <td>Edward</td>\n",
       "      <td>Sanchez</td>\n",
       "      <td>M</td>\n",
       "      <td>594 White Dale Suite 530</td>\n",
       "      <td>...</td>\n",
       "      <td>-112.2620</td>\n",
       "      <td>4154</td>\n",
       "      <td>Nature conservation officer</td>\n",
       "      <td>1962-01-19</td>\n",
       "      <td>a1a22d70485983eac12b5b88dad1cf95</td>\n",
       "      <td>1325376051</td>\n",
       "      <td>43.150704</td>\n",
       "      <td>-112.154481</td>\n",
       "      <td>0</td>\n",
       "      <td>56</td>\n",
       "    </tr>\n",
       "    <tr>\n",
       "      <th>3</th>\n",
       "      <td>3</td>\n",
       "      <td>2019-01-01 00:01:16</td>\n",
       "      <td>3534093764340240</td>\n",
       "      <td>fraud_Kutch, Hermiston and Farrell</td>\n",
       "      <td>gas_transport</td>\n",
       "      <td>45.00</td>\n",
       "      <td>Jeremy</td>\n",
       "      <td>White</td>\n",
       "      <td>M</td>\n",
       "      <td>9443 Cynthia Court Apt. 038</td>\n",
       "      <td>...</td>\n",
       "      <td>-112.1138</td>\n",
       "      <td>1939</td>\n",
       "      <td>Patent attorney</td>\n",
       "      <td>1967-01-12</td>\n",
       "      <td>6b849c168bdad6f867558c3793159a81</td>\n",
       "      <td>1325376076</td>\n",
       "      <td>47.034331</td>\n",
       "      <td>-112.561071</td>\n",
       "      <td>0</td>\n",
       "      <td>52</td>\n",
       "    </tr>\n",
       "  </tbody>\n",
       "</table>\n",
       "<p>4 rows × 24 columns</p>\n",
       "</div>"
      ],
      "text/plain": [
       "   Unnamed: 0 trans_date_trans_time            cc_num  \\\n",
       "0           0   2019-01-01 00:00:18  2703186189652095   \n",
       "1           1   2019-01-01 00:00:44      630423337322   \n",
       "2           2   2019-01-01 00:00:51    38859492057661   \n",
       "3           3   2019-01-01 00:01:16  3534093764340240   \n",
       "\n",
       "                             merchant       category     amt      first  \\\n",
       "0          fraud_Rippin, Kub and Mann       misc_net    4.97   Jennifer   \n",
       "1     fraud_Heller, Gutmann and Zieme    grocery_pos  107.23  Stephanie   \n",
       "2                fraud_Lind-Buckridge  entertainment  220.11     Edward   \n",
       "3  fraud_Kutch, Hermiston and Farrell  gas_transport   45.00     Jeremy   \n",
       "\n",
       "      last gender                        street  ...      long city_pop  \\\n",
       "0    Banks      F                561 Perry Cove  ...  -81.1781     3495   \n",
       "1     Gill      F  43039 Riley Greens Suite 393  ... -118.2105      149   \n",
       "2  Sanchez      M      594 White Dale Suite 530  ... -112.2620     4154   \n",
       "3    White      M   9443 Cynthia Court Apt. 038  ... -112.1138     1939   \n",
       "\n",
       "                                 job        dob  \\\n",
       "0          Psychologist, counselling 1988-03-09   \n",
       "1  Special educational needs teacher 1978-06-21   \n",
       "2        Nature conservation officer 1962-01-19   \n",
       "3                    Patent attorney 1967-01-12   \n",
       "\n",
       "                          trans_num   unix_time  merch_lat  merch_long  \\\n",
       "0  0b242abb623afc578575680df30655b9  1325376018  36.011293  -82.048315   \n",
       "1  1f76529f8574734946361c461b024d99  1325376044  49.159047 -118.186462   \n",
       "2  a1a22d70485983eac12b5b88dad1cf95  1325376051  43.150704 -112.154481   \n",
       "3  6b849c168bdad6f867558c3793159a81  1325376076  47.034331 -112.561071   \n",
       "\n",
       "  is_fraud  age  \n",
       "0        0   30  \n",
       "1        0   40  \n",
       "2        0   56  \n",
       "3        0   52  \n",
       "\n",
       "[4 rows x 24 columns]"
      ]
     },
     "execution_count": 148,
     "metadata": {},
     "output_type": "execute_result"
    }
   ],
   "source": [
    "df.head(4)"
   ]
  },
  {
   "cell_type": "raw",
   "id": "f5360169-7026-4979-9734-411d0a58470e",
   "metadata": {},
   "source": [
    "trans_hour: Captures the hour of the transaction to detect unusual timing.\n",
    "trans_day_of_week: Represents the day of the week (0=Monday, 6=Sunday).\n",
    "trans_weekend: Flags whether the transaction occurred on a weekend (Saturday or Sunday).\n",
    "trans_month: Extracts the month of the transaction to account for seasonal patterns."
   ]
  },
  {
   "cell_type": "code",
   "execution_count": 233,
   "id": "0d2c67ef-12d9-49de-9f12-5176f1b8dda3",
   "metadata": {
    "tags": []
   },
   "outputs": [],
   "source": [
    "# Extract useful features from transaction datetime\n",
    "df['trans_hour'] = df['trans_date_trans_time'].dt.hour  # Hour of the transaction\n",
    "df['trans_day_of_week'] = df['trans_date_trans_time'].dt.dayofweek  # Day of the week (0=Monday, 6=Sunday)\n",
    "df['trans_weekend'] = df['trans_day_of_week'].apply(lambda x: 1 if x >= 5 else 0)  # Weekend indicator (1=Weekend, 0=Weekday)\n",
    "df['trans_month'] = df['trans_date_trans_time'].dt.month  # Month of the transaction"
   ]
  },
  {
   "cell_type": "code",
   "execution_count": 150,
   "id": "d1c315df-72aa-4202-b874-792457707e8d",
   "metadata": {
    "tags": []
   },
   "outputs": [
    {
     "data": {
      "text/html": [
       "<div>\n",
       "<style scoped>\n",
       "    .dataframe tbody tr th:only-of-type {\n",
       "        vertical-align: middle;\n",
       "    }\n",
       "\n",
       "    .dataframe tbody tr th {\n",
       "        vertical-align: top;\n",
       "    }\n",
       "\n",
       "    .dataframe thead th {\n",
       "        text-align: right;\n",
       "    }\n",
       "</style>\n",
       "<table border=\"1\" class=\"dataframe\">\n",
       "  <thead>\n",
       "    <tr style=\"text-align: right;\">\n",
       "      <th></th>\n",
       "      <th>Unnamed: 0</th>\n",
       "      <th>trans_date_trans_time</th>\n",
       "      <th>cc_num</th>\n",
       "      <th>merchant</th>\n",
       "      <th>category</th>\n",
       "      <th>amt</th>\n",
       "      <th>first</th>\n",
       "      <th>last</th>\n",
       "      <th>gender</th>\n",
       "      <th>street</th>\n",
       "      <th>...</th>\n",
       "      <th>trans_num</th>\n",
       "      <th>unix_time</th>\n",
       "      <th>merch_lat</th>\n",
       "      <th>merch_long</th>\n",
       "      <th>is_fraud</th>\n",
       "      <th>age</th>\n",
       "      <th>trans_hour</th>\n",
       "      <th>trans_day_of_week</th>\n",
       "      <th>trans_weekend</th>\n",
       "      <th>trans_month</th>\n",
       "    </tr>\n",
       "  </thead>\n",
       "  <tbody>\n",
       "    <tr>\n",
       "      <th>0</th>\n",
       "      <td>0</td>\n",
       "      <td>2019-01-01 00:00:18</td>\n",
       "      <td>2703186189652095</td>\n",
       "      <td>fraud_Rippin, Kub and Mann</td>\n",
       "      <td>misc_net</td>\n",
       "      <td>4.97</td>\n",
       "      <td>Jennifer</td>\n",
       "      <td>Banks</td>\n",
       "      <td>F</td>\n",
       "      <td>561 Perry Cove</td>\n",
       "      <td>...</td>\n",
       "      <td>0b242abb623afc578575680df30655b9</td>\n",
       "      <td>1325376018</td>\n",
       "      <td>36.011293</td>\n",
       "      <td>-82.048315</td>\n",
       "      <td>0</td>\n",
       "      <td>30</td>\n",
       "      <td>0</td>\n",
       "      <td>1</td>\n",
       "      <td>0</td>\n",
       "      <td>1</td>\n",
       "    </tr>\n",
       "    <tr>\n",
       "      <th>1</th>\n",
       "      <td>1</td>\n",
       "      <td>2019-01-01 00:00:44</td>\n",
       "      <td>630423337322</td>\n",
       "      <td>fraud_Heller, Gutmann and Zieme</td>\n",
       "      <td>grocery_pos</td>\n",
       "      <td>107.23</td>\n",
       "      <td>Stephanie</td>\n",
       "      <td>Gill</td>\n",
       "      <td>F</td>\n",
       "      <td>43039 Riley Greens Suite 393</td>\n",
       "      <td>...</td>\n",
       "      <td>1f76529f8574734946361c461b024d99</td>\n",
       "      <td>1325376044</td>\n",
       "      <td>49.159047</td>\n",
       "      <td>-118.186462</td>\n",
       "      <td>0</td>\n",
       "      <td>40</td>\n",
       "      <td>0</td>\n",
       "      <td>1</td>\n",
       "      <td>0</td>\n",
       "      <td>1</td>\n",
       "    </tr>\n",
       "    <tr>\n",
       "      <th>2</th>\n",
       "      <td>2</td>\n",
       "      <td>2019-01-01 00:00:51</td>\n",
       "      <td>38859492057661</td>\n",
       "      <td>fraud_Lind-Buckridge</td>\n",
       "      <td>entertainment</td>\n",
       "      <td>220.11</td>\n",
       "      <td>Edward</td>\n",
       "      <td>Sanchez</td>\n",
       "      <td>M</td>\n",
       "      <td>594 White Dale Suite 530</td>\n",
       "      <td>...</td>\n",
       "      <td>a1a22d70485983eac12b5b88dad1cf95</td>\n",
       "      <td>1325376051</td>\n",
       "      <td>43.150704</td>\n",
       "      <td>-112.154481</td>\n",
       "      <td>0</td>\n",
       "      <td>56</td>\n",
       "      <td>0</td>\n",
       "      <td>1</td>\n",
       "      <td>0</td>\n",
       "      <td>1</td>\n",
       "    </tr>\n",
       "    <tr>\n",
       "      <th>3</th>\n",
       "      <td>3</td>\n",
       "      <td>2019-01-01 00:01:16</td>\n",
       "      <td>3534093764340240</td>\n",
       "      <td>fraud_Kutch, Hermiston and Farrell</td>\n",
       "      <td>gas_transport</td>\n",
       "      <td>45.00</td>\n",
       "      <td>Jeremy</td>\n",
       "      <td>White</td>\n",
       "      <td>M</td>\n",
       "      <td>9443 Cynthia Court Apt. 038</td>\n",
       "      <td>...</td>\n",
       "      <td>6b849c168bdad6f867558c3793159a81</td>\n",
       "      <td>1325376076</td>\n",
       "      <td>47.034331</td>\n",
       "      <td>-112.561071</td>\n",
       "      <td>0</td>\n",
       "      <td>52</td>\n",
       "      <td>0</td>\n",
       "      <td>1</td>\n",
       "      <td>0</td>\n",
       "      <td>1</td>\n",
       "    </tr>\n",
       "  </tbody>\n",
       "</table>\n",
       "<p>4 rows × 28 columns</p>\n",
       "</div>"
      ],
      "text/plain": [
       "   Unnamed: 0 trans_date_trans_time            cc_num  \\\n",
       "0           0   2019-01-01 00:00:18  2703186189652095   \n",
       "1           1   2019-01-01 00:00:44      630423337322   \n",
       "2           2   2019-01-01 00:00:51    38859492057661   \n",
       "3           3   2019-01-01 00:01:16  3534093764340240   \n",
       "\n",
       "                             merchant       category     amt      first  \\\n",
       "0          fraud_Rippin, Kub and Mann       misc_net    4.97   Jennifer   \n",
       "1     fraud_Heller, Gutmann and Zieme    grocery_pos  107.23  Stephanie   \n",
       "2                fraud_Lind-Buckridge  entertainment  220.11     Edward   \n",
       "3  fraud_Kutch, Hermiston and Farrell  gas_transport   45.00     Jeremy   \n",
       "\n",
       "      last gender                        street  ...  \\\n",
       "0    Banks      F                561 Perry Cove  ...   \n",
       "1     Gill      F  43039 Riley Greens Suite 393  ...   \n",
       "2  Sanchez      M      594 White Dale Suite 530  ...   \n",
       "3    White      M   9443 Cynthia Court Apt. 038  ...   \n",
       "\n",
       "                          trans_num   unix_time  merch_lat  merch_long  \\\n",
       "0  0b242abb623afc578575680df30655b9  1325376018  36.011293  -82.048315   \n",
       "1  1f76529f8574734946361c461b024d99  1325376044  49.159047 -118.186462   \n",
       "2  a1a22d70485983eac12b5b88dad1cf95  1325376051  43.150704 -112.154481   \n",
       "3  6b849c168bdad6f867558c3793159a81  1325376076  47.034331 -112.561071   \n",
       "\n",
       "   is_fraud  age trans_hour trans_day_of_week trans_weekend  trans_month  \n",
       "0         0   30          0                 1             0            1  \n",
       "1         0   40          0                 1             0            1  \n",
       "2         0   56          0                 1             0            1  \n",
       "3         0   52          0                 1             0            1  \n",
       "\n",
       "[4 rows x 28 columns]"
      ]
     },
     "execution_count": 150,
     "metadata": {},
     "output_type": "execute_result"
    }
   ],
   "source": [
    "df.head(4)"
   ]
  },
  {
   "cell_type": "raw",
   "id": "c12c3ac2-d8aa-4cf2-89b6-140e42d22729",
   "metadata": {},
   "source": [
    "2-Geographical Features:\n",
    "Calculate the distance between transaction location (merch_lat, merch_long) and customer location (lat, long)."
   ]
  },
  {
   "cell_type": "code",
   "execution_count": 234,
   "id": "eedcd572-2910-46c4-aacc-c0d10847cc0c",
   "metadata": {
    "tags": []
   },
   "outputs": [],
   "source": [
    "import numpy as np\n",
    "from scipy.spatial.distance import cdist\n",
    "\n",
    "def haversine_vectorized(points1, points2):\n",
    "    \"\"\"\n",
    "    Calculate the Haversine distance between two arrays of latitude/longitude points.\n",
    "    Parameters:\n",
    "        points1: Array of shape (n, 2) with latitudes and longitudes of first set of points\n",
    "        points2: Array of shape (n, 2) with latitudes and longitudes of second set of points\n",
    "    Returns:\n",
    "        Array of distances in kilometers\n",
    "    \"\"\"\n",
    "    # Convert degrees to radians\n",
    "    points1 = np.radians(points1)\n",
    "    points2 = np.radians(points2)\n",
    "\n",
    "    # Extract latitudes and longitudes\n",
    "    lat1, lon1 = points1[:, 0], points1[:, 1]\n",
    "    lat2, lon2 = points2[:, 0], points2[:, 1]\n",
    "\n",
    "    # Haversine formula\n",
    "    dlat = lat2 - lat1\n",
    "    dlon = lon2 - lon1\n",
    "    a = np.sin(dlat / 2.0)**2 + np.cos(lat1) * np.cos(lat2) * np.sin(dlon / 2.0)**2\n",
    "    c = 2 * np.arcsin(np.sqrt(a))\n",
    "    radius_earth_km = 6371  # Radius of Earth in kilometers\n",
    "    return radius_earth_km * c\n",
    "\n",
    "# Prepare data\n",
    "customer_points = df[['lat', 'long']].values  # Customer latitude and longitude\n",
    "merchant_points = df[['merch_lat', 'merch_long']].values  # Merchant latitude and longitude\n",
    "\n",
    "# Calculate distances\n",
    "df['distance'] = haversine_vectorized(customer_points, merchant_points)"
   ]
  },
  {
   "cell_type": "code",
   "execution_count": 152,
   "id": "0cb0e85f-67c3-4117-ae60-f81fb9a040ae",
   "metadata": {
    "tags": []
   },
   "outputs": [
    {
     "data": {
      "text/html": [
       "<div>\n",
       "<style scoped>\n",
       "    .dataframe tbody tr th:only-of-type {\n",
       "        vertical-align: middle;\n",
       "    }\n",
       "\n",
       "    .dataframe tbody tr th {\n",
       "        vertical-align: top;\n",
       "    }\n",
       "\n",
       "    .dataframe thead th {\n",
       "        text-align: right;\n",
       "    }\n",
       "</style>\n",
       "<table border=\"1\" class=\"dataframe\">\n",
       "  <thead>\n",
       "    <tr style=\"text-align: right;\">\n",
       "      <th></th>\n",
       "      <th>Unnamed: 0</th>\n",
       "      <th>trans_date_trans_time</th>\n",
       "      <th>cc_num</th>\n",
       "      <th>merchant</th>\n",
       "      <th>category</th>\n",
       "      <th>amt</th>\n",
       "      <th>first</th>\n",
       "      <th>last</th>\n",
       "      <th>gender</th>\n",
       "      <th>street</th>\n",
       "      <th>...</th>\n",
       "      <th>unix_time</th>\n",
       "      <th>merch_lat</th>\n",
       "      <th>merch_long</th>\n",
       "      <th>is_fraud</th>\n",
       "      <th>age</th>\n",
       "      <th>trans_hour</th>\n",
       "      <th>trans_day_of_week</th>\n",
       "      <th>trans_weekend</th>\n",
       "      <th>trans_month</th>\n",
       "      <th>distance</th>\n",
       "    </tr>\n",
       "  </thead>\n",
       "  <tbody>\n",
       "    <tr>\n",
       "      <th>0</th>\n",
       "      <td>0</td>\n",
       "      <td>2019-01-01 00:00:18</td>\n",
       "      <td>2703186189652095</td>\n",
       "      <td>fraud_Rippin, Kub and Mann</td>\n",
       "      <td>misc_net</td>\n",
       "      <td>4.97</td>\n",
       "      <td>Jennifer</td>\n",
       "      <td>Banks</td>\n",
       "      <td>F</td>\n",
       "      <td>561 Perry Cove</td>\n",
       "      <td>...</td>\n",
       "      <td>1325376018</td>\n",
       "      <td>36.011293</td>\n",
       "      <td>-82.048315</td>\n",
       "      <td>0</td>\n",
       "      <td>30</td>\n",
       "      <td>0</td>\n",
       "      <td>1</td>\n",
       "      <td>0</td>\n",
       "      <td>1</td>\n",
       "      <td>78.597568</td>\n",
       "    </tr>\n",
       "    <tr>\n",
       "      <th>1</th>\n",
       "      <td>1</td>\n",
       "      <td>2019-01-01 00:00:44</td>\n",
       "      <td>630423337322</td>\n",
       "      <td>fraud_Heller, Gutmann and Zieme</td>\n",
       "      <td>grocery_pos</td>\n",
       "      <td>107.23</td>\n",
       "      <td>Stephanie</td>\n",
       "      <td>Gill</td>\n",
       "      <td>F</td>\n",
       "      <td>43039 Riley Greens Suite 393</td>\n",
       "      <td>...</td>\n",
       "      <td>1325376044</td>\n",
       "      <td>49.159047</td>\n",
       "      <td>-118.186462</td>\n",
       "      <td>0</td>\n",
       "      <td>40</td>\n",
       "      <td>0</td>\n",
       "      <td>1</td>\n",
       "      <td>0</td>\n",
       "      <td>1</td>\n",
       "      <td>30.212176</td>\n",
       "    </tr>\n",
       "    <tr>\n",
       "      <th>2</th>\n",
       "      <td>2</td>\n",
       "      <td>2019-01-01 00:00:51</td>\n",
       "      <td>38859492057661</td>\n",
       "      <td>fraud_Lind-Buckridge</td>\n",
       "      <td>entertainment</td>\n",
       "      <td>220.11</td>\n",
       "      <td>Edward</td>\n",
       "      <td>Sanchez</td>\n",
       "      <td>M</td>\n",
       "      <td>594 White Dale Suite 530</td>\n",
       "      <td>...</td>\n",
       "      <td>1325376051</td>\n",
       "      <td>43.150704</td>\n",
       "      <td>-112.154481</td>\n",
       "      <td>0</td>\n",
       "      <td>56</td>\n",
       "      <td>0</td>\n",
       "      <td>1</td>\n",
       "      <td>0</td>\n",
       "      <td>1</td>\n",
       "      <td>108.206083</td>\n",
       "    </tr>\n",
       "    <tr>\n",
       "      <th>3</th>\n",
       "      <td>3</td>\n",
       "      <td>2019-01-01 00:01:16</td>\n",
       "      <td>3534093764340240</td>\n",
       "      <td>fraud_Kutch, Hermiston and Farrell</td>\n",
       "      <td>gas_transport</td>\n",
       "      <td>45.00</td>\n",
       "      <td>Jeremy</td>\n",
       "      <td>White</td>\n",
       "      <td>M</td>\n",
       "      <td>9443 Cynthia Court Apt. 038</td>\n",
       "      <td>...</td>\n",
       "      <td>1325376076</td>\n",
       "      <td>47.034331</td>\n",
       "      <td>-112.561071</td>\n",
       "      <td>0</td>\n",
       "      <td>52</td>\n",
       "      <td>0</td>\n",
       "      <td>1</td>\n",
       "      <td>0</td>\n",
       "      <td>1</td>\n",
       "      <td>95.673231</td>\n",
       "    </tr>\n",
       "  </tbody>\n",
       "</table>\n",
       "<p>4 rows × 29 columns</p>\n",
       "</div>"
      ],
      "text/plain": [
       "   Unnamed: 0 trans_date_trans_time            cc_num  \\\n",
       "0           0   2019-01-01 00:00:18  2703186189652095   \n",
       "1           1   2019-01-01 00:00:44      630423337322   \n",
       "2           2   2019-01-01 00:00:51    38859492057661   \n",
       "3           3   2019-01-01 00:01:16  3534093764340240   \n",
       "\n",
       "                             merchant       category     amt      first  \\\n",
       "0          fraud_Rippin, Kub and Mann       misc_net    4.97   Jennifer   \n",
       "1     fraud_Heller, Gutmann and Zieme    grocery_pos  107.23  Stephanie   \n",
       "2                fraud_Lind-Buckridge  entertainment  220.11     Edward   \n",
       "3  fraud_Kutch, Hermiston and Farrell  gas_transport   45.00     Jeremy   \n",
       "\n",
       "      last gender                        street  ...   unix_time  merch_lat  \\\n",
       "0    Banks      F                561 Perry Cove  ...  1325376018  36.011293   \n",
       "1     Gill      F  43039 Riley Greens Suite 393  ...  1325376044  49.159047   \n",
       "2  Sanchez      M      594 White Dale Suite 530  ...  1325376051  43.150704   \n",
       "3    White      M   9443 Cynthia Court Apt. 038  ...  1325376076  47.034331   \n",
       "\n",
       "   merch_long  is_fraud  age  trans_hour trans_day_of_week trans_weekend  \\\n",
       "0  -82.048315         0   30           0                 1             0   \n",
       "1 -118.186462         0   40           0                 1             0   \n",
       "2 -112.154481         0   56           0                 1             0   \n",
       "3 -112.561071         0   52           0                 1             0   \n",
       "\n",
       "  trans_month    distance  \n",
       "0           1   78.597568  \n",
       "1           1   30.212176  \n",
       "2           1  108.206083  \n",
       "3           1   95.673231  \n",
       "\n",
       "[4 rows x 29 columns]"
      ]
     },
     "execution_count": 152,
     "metadata": {},
     "output_type": "execute_result"
    }
   ],
   "source": [
    "df.head(4)"
   ]
  },
  {
   "cell_type": "raw",
   "id": "1a0a6ca9-e30e-41bf-9cd8-880ade720e27",
   "metadata": {},
   "source": [
    "3-Aggregate Features:\n",
    "Group transactions by cc_num or category to compute statistics like average transaction amount or fraud count.\n",
    "\n",
    "Detect Behavioral Patterns\n",
    "Per Credit Card (cc_num):\n",
    "Identifying typical spending patterns (e.g., average transaction amount, frequency of transactions) helps detect deviations.\n",
    "For instance, a card that normally has low-value transactions suddenly has a high-value transaction, which could be suspicious.\n",
    "Per Category:\n",
    "Certain categories may have higher fraud risk (e.g., luxury goods or digital products).\n",
    "Aggregates like the total count of transactions or fraud occurrences in a category can highlight suspicious trends.\n",
    "\n",
    "avg_amt: Average transaction amount for each credit card.\n",
    "total_transactions: Total number of transactions for each credit card.\n",
    "total_fraud: Total number of fraudulent transactions for each credit card.\n",
    "fraud_rate: Proportion of fraudulent transactions for each credit card."
   ]
  },
  {
   "cell_type": "code",
   "execution_count": 235,
   "id": "b1a660b4-04e6-4e86-b4a5-fb9dd52ea104",
   "metadata": {
    "tags": []
   },
   "outputs": [],
   "source": [
    "# Aggregate by cc_num (Credit Card Number)\n",
    "cc_aggregates = df.groupby('cc_num').agg(\n",
    "    avg_amt=('amt', 'mean'),                  # Average transaction amount\n",
    "    total_transactions=('amt', 'count'),     # Total number of transactions\n",
    "    total_fraud=('is_fraud', 'sum'),         # Total number of fraudulent transactions\n",
    "    fraud_rate=('is_fraud', 'mean')          # Fraud rate (fraction of fraudulent transactions)\n",
    ").reset_index()\n",
    "\n",
    "# Merge the aggregated features back into the original DataFrame\n",
    "df = df.merge(cc_aggregates, on='cc_num', how='left')"
   ]
  },
  {
   "cell_type": "code",
   "execution_count": 154,
   "id": "e8b4b40b-d67c-4ac6-92a0-9ef43cf8d514",
   "metadata": {
    "tags": []
   },
   "outputs": [
    {
     "data": {
      "text/html": [
       "<div>\n",
       "<style scoped>\n",
       "    .dataframe tbody tr th:only-of-type {\n",
       "        vertical-align: middle;\n",
       "    }\n",
       "\n",
       "    .dataframe tbody tr th {\n",
       "        vertical-align: top;\n",
       "    }\n",
       "\n",
       "    .dataframe thead th {\n",
       "        text-align: right;\n",
       "    }\n",
       "</style>\n",
       "<table border=\"1\" class=\"dataframe\">\n",
       "  <thead>\n",
       "    <tr style=\"text-align: right;\">\n",
       "      <th></th>\n",
       "      <th>Unnamed: 0</th>\n",
       "      <th>trans_date_trans_time</th>\n",
       "      <th>cc_num</th>\n",
       "      <th>merchant</th>\n",
       "      <th>category</th>\n",
       "      <th>amt</th>\n",
       "      <th>first</th>\n",
       "      <th>last</th>\n",
       "      <th>gender</th>\n",
       "      <th>street</th>\n",
       "      <th>...</th>\n",
       "      <th>age</th>\n",
       "      <th>trans_hour</th>\n",
       "      <th>trans_day_of_week</th>\n",
       "      <th>trans_weekend</th>\n",
       "      <th>trans_month</th>\n",
       "      <th>distance</th>\n",
       "      <th>avg_amt</th>\n",
       "      <th>total_transactions</th>\n",
       "      <th>total_fraud</th>\n",
       "      <th>fraud_rate</th>\n",
       "    </tr>\n",
       "  </thead>\n",
       "  <tbody>\n",
       "    <tr>\n",
       "      <th>0</th>\n",
       "      <td>0</td>\n",
       "      <td>2019-01-01 00:00:18</td>\n",
       "      <td>2703186189652095</td>\n",
       "      <td>fraud_Rippin, Kub and Mann</td>\n",
       "      <td>misc_net</td>\n",
       "      <td>4.97</td>\n",
       "      <td>Jennifer</td>\n",
       "      <td>Banks</td>\n",
       "      <td>F</td>\n",
       "      <td>561 Perry Cove</td>\n",
       "      <td>...</td>\n",
       "      <td>30</td>\n",
       "      <td>0</td>\n",
       "      <td>1</td>\n",
       "      <td>0</td>\n",
       "      <td>1</td>\n",
       "      <td>78.597568</td>\n",
       "      <td>89.408743</td>\n",
       "      <td>2927</td>\n",
       "      <td>11</td>\n",
       "      <td>0.003758</td>\n",
       "    </tr>\n",
       "    <tr>\n",
       "      <th>1</th>\n",
       "      <td>1</td>\n",
       "      <td>2019-01-01 00:00:44</td>\n",
       "      <td>630423337322</td>\n",
       "      <td>fraud_Heller, Gutmann and Zieme</td>\n",
       "      <td>grocery_pos</td>\n",
       "      <td>107.23</td>\n",
       "      <td>Stephanie</td>\n",
       "      <td>Gill</td>\n",
       "      <td>F</td>\n",
       "      <td>43039 Riley Greens Suite 393</td>\n",
       "      <td>...</td>\n",
       "      <td>40</td>\n",
       "      <td>0</td>\n",
       "      <td>1</td>\n",
       "      <td>0</td>\n",
       "      <td>1</td>\n",
       "      <td>30.212176</td>\n",
       "      <td>56.078113</td>\n",
       "      <td>4362</td>\n",
       "      <td>7</td>\n",
       "      <td>0.001605</td>\n",
       "    </tr>\n",
       "    <tr>\n",
       "      <th>2</th>\n",
       "      <td>2</td>\n",
       "      <td>2019-01-01 00:00:51</td>\n",
       "      <td>38859492057661</td>\n",
       "      <td>fraud_Lind-Buckridge</td>\n",
       "      <td>entertainment</td>\n",
       "      <td>220.11</td>\n",
       "      <td>Edward</td>\n",
       "      <td>Sanchez</td>\n",
       "      <td>M</td>\n",
       "      <td>594 White Dale Suite 530</td>\n",
       "      <td>...</td>\n",
       "      <td>56</td>\n",
       "      <td>0</td>\n",
       "      <td>1</td>\n",
       "      <td>0</td>\n",
       "      <td>1</td>\n",
       "      <td>108.206083</td>\n",
       "      <td>69.924272</td>\n",
       "      <td>735</td>\n",
       "      <td>8</td>\n",
       "      <td>0.010884</td>\n",
       "    </tr>\n",
       "    <tr>\n",
       "      <th>3</th>\n",
       "      <td>3</td>\n",
       "      <td>2019-01-01 00:01:16</td>\n",
       "      <td>3534093764340240</td>\n",
       "      <td>fraud_Kutch, Hermiston and Farrell</td>\n",
       "      <td>gas_transport</td>\n",
       "      <td>45.00</td>\n",
       "      <td>Jeremy</td>\n",
       "      <td>White</td>\n",
       "      <td>M</td>\n",
       "      <td>9443 Cynthia Court Apt. 038</td>\n",
       "      <td>...</td>\n",
       "      <td>52</td>\n",
       "      <td>0</td>\n",
       "      <td>1</td>\n",
       "      <td>0</td>\n",
       "      <td>1</td>\n",
       "      <td>95.673231</td>\n",
       "      <td>80.090040</td>\n",
       "      <td>743</td>\n",
       "      <td>15</td>\n",
       "      <td>0.020188</td>\n",
       "    </tr>\n",
       "    <tr>\n",
       "      <th>4</th>\n",
       "      <td>4</td>\n",
       "      <td>2019-01-01 00:03:06</td>\n",
       "      <td>375534208663984</td>\n",
       "      <td>fraud_Keeling-Crist</td>\n",
       "      <td>misc_pos</td>\n",
       "      <td>41.96</td>\n",
       "      <td>Tyler</td>\n",
       "      <td>Garcia</td>\n",
       "      <td>M</td>\n",
       "      <td>408 Bradley Rest</td>\n",
       "      <td>...</td>\n",
       "      <td>32</td>\n",
       "      <td>0</td>\n",
       "      <td>1</td>\n",
       "      <td>0</td>\n",
       "      <td>1</td>\n",
       "      <td>77.556744</td>\n",
       "      <td>95.341146</td>\n",
       "      <td>2922</td>\n",
       "      <td>13</td>\n",
       "      <td>0.004449</td>\n",
       "    </tr>\n",
       "  </tbody>\n",
       "</table>\n",
       "<p>5 rows × 33 columns</p>\n",
       "</div>"
      ],
      "text/plain": [
       "   Unnamed: 0 trans_date_trans_time            cc_num  \\\n",
       "0           0   2019-01-01 00:00:18  2703186189652095   \n",
       "1           1   2019-01-01 00:00:44      630423337322   \n",
       "2           2   2019-01-01 00:00:51    38859492057661   \n",
       "3           3   2019-01-01 00:01:16  3534093764340240   \n",
       "4           4   2019-01-01 00:03:06   375534208663984   \n",
       "\n",
       "                             merchant       category     amt      first  \\\n",
       "0          fraud_Rippin, Kub and Mann       misc_net    4.97   Jennifer   \n",
       "1     fraud_Heller, Gutmann and Zieme    grocery_pos  107.23  Stephanie   \n",
       "2                fraud_Lind-Buckridge  entertainment  220.11     Edward   \n",
       "3  fraud_Kutch, Hermiston and Farrell  gas_transport   45.00     Jeremy   \n",
       "4                 fraud_Keeling-Crist       misc_pos   41.96      Tyler   \n",
       "\n",
       "      last gender                        street  ... age trans_hour  \\\n",
       "0    Banks      F                561 Perry Cove  ...  30          0   \n",
       "1     Gill      F  43039 Riley Greens Suite 393  ...  40          0   \n",
       "2  Sanchez      M      594 White Dale Suite 530  ...  56          0   \n",
       "3    White      M   9443 Cynthia Court Apt. 038  ...  52          0   \n",
       "4   Garcia      M              408 Bradley Rest  ...  32          0   \n",
       "\n",
       "   trans_day_of_week  trans_weekend  trans_month    distance    avg_amt  \\\n",
       "0                  1              0            1   78.597568  89.408743   \n",
       "1                  1              0            1   30.212176  56.078113   \n",
       "2                  1              0            1  108.206083  69.924272   \n",
       "3                  1              0            1   95.673231  80.090040   \n",
       "4                  1              0            1   77.556744  95.341146   \n",
       "\n",
       "  total_transactions total_fraud  fraud_rate  \n",
       "0               2927          11    0.003758  \n",
       "1               4362           7    0.001605  \n",
       "2                735           8    0.010884  \n",
       "3                743          15    0.020188  \n",
       "4               2922          13    0.004449  \n",
       "\n",
       "[5 rows x 33 columns]"
      ]
     },
     "execution_count": 154,
     "metadata": {},
     "output_type": "execute_result"
    }
   ],
   "source": [
    "df.head()"
   ]
  },
  {
   "cell_type": "raw",
   "id": "43562de8-2d92-4056-90ba-785c16133cd6",
   "metadata": {},
   "source": [
    "4-Encode Categorical Data:\n",
    "Use one-hot encoding or label encoding for categorical features (merchant, category, job, etc.).\n",
    "Use one-hot encoding (for few unique values) or label encoding (for many unique values)."
   ]
  },
  {
   "cell_type": "code",
   "execution_count": 155,
   "id": "cfe82b17-33de-484d-a540-54137d96f20a",
   "metadata": {
    "tags": []
   },
   "outputs": [
    {
     "name": "stdout",
     "output_type": "stream",
     "text": [
      "Unnamed: 0               1296675\n",
      "trans_date_trans_time    1819551\n",
      "cc_num                       999\n",
      "merchant                     693\n",
      "category                      14\n",
      "amt                        60616\n",
      "first                        355\n",
      "last                         486\n",
      "gender                         2\n",
      "street                       999\n",
      "city                         906\n",
      "state                         51\n",
      "zip                          985\n",
      "lat                          983\n",
      "long                         983\n",
      "city_pop                     891\n",
      "job                          497\n",
      "dob                          984\n",
      "trans_num                1852394\n",
      "unix_time                1819583\n",
      "merch_lat                1754157\n",
      "merch_long               1809753\n",
      "is_fraud                       2\n",
      "age                           84\n",
      "trans_hour                    24\n",
      "trans_day_of_week              7\n",
      "trans_weekend                  2\n",
      "trans_month                   12\n",
      "distance                 1852394\n",
      "avg_amt                      999\n",
      "total_transactions           140\n",
      "total_fraud                   18\n",
      "fraud_rate                   416\n",
      "dtype: int64\n"
     ]
    }
   ],
   "source": [
    "# Get the count of unique values for all columns\n",
    "unique_counts = df.nunique()\n",
    "print(unique_counts)"
   ]
  },
  {
   "cell_type": "raw",
   "id": "91f2322a-436b-450a-a883-d774f91614cc",
   "metadata": {},
   "source": [
    "merchant\t693\tLabel Encoding\tToo many unique values for one-hot encoding\n",
    "category\t14\tOne-Hot Encoding\tManageable size and avoids ordinal bias\n",
    "job\t497\tLabel Encoding\tToo many unique values for one-hot encoding"
   ]
  },
  {
   "cell_type": "code",
   "execution_count": 236,
   "id": "b1a8d0c8-e33b-41bf-a1ff-097d1d35f801",
   "metadata": {
    "tags": []
   },
   "outputs": [],
   "source": [
    "from sklearn.preprocessing import LabelEncoder\n",
    "import pandas as pd\n",
    "\n",
    "# Initialize LabelEncoders\n",
    "merchant_encoder = LabelEncoder()\n",
    "job_encoder = LabelEncoder()\n",
    "\n",
    "# Fit and transform the columns\n",
    "df['merchant_encoded'] = merchant_encoder.fit_transform(df['merchant'])\n",
    "df['job_encoded'] = job_encoder.fit_transform(df['job'])\n",
    "\n",
    "# Create reference tables for encoded values\n",
    "merchant_reference = pd.DataFrame({\n",
    "    'merchant': merchant_encoder.classes_,\n",
    "    'merchant_encoded': range(len(merchant_encoder.classes_))\n",
    "})\n",
    "\n",
    "job_reference = pd.DataFrame({\n",
    "    'job': job_encoder.classes_,\n",
    "    'job_encoded': range(len(job_encoder.classes_))\n",
    "})"
   ]
  },
  {
   "cell_type": "code",
   "execution_count": 157,
   "id": "a210c3f4-8449-453b-9dc4-a7847b3ca1fb",
   "metadata": {
    "tags": []
   },
   "outputs": [
    {
     "data": {
      "text/html": [
       "<div>\n",
       "<style scoped>\n",
       "    .dataframe tbody tr th:only-of-type {\n",
       "        vertical-align: middle;\n",
       "    }\n",
       "\n",
       "    .dataframe tbody tr th {\n",
       "        vertical-align: top;\n",
       "    }\n",
       "\n",
       "    .dataframe thead th {\n",
       "        text-align: right;\n",
       "    }\n",
       "</style>\n",
       "<table border=\"1\" class=\"dataframe\">\n",
       "  <thead>\n",
       "    <tr style=\"text-align: right;\">\n",
       "      <th></th>\n",
       "      <th>Unnamed: 0</th>\n",
       "      <th>trans_date_trans_time</th>\n",
       "      <th>cc_num</th>\n",
       "      <th>merchant</th>\n",
       "      <th>category</th>\n",
       "      <th>amt</th>\n",
       "      <th>first</th>\n",
       "      <th>last</th>\n",
       "      <th>gender</th>\n",
       "      <th>street</th>\n",
       "      <th>...</th>\n",
       "      <th>trans_day_of_week</th>\n",
       "      <th>trans_weekend</th>\n",
       "      <th>trans_month</th>\n",
       "      <th>distance</th>\n",
       "      <th>avg_amt</th>\n",
       "      <th>total_transactions</th>\n",
       "      <th>total_fraud</th>\n",
       "      <th>fraud_rate</th>\n",
       "      <th>merchant_encoded</th>\n",
       "      <th>job_encoded</th>\n",
       "    </tr>\n",
       "  </thead>\n",
       "  <tbody>\n",
       "    <tr>\n",
       "      <th>0</th>\n",
       "      <td>0</td>\n",
       "      <td>2019-01-01 00:00:18</td>\n",
       "      <td>2703186189652095</td>\n",
       "      <td>fraud_Rippin, Kub and Mann</td>\n",
       "      <td>misc_net</td>\n",
       "      <td>4.97</td>\n",
       "      <td>Jennifer</td>\n",
       "      <td>Banks</td>\n",
       "      <td>F</td>\n",
       "      <td>561 Perry Cove</td>\n",
       "      <td>...</td>\n",
       "      <td>1</td>\n",
       "      <td>0</td>\n",
       "      <td>1</td>\n",
       "      <td>78.597568</td>\n",
       "      <td>89.408743</td>\n",
       "      <td>2927</td>\n",
       "      <td>11</td>\n",
       "      <td>0.003758</td>\n",
       "      <td>514</td>\n",
       "      <td>372</td>\n",
       "    </tr>\n",
       "    <tr>\n",
       "      <th>1</th>\n",
       "      <td>1</td>\n",
       "      <td>2019-01-01 00:00:44</td>\n",
       "      <td>630423337322</td>\n",
       "      <td>fraud_Heller, Gutmann and Zieme</td>\n",
       "      <td>grocery_pos</td>\n",
       "      <td>107.23</td>\n",
       "      <td>Stephanie</td>\n",
       "      <td>Gill</td>\n",
       "      <td>F</td>\n",
       "      <td>43039 Riley Greens Suite 393</td>\n",
       "      <td>...</td>\n",
       "      <td>1</td>\n",
       "      <td>0</td>\n",
       "      <td>1</td>\n",
       "      <td>30.212176</td>\n",
       "      <td>56.078113</td>\n",
       "      <td>4362</td>\n",
       "      <td>7</td>\n",
       "      <td>0.001605</td>\n",
       "      <td>241</td>\n",
       "      <td>431</td>\n",
       "    </tr>\n",
       "    <tr>\n",
       "      <th>2</th>\n",
       "      <td>2</td>\n",
       "      <td>2019-01-01 00:00:51</td>\n",
       "      <td>38859492057661</td>\n",
       "      <td>fraud_Lind-Buckridge</td>\n",
       "      <td>entertainment</td>\n",
       "      <td>220.11</td>\n",
       "      <td>Edward</td>\n",
       "      <td>Sanchez</td>\n",
       "      <td>M</td>\n",
       "      <td>594 White Dale Suite 530</td>\n",
       "      <td>...</td>\n",
       "      <td>1</td>\n",
       "      <td>0</td>\n",
       "      <td>1</td>\n",
       "      <td>108.206083</td>\n",
       "      <td>69.924272</td>\n",
       "      <td>735</td>\n",
       "      <td>8</td>\n",
       "      <td>0.010884</td>\n",
       "      <td>390</td>\n",
       "      <td>308</td>\n",
       "    </tr>\n",
       "    <tr>\n",
       "      <th>3</th>\n",
       "      <td>3</td>\n",
       "      <td>2019-01-01 00:01:16</td>\n",
       "      <td>3534093764340240</td>\n",
       "      <td>fraud_Kutch, Hermiston and Farrell</td>\n",
       "      <td>gas_transport</td>\n",
       "      <td>45.00</td>\n",
       "      <td>Jeremy</td>\n",
       "      <td>White</td>\n",
       "      <td>M</td>\n",
       "      <td>9443 Cynthia Court Apt. 038</td>\n",
       "      <td>...</td>\n",
       "      <td>1</td>\n",
       "      <td>0</td>\n",
       "      <td>1</td>\n",
       "      <td>95.673231</td>\n",
       "      <td>80.090040</td>\n",
       "      <td>743</td>\n",
       "      <td>15</td>\n",
       "      <td>0.020188</td>\n",
       "      <td>360</td>\n",
       "      <td>330</td>\n",
       "    </tr>\n",
       "    <tr>\n",
       "      <th>4</th>\n",
       "      <td>4</td>\n",
       "      <td>2019-01-01 00:03:06</td>\n",
       "      <td>375534208663984</td>\n",
       "      <td>fraud_Keeling-Crist</td>\n",
       "      <td>misc_pos</td>\n",
       "      <td>41.96</td>\n",
       "      <td>Tyler</td>\n",
       "      <td>Garcia</td>\n",
       "      <td>M</td>\n",
       "      <td>408 Bradley Rest</td>\n",
       "      <td>...</td>\n",
       "      <td>1</td>\n",
       "      <td>0</td>\n",
       "      <td>1</td>\n",
       "      <td>77.556744</td>\n",
       "      <td>95.341146</td>\n",
       "      <td>2922</td>\n",
       "      <td>13</td>\n",
       "      <td>0.004449</td>\n",
       "      <td>297</td>\n",
       "      <td>116</td>\n",
       "    </tr>\n",
       "  </tbody>\n",
       "</table>\n",
       "<p>5 rows × 35 columns</p>\n",
       "</div>"
      ],
      "text/plain": [
       "   Unnamed: 0 trans_date_trans_time            cc_num  \\\n",
       "0           0   2019-01-01 00:00:18  2703186189652095   \n",
       "1           1   2019-01-01 00:00:44      630423337322   \n",
       "2           2   2019-01-01 00:00:51    38859492057661   \n",
       "3           3   2019-01-01 00:01:16  3534093764340240   \n",
       "4           4   2019-01-01 00:03:06   375534208663984   \n",
       "\n",
       "                             merchant       category     amt      first  \\\n",
       "0          fraud_Rippin, Kub and Mann       misc_net    4.97   Jennifer   \n",
       "1     fraud_Heller, Gutmann and Zieme    grocery_pos  107.23  Stephanie   \n",
       "2                fraud_Lind-Buckridge  entertainment  220.11     Edward   \n",
       "3  fraud_Kutch, Hermiston and Farrell  gas_transport   45.00     Jeremy   \n",
       "4                 fraud_Keeling-Crist       misc_pos   41.96      Tyler   \n",
       "\n",
       "      last gender                        street  ... trans_day_of_week  \\\n",
       "0    Banks      F                561 Perry Cove  ...                 1   \n",
       "1     Gill      F  43039 Riley Greens Suite 393  ...                 1   \n",
       "2  Sanchez      M      594 White Dale Suite 530  ...                 1   \n",
       "3    White      M   9443 Cynthia Court Apt. 038  ...                 1   \n",
       "4   Garcia      M              408 Bradley Rest  ...                 1   \n",
       "\n",
       "  trans_weekend  trans_month    distance    avg_amt  total_transactions  \\\n",
       "0             0            1   78.597568  89.408743                2927   \n",
       "1             0            1   30.212176  56.078113                4362   \n",
       "2             0            1  108.206083  69.924272                 735   \n",
       "3             0            1   95.673231  80.090040                 743   \n",
       "4             0            1   77.556744  95.341146                2922   \n",
       "\n",
       "  total_fraud fraud_rate merchant_encoded  job_encoded  \n",
       "0          11   0.003758              514          372  \n",
       "1           7   0.001605              241          431  \n",
       "2           8   0.010884              390          308  \n",
       "3          15   0.020188              360          330  \n",
       "4          13   0.004449              297          116  \n",
       "\n",
       "[5 rows x 35 columns]"
      ]
     },
     "execution_count": 157,
     "metadata": {},
     "output_type": "execute_result"
    }
   ],
   "source": [
    "df.head()"
   ]
  },
  {
   "cell_type": "code",
   "execution_count": 237,
   "id": "78cc26ba-68fb-4b35-8baf-769d667dd595",
   "metadata": {
    "tags": []
   },
   "outputs": [
    {
     "name": "stdout",
     "output_type": "stream",
     "text": [
      "\n",
      "Reference tables have been successfully saved as 'merchant_reference.csv' and 'job_reference.csv'.\n"
     ]
    }
   ],
   "source": [
    "# Save reference tables to CSV\n",
    "merchant_reference.to_csv('merchant_reference.csv', index=False)\n",
    "job_reference.to_csv('job_reference.csv', index=False)\n",
    "\n",
    "# Confirm save success\n",
    "print(\"\\nReference tables have been successfully saved as 'merchant_reference.csv' and 'job_reference.csv'.\")"
   ]
  },
  {
   "cell_type": "raw",
   "id": "c325b59b-e0c4-4937-b684-f86b7a33b0fa",
   "metadata": {},
   "source": [
    "Correlation Analysis\n",
    "Assess correlation between category and fraud using statistical methods:\n",
    "Chi-Square Test for Categorical Features:\n",
    "A low p-value (e.g., < 0.05) indicates a significant relationship between category and is_fraud."
   ]
  },
  {
   "cell_type": "code",
   "execution_count": 238,
   "id": "56781d43-2fb0-48cd-8f30-26438ca1bc6e",
   "metadata": {
    "tags": []
   },
   "outputs": [
    {
     "name": "stdout",
     "output_type": "stream",
     "text": [
      "Chi-square statistic: 8329.139945520074, p-value: 0.0\n"
     ]
    }
   ],
   "source": [
    "from scipy.stats import chi2_contingency\n",
    "\n",
    "contingency_table = pd.crosstab(df['category'], df['is_fraud'])\n",
    "chi2, p, dof, expected = chi2_contingency(contingency_table)\n",
    "print(f\"Chi-square statistic: {chi2}, p-value: {p}\")"
   ]
  },
  {
   "cell_type": "code",
   "execution_count": 239,
   "id": "997f990b-8d77-4db3-bff0-75948850b956",
   "metadata": {
    "tags": []
   },
   "outputs": [],
   "source": [
    "import pandas as pd\n",
    "\n",
    "# Perform One-Hot Encoding for 'category'\n",
    "category_encoded = pd.get_dummies(df['category'], prefix='category')\n",
    "\n",
    "# Concatenate the one-hot encoded columns back to the original DataFrame\n",
    "df = pd.concat([df, category_encoded], axis=1)"
   ]
  },
  {
   "cell_type": "code",
   "execution_count": 162,
   "id": "2d759ed2-2171-463c-a176-9e203789a8b0",
   "metadata": {
    "tags": []
   },
   "outputs": [
    {
     "data": {
      "text/html": [
       "<div>\n",
       "<style scoped>\n",
       "    .dataframe tbody tr th:only-of-type {\n",
       "        vertical-align: middle;\n",
       "    }\n",
       "\n",
       "    .dataframe tbody tr th {\n",
       "        vertical-align: top;\n",
       "    }\n",
       "\n",
       "    .dataframe thead th {\n",
       "        text-align: right;\n",
       "    }\n",
       "</style>\n",
       "<table border=\"1\" class=\"dataframe\">\n",
       "  <thead>\n",
       "    <tr style=\"text-align: right;\">\n",
       "      <th></th>\n",
       "      <th>Unnamed: 0</th>\n",
       "      <th>trans_date_trans_time</th>\n",
       "      <th>cc_num</th>\n",
       "      <th>merchant</th>\n",
       "      <th>category</th>\n",
       "      <th>amt</th>\n",
       "      <th>first</th>\n",
       "      <th>last</th>\n",
       "      <th>gender</th>\n",
       "      <th>street</th>\n",
       "      <th>...</th>\n",
       "      <th>category_grocery_pos</th>\n",
       "      <th>category_health_fitness</th>\n",
       "      <th>category_home</th>\n",
       "      <th>category_kids_pets</th>\n",
       "      <th>category_misc_net</th>\n",
       "      <th>category_misc_pos</th>\n",
       "      <th>category_personal_care</th>\n",
       "      <th>category_shopping_net</th>\n",
       "      <th>category_shopping_pos</th>\n",
       "      <th>category_travel</th>\n",
       "    </tr>\n",
       "  </thead>\n",
       "  <tbody>\n",
       "    <tr>\n",
       "      <th>0</th>\n",
       "      <td>0</td>\n",
       "      <td>2019-01-01 00:00:18</td>\n",
       "      <td>2703186189652095</td>\n",
       "      <td>fraud_Rippin, Kub and Mann</td>\n",
       "      <td>misc_net</td>\n",
       "      <td>4.97</td>\n",
       "      <td>Jennifer</td>\n",
       "      <td>Banks</td>\n",
       "      <td>F</td>\n",
       "      <td>561 Perry Cove</td>\n",
       "      <td>...</td>\n",
       "      <td>False</td>\n",
       "      <td>False</td>\n",
       "      <td>False</td>\n",
       "      <td>False</td>\n",
       "      <td>True</td>\n",
       "      <td>False</td>\n",
       "      <td>False</td>\n",
       "      <td>False</td>\n",
       "      <td>False</td>\n",
       "      <td>False</td>\n",
       "    </tr>\n",
       "    <tr>\n",
       "      <th>1</th>\n",
       "      <td>1</td>\n",
       "      <td>2019-01-01 00:00:44</td>\n",
       "      <td>630423337322</td>\n",
       "      <td>fraud_Heller, Gutmann and Zieme</td>\n",
       "      <td>grocery_pos</td>\n",
       "      <td>107.23</td>\n",
       "      <td>Stephanie</td>\n",
       "      <td>Gill</td>\n",
       "      <td>F</td>\n",
       "      <td>43039 Riley Greens Suite 393</td>\n",
       "      <td>...</td>\n",
       "      <td>True</td>\n",
       "      <td>False</td>\n",
       "      <td>False</td>\n",
       "      <td>False</td>\n",
       "      <td>False</td>\n",
       "      <td>False</td>\n",
       "      <td>False</td>\n",
       "      <td>False</td>\n",
       "      <td>False</td>\n",
       "      <td>False</td>\n",
       "    </tr>\n",
       "    <tr>\n",
       "      <th>1852392</th>\n",
       "      <td>555717</td>\n",
       "      <td>2020-12-31 23:59:24</td>\n",
       "      <td>4079773899158</td>\n",
       "      <td>fraud_Breitenberg LLC</td>\n",
       "      <td>travel</td>\n",
       "      <td>7.99</td>\n",
       "      <td>Eric</td>\n",
       "      <td>Preston</td>\n",
       "      <td>M</td>\n",
       "      <td>7020 Doyle Stream Apt. 951</td>\n",
       "      <td>...</td>\n",
       "      <td>False</td>\n",
       "      <td>False</td>\n",
       "      <td>False</td>\n",
       "      <td>False</td>\n",
       "      <td>False</td>\n",
       "      <td>False</td>\n",
       "      <td>False</td>\n",
       "      <td>False</td>\n",
       "      <td>False</td>\n",
       "      <td>True</td>\n",
       "    </tr>\n",
       "    <tr>\n",
       "      <th>1852393</th>\n",
       "      <td>555718</td>\n",
       "      <td>2020-12-31 23:59:34</td>\n",
       "      <td>4170689372027579</td>\n",
       "      <td>fraud_Dare-Marvin</td>\n",
       "      <td>entertainment</td>\n",
       "      <td>38.13</td>\n",
       "      <td>Samuel</td>\n",
       "      <td>Frey</td>\n",
       "      <td>M</td>\n",
       "      <td>830 Myers Plaza Apt. 384</td>\n",
       "      <td>...</td>\n",
       "      <td>False</td>\n",
       "      <td>False</td>\n",
       "      <td>False</td>\n",
       "      <td>False</td>\n",
       "      <td>False</td>\n",
       "      <td>False</td>\n",
       "      <td>False</td>\n",
       "      <td>False</td>\n",
       "      <td>False</td>\n",
       "      <td>False</td>\n",
       "    </tr>\n",
       "  </tbody>\n",
       "</table>\n",
       "<p>4 rows × 49 columns</p>\n",
       "</div>"
      ],
      "text/plain": [
       "         Unnamed: 0 trans_date_trans_time            cc_num  \\\n",
       "0                 0   2019-01-01 00:00:18  2703186189652095   \n",
       "1                 1   2019-01-01 00:00:44      630423337322   \n",
       "1852392      555717   2020-12-31 23:59:24     4079773899158   \n",
       "1852393      555718   2020-12-31 23:59:34  4170689372027579   \n",
       "\n",
       "                                merchant       category     amt      first  \\\n",
       "0             fraud_Rippin, Kub and Mann       misc_net    4.97   Jennifer   \n",
       "1        fraud_Heller, Gutmann and Zieme    grocery_pos  107.23  Stephanie   \n",
       "1852392            fraud_Breitenberg LLC         travel    7.99       Eric   \n",
       "1852393                fraud_Dare-Marvin  entertainment   38.13     Samuel   \n",
       "\n",
       "            last gender                        street  ...  \\\n",
       "0          Banks      F                561 Perry Cove  ...   \n",
       "1           Gill      F  43039 Riley Greens Suite 393  ...   \n",
       "1852392  Preston      M    7020 Doyle Stream Apt. 951  ...   \n",
       "1852393     Frey      M      830 Myers Plaza Apt. 384  ...   \n",
       "\n",
       "        category_grocery_pos category_health_fitness  category_home  \\\n",
       "0                      False                   False          False   \n",
       "1                       True                   False          False   \n",
       "1852392                False                   False          False   \n",
       "1852393                False                   False          False   \n",
       "\n",
       "         category_kids_pets  category_misc_net  category_misc_pos  \\\n",
       "0                     False               True              False   \n",
       "1                     False              False              False   \n",
       "1852392               False              False              False   \n",
       "1852393               False              False              False   \n",
       "\n",
       "        category_personal_care category_shopping_net category_shopping_pos  \\\n",
       "0                        False                 False                 False   \n",
       "1                        False                 False                 False   \n",
       "1852392                  False                 False                 False   \n",
       "1852393                  False                 False                 False   \n",
       "\n",
       "         category_travel  \n",
       "0                  False  \n",
       "1                  False  \n",
       "1852392             True  \n",
       "1852393            False  \n",
       "\n",
       "[4 rows x 49 columns]"
      ]
     },
     "execution_count": 162,
     "metadata": {},
     "output_type": "execute_result"
    }
   ],
   "source": [
    "pd.concat([df.head(2),df.tail(2)])"
   ]
  },
  {
   "cell_type": "code",
   "execution_count": 163,
   "id": "fa8d7fc1-cdcf-4770-abdd-df2e7bbaf748",
   "metadata": {
    "tags": []
   },
   "outputs": [
    {
     "name": "stdout",
     "output_type": "stream",
     "text": [
      "<class 'pandas.core.frame.DataFrame'>\n",
      "RangeIndex: 1852394 entries, 0 to 1852393\n",
      "Data columns (total 49 columns):\n",
      " #   Column                   Dtype         \n",
      "---  ------                   -----         \n",
      " 0   Unnamed: 0               int64         \n",
      " 1   trans_date_trans_time    datetime64[ns]\n",
      " 2   cc_num                   int64         \n",
      " 3   merchant                 object        \n",
      " 4   category                 object        \n",
      " 5   amt                      float64       \n",
      " 6   first                    object        \n",
      " 7   last                     object        \n",
      " 8   gender                   object        \n",
      " 9   street                   object        \n",
      " 10  city                     object        \n",
      " 11  state                    object        \n",
      " 12  zip                      int64         \n",
      " 13  lat                      float64       \n",
      " 14  long                     float64       \n",
      " 15  city_pop                 int64         \n",
      " 16  job                      object        \n",
      " 17  dob                      datetime64[ns]\n",
      " 18  trans_num                object        \n",
      " 19  unix_time                int64         \n",
      " 20  merch_lat                float64       \n",
      " 21  merch_long               float64       \n",
      " 22  is_fraud                 int64         \n",
      " 23  age                      int64         \n",
      " 24  trans_hour               int32         \n",
      " 25  trans_day_of_week        int32         \n",
      " 26  trans_weekend            int64         \n",
      " 27  trans_month              int32         \n",
      " 28  distance                 float64       \n",
      " 29  avg_amt                  float64       \n",
      " 30  total_transactions       int64         \n",
      " 31  total_fraud              int64         \n",
      " 32  fraud_rate               float64       \n",
      " 33  merchant_encoded         int32         \n",
      " 34  job_encoded              int32         \n",
      " 35  category_entertainment   bool          \n",
      " 36  category_food_dining     bool          \n",
      " 37  category_gas_transport   bool          \n",
      " 38  category_grocery_net     bool          \n",
      " 39  category_grocery_pos     bool          \n",
      " 40  category_health_fitness  bool          \n",
      " 41  category_home            bool          \n",
      " 42  category_kids_pets       bool          \n",
      " 43  category_misc_net        bool          \n",
      " 44  category_misc_pos        bool          \n",
      " 45  category_personal_care   bool          \n",
      " 46  category_shopping_net    bool          \n",
      " 47  category_shopping_pos    bool          \n",
      " 48  category_travel          bool          \n",
      "dtypes: bool(14), datetime64[ns](2), float64(8), int32(5), int64(10), object(10)\n",
      "memory usage: 484.0+ MB\n"
     ]
    }
   ],
   "source": [
    "df.info()"
   ]
  },
  {
   "cell_type": "code",
   "execution_count": 240,
   "id": "4b75e3a5-3078-4d15-b0da-42b7c8fde328",
   "metadata": {
    "tags": []
   },
   "outputs": [],
   "source": [
    "df[category_encoded.columns] = df[category_encoded.columns].astype(int)"
   ]
  },
  {
   "cell_type": "code",
   "execution_count": 241,
   "id": "71efea7c-abdb-4b3f-ba15-2b3debd355ee",
   "metadata": {
    "tags": []
   },
   "outputs": [
    {
     "data": {
      "text/html": [
       "<div>\n",
       "<style scoped>\n",
       "    .dataframe tbody tr th:only-of-type {\n",
       "        vertical-align: middle;\n",
       "    }\n",
       "\n",
       "    .dataframe tbody tr th {\n",
       "        vertical-align: top;\n",
       "    }\n",
       "\n",
       "    .dataframe thead th {\n",
       "        text-align: right;\n",
       "    }\n",
       "</style>\n",
       "<table border=\"1\" class=\"dataframe\">\n",
       "  <thead>\n",
       "    <tr style=\"text-align: right;\">\n",
       "      <th></th>\n",
       "      <th>Unnamed: 0</th>\n",
       "      <th>trans_date_trans_time</th>\n",
       "      <th>cc_num</th>\n",
       "      <th>merchant</th>\n",
       "      <th>category</th>\n",
       "      <th>amt</th>\n",
       "      <th>first</th>\n",
       "      <th>last</th>\n",
       "      <th>gender</th>\n",
       "      <th>street</th>\n",
       "      <th>...</th>\n",
       "      <th>category_grocery_pos</th>\n",
       "      <th>category_health_fitness</th>\n",
       "      <th>category_home</th>\n",
       "      <th>category_kids_pets</th>\n",
       "      <th>category_misc_net</th>\n",
       "      <th>category_misc_pos</th>\n",
       "      <th>category_personal_care</th>\n",
       "      <th>category_shopping_net</th>\n",
       "      <th>category_shopping_pos</th>\n",
       "      <th>category_travel</th>\n",
       "    </tr>\n",
       "  </thead>\n",
       "  <tbody>\n",
       "    <tr>\n",
       "      <th>0</th>\n",
       "      <td>0</td>\n",
       "      <td>2019-01-01 00:00:18</td>\n",
       "      <td>2703186189652095</td>\n",
       "      <td>fraud_Rippin, Kub and Mann</td>\n",
       "      <td>misc_net</td>\n",
       "      <td>4.97</td>\n",
       "      <td>Jennifer</td>\n",
       "      <td>Banks</td>\n",
       "      <td>F</td>\n",
       "      <td>561 Perry Cove</td>\n",
       "      <td>...</td>\n",
       "      <td>0</td>\n",
       "      <td>0</td>\n",
       "      <td>0</td>\n",
       "      <td>0</td>\n",
       "      <td>1</td>\n",
       "      <td>0</td>\n",
       "      <td>0</td>\n",
       "      <td>0</td>\n",
       "      <td>0</td>\n",
       "      <td>0</td>\n",
       "    </tr>\n",
       "    <tr>\n",
       "      <th>1</th>\n",
       "      <td>1</td>\n",
       "      <td>2019-01-01 00:00:44</td>\n",
       "      <td>630423337322</td>\n",
       "      <td>fraud_Heller, Gutmann and Zieme</td>\n",
       "      <td>grocery_pos</td>\n",
       "      <td>107.23</td>\n",
       "      <td>Stephanie</td>\n",
       "      <td>Gill</td>\n",
       "      <td>F</td>\n",
       "      <td>43039 Riley Greens Suite 393</td>\n",
       "      <td>...</td>\n",
       "      <td>1</td>\n",
       "      <td>0</td>\n",
       "      <td>0</td>\n",
       "      <td>0</td>\n",
       "      <td>0</td>\n",
       "      <td>0</td>\n",
       "      <td>0</td>\n",
       "      <td>0</td>\n",
       "      <td>0</td>\n",
       "      <td>0</td>\n",
       "    </tr>\n",
       "    <tr>\n",
       "      <th>1852392</th>\n",
       "      <td>555717</td>\n",
       "      <td>2020-12-31 23:59:24</td>\n",
       "      <td>4079773899158</td>\n",
       "      <td>fraud_Breitenberg LLC</td>\n",
       "      <td>travel</td>\n",
       "      <td>7.99</td>\n",
       "      <td>Eric</td>\n",
       "      <td>Preston</td>\n",
       "      <td>M</td>\n",
       "      <td>7020 Doyle Stream Apt. 951</td>\n",
       "      <td>...</td>\n",
       "      <td>0</td>\n",
       "      <td>0</td>\n",
       "      <td>0</td>\n",
       "      <td>0</td>\n",
       "      <td>0</td>\n",
       "      <td>0</td>\n",
       "      <td>0</td>\n",
       "      <td>0</td>\n",
       "      <td>0</td>\n",
       "      <td>1</td>\n",
       "    </tr>\n",
       "    <tr>\n",
       "      <th>1852393</th>\n",
       "      <td>555718</td>\n",
       "      <td>2020-12-31 23:59:34</td>\n",
       "      <td>4170689372027579</td>\n",
       "      <td>fraud_Dare-Marvin</td>\n",
       "      <td>entertainment</td>\n",
       "      <td>38.13</td>\n",
       "      <td>Samuel</td>\n",
       "      <td>Frey</td>\n",
       "      <td>M</td>\n",
       "      <td>830 Myers Plaza Apt. 384</td>\n",
       "      <td>...</td>\n",
       "      <td>0</td>\n",
       "      <td>0</td>\n",
       "      <td>0</td>\n",
       "      <td>0</td>\n",
       "      <td>0</td>\n",
       "      <td>0</td>\n",
       "      <td>0</td>\n",
       "      <td>0</td>\n",
       "      <td>0</td>\n",
       "      <td>0</td>\n",
       "    </tr>\n",
       "  </tbody>\n",
       "</table>\n",
       "<p>4 rows × 49 columns</p>\n",
       "</div>"
      ],
      "text/plain": [
       "         Unnamed: 0 trans_date_trans_time            cc_num  \\\n",
       "0                 0   2019-01-01 00:00:18  2703186189652095   \n",
       "1                 1   2019-01-01 00:00:44      630423337322   \n",
       "1852392      555717   2020-12-31 23:59:24     4079773899158   \n",
       "1852393      555718   2020-12-31 23:59:34  4170689372027579   \n",
       "\n",
       "                                merchant       category     amt      first  \\\n",
       "0             fraud_Rippin, Kub and Mann       misc_net    4.97   Jennifer   \n",
       "1        fraud_Heller, Gutmann and Zieme    grocery_pos  107.23  Stephanie   \n",
       "1852392            fraud_Breitenberg LLC         travel    7.99       Eric   \n",
       "1852393                fraud_Dare-Marvin  entertainment   38.13     Samuel   \n",
       "\n",
       "            last gender                        street  ...  \\\n",
       "0          Banks      F                561 Perry Cove  ...   \n",
       "1           Gill      F  43039 Riley Greens Suite 393  ...   \n",
       "1852392  Preston      M    7020 Doyle Stream Apt. 951  ...   \n",
       "1852393     Frey      M      830 Myers Plaza Apt. 384  ...   \n",
       "\n",
       "        category_grocery_pos category_health_fitness  category_home  \\\n",
       "0                          0                       0              0   \n",
       "1                          1                       0              0   \n",
       "1852392                    0                       0              0   \n",
       "1852393                    0                       0              0   \n",
       "\n",
       "         category_kids_pets  category_misc_net  category_misc_pos  \\\n",
       "0                         0                  1                  0   \n",
       "1                         0                  0                  0   \n",
       "1852392                   0                  0                  0   \n",
       "1852393                   0                  0                  0   \n",
       "\n",
       "        category_personal_care category_shopping_net category_shopping_pos  \\\n",
       "0                            0                     0                     0   \n",
       "1                            0                     0                     0   \n",
       "1852392                      0                     0                     0   \n",
       "1852393                      0                     0                     0   \n",
       "\n",
       "         category_travel  \n",
       "0                      0  \n",
       "1                      0  \n",
       "1852392                1  \n",
       "1852393                0  \n",
       "\n",
       "[4 rows x 49 columns]"
      ]
     },
     "execution_count": 241,
     "metadata": {},
     "output_type": "execute_result"
    }
   ],
   "source": [
    "pd.concat([df.head(2),df.tail(2)])"
   ]
  },
  {
   "cell_type": "code",
   "execution_count": 166,
   "id": "eb32be4d-c359-44f9-9e51-be9abe5d763e",
   "metadata": {
    "tags": []
   },
   "outputs": [
    {
     "name": "stdout",
     "output_type": "stream",
     "text": [
      "<class 'pandas.core.frame.DataFrame'>\n",
      "RangeIndex: 1852394 entries, 0 to 1852393\n",
      "Data columns (total 49 columns):\n",
      " #   Column                   Dtype         \n",
      "---  ------                   -----         \n",
      " 0   Unnamed: 0               int64         \n",
      " 1   trans_date_trans_time    datetime64[ns]\n",
      " 2   cc_num                   int64         \n",
      " 3   merchant                 object        \n",
      " 4   category                 object        \n",
      " 5   amt                      float64       \n",
      " 6   first                    object        \n",
      " 7   last                     object        \n",
      " 8   gender                   object        \n",
      " 9   street                   object        \n",
      " 10  city                     object        \n",
      " 11  state                    object        \n",
      " 12  zip                      int64         \n",
      " 13  lat                      float64       \n",
      " 14  long                     float64       \n",
      " 15  city_pop                 int64         \n",
      " 16  job                      object        \n",
      " 17  dob                      datetime64[ns]\n",
      " 18  trans_num                object        \n",
      " 19  unix_time                int64         \n",
      " 20  merch_lat                float64       \n",
      " 21  merch_long               float64       \n",
      " 22  is_fraud                 int64         \n",
      " 23  age                      int64         \n",
      " 24  trans_hour               int32         \n",
      " 25  trans_day_of_week        int32         \n",
      " 26  trans_weekend            int64         \n",
      " 27  trans_month              int32         \n",
      " 28  distance                 float64       \n",
      " 29  avg_amt                  float64       \n",
      " 30  total_transactions       int64         \n",
      " 31  total_fraud              int64         \n",
      " 32  fraud_rate               float64       \n",
      " 33  merchant_encoded         int32         \n",
      " 34  job_encoded              int32         \n",
      " 35  category_entertainment   int32         \n",
      " 36  category_food_dining     int32         \n",
      " 37  category_gas_transport   int32         \n",
      " 38  category_grocery_net     int32         \n",
      " 39  category_grocery_pos     int32         \n",
      " 40  category_health_fitness  int32         \n",
      " 41  category_home            int32         \n",
      " 42  category_kids_pets       int32         \n",
      " 43  category_misc_net        int32         \n",
      " 44  category_misc_pos        int32         \n",
      " 45  category_personal_care   int32         \n",
      " 46  category_shopping_net    int32         \n",
      " 47  category_shopping_pos    int32         \n",
      " 48  category_travel          int32         \n",
      "dtypes: datetime64[ns](2), float64(8), int32(19), int64(10), object(10)\n",
      "memory usage: 558.2+ MB\n"
     ]
    }
   ],
   "source": [
    "df.info()"
   ]
  },
  {
   "cell_type": "code",
   "execution_count": 167,
   "id": "d2914e13-5897-485c-bc32-433a41f9a88a",
   "metadata": {
    "tags": []
   },
   "outputs": [
    {
     "data": {
      "text/plain": [
       "Index(['Unnamed: 0', 'trans_date_trans_time', 'cc_num', 'merchant', 'category',\n",
       "       'amt', 'first', 'last', 'gender', 'street', 'city', 'state', 'zip',\n",
       "       'lat', 'long', 'city_pop', 'job', 'dob', 'trans_num', 'unix_time',\n",
       "       'merch_lat', 'merch_long', 'is_fraud', 'age', 'trans_hour',\n",
       "       'trans_day_of_week', 'trans_weekend', 'trans_month', 'distance',\n",
       "       'avg_amt', 'total_transactions', 'total_fraud', 'fraud_rate',\n",
       "       'merchant_encoded', 'job_encoded', 'category_entertainment',\n",
       "       'category_food_dining', 'category_gas_transport',\n",
       "       'category_grocery_net', 'category_grocery_pos',\n",
       "       'category_health_fitness', 'category_home', 'category_kids_pets',\n",
       "       'category_misc_net', 'category_misc_pos', 'category_personal_care',\n",
       "       'category_shopping_net', 'category_shopping_pos', 'category_travel'],\n",
       "      dtype='object')"
      ]
     },
     "execution_count": 167,
     "metadata": {},
     "output_type": "execute_result"
    }
   ],
   "source": [
    "df.columns"
   ]
  },
  {
   "cell_type": "code",
   "execution_count": 242,
   "id": "d0bfec91-524a-45de-ad59-75054c9eb1cf",
   "metadata": {
    "tags": []
   },
   "outputs": [],
   "source": [
    "columns_to_drop = ['Unnamed: 0', 'trans_date_trans_time', 'dob', 'merchant', 'category', 'job', 'first', 'last', 'unix_time', 'street', 'city', 'state', 'zip', 'lat', 'long', 'merch_lat', 'merch_long']\n",
    "df = df.drop(columns=columns_to_drop, axis=1)\n",
    "# 'trans_num'"
   ]
  },
  {
   "cell_type": "code",
   "execution_count": 243,
   "id": "7f49b764-a79e-47be-96ea-c244558ac493",
   "metadata": {
    "tags": []
   },
   "outputs": [
    {
     "name": "stdout",
     "output_type": "stream",
     "text": [
      "cc_num                         999\n",
      "amt                          60616\n",
      "gender                           2\n",
      "city_pop                       891\n",
      "trans_num                  1852394\n",
      "is_fraud                         2\n",
      "age                             84\n",
      "trans_hour                      24\n",
      "trans_day_of_week                7\n",
      "trans_weekend                    2\n",
      "trans_month                     12\n",
      "distance                   1852394\n",
      "avg_amt                        999\n",
      "total_transactions             140\n",
      "total_fraud                     18\n",
      "fraud_rate                     416\n",
      "merchant_encoded               693\n",
      "job_encoded                    497\n",
      "category_entertainment           2\n",
      "category_food_dining             2\n",
      "category_gas_transport           2\n",
      "category_grocery_net             2\n",
      "category_grocery_pos             2\n",
      "category_health_fitness          2\n",
      "category_home                    2\n",
      "category_kids_pets               2\n",
      "category_misc_net                2\n",
      "category_misc_pos                2\n",
      "category_personal_care           2\n",
      "category_shopping_net            2\n",
      "category_shopping_pos            2\n",
      "category_travel                  2\n",
      "dtype: int64\n"
     ]
    }
   ],
   "source": [
    "unique_counts = df.nunique()\n",
    "print(unique_counts)"
   ]
  },
  {
   "cell_type": "code",
   "execution_count": 244,
   "id": "c10a2e5b-bb6b-47ae-b507-c0c40f2751f3",
   "metadata": {
    "tags": []
   },
   "outputs": [
    {
     "name": "stdout",
     "output_type": "stream",
     "text": [
      "['F' 'M']\n"
     ]
    }
   ],
   "source": [
    "print(df['gender'].unique())"
   ]
  },
  {
   "cell_type": "code",
   "execution_count": 245,
   "id": "a444bfdc-58bd-49cc-a093-a69d33f77d39",
   "metadata": {
    "tags": []
   },
   "outputs": [
    {
     "name": "stdout",
     "output_type": "stream",
     "text": [
      "gender\n",
      "F    1014749\n",
      "M     837645\n",
      "Name: count, dtype: int64\n"
     ]
    }
   ],
   "source": [
    "print(df['gender'].value_counts())"
   ]
  },
  {
   "cell_type": "code",
   "execution_count": 246,
   "id": "e9366898-0258-448f-96f0-aae44bff3fee",
   "metadata": {
    "tags": []
   },
   "outputs": [
    {
     "name": "stdout",
     "output_type": "stream",
     "text": [
      "gender\n",
      "0    1014749\n",
      "1     837645\n",
      "Name: count, dtype: int64\n"
     ]
    }
   ],
   "source": [
    "# Test the transformation without modifying the original column\n",
    "test_gender = df['gender'].apply(lambda x: 1 if str(x).strip().upper() == \"M\" else 0)\n",
    "\n",
    "# Verify the transformation\n",
    "print(test_gender.value_counts())"
   ]
  },
  {
   "cell_type": "code",
   "execution_count": 247,
   "id": "260d3c4e-f307-4f5d-9b52-536419291973",
   "metadata": {
    "tags": []
   },
   "outputs": [
    {
     "name": "stdout",
     "output_type": "stream",
     "text": [
      "gender\n",
      "0    1014749\n",
      "1     837645\n",
      "Name: count, dtype: int64\n"
     ]
    }
   ],
   "source": [
    "# Assign the tested transformation back to the gender column\n",
    "df['gender'] = test_gender\n",
    "\n",
    "# Verify the updated gender column\n",
    "print(df['gender'].value_counts())"
   ]
  },
  {
   "cell_type": "code",
   "execution_count": 248,
   "id": "ddd8b624-bba0-4695-bf90-9e4b00015164",
   "metadata": {
    "tags": []
   },
   "outputs": [
    {
     "data": {
      "text/html": [
       "<div>\n",
       "<style scoped>\n",
       "    .dataframe tbody tr th:only-of-type {\n",
       "        vertical-align: middle;\n",
       "    }\n",
       "\n",
       "    .dataframe tbody tr th {\n",
       "        vertical-align: top;\n",
       "    }\n",
       "\n",
       "    .dataframe thead th {\n",
       "        text-align: right;\n",
       "    }\n",
       "</style>\n",
       "<table border=\"1\" class=\"dataframe\">\n",
       "  <thead>\n",
       "    <tr style=\"text-align: right;\">\n",
       "      <th></th>\n",
       "      <th>cc_num</th>\n",
       "      <th>amt</th>\n",
       "      <th>gender</th>\n",
       "      <th>city_pop</th>\n",
       "      <th>trans_num</th>\n",
       "      <th>is_fraud</th>\n",
       "      <th>age</th>\n",
       "      <th>trans_hour</th>\n",
       "      <th>trans_day_of_week</th>\n",
       "      <th>trans_weekend</th>\n",
       "      <th>...</th>\n",
       "      <th>category_grocery_pos</th>\n",
       "      <th>category_health_fitness</th>\n",
       "      <th>category_home</th>\n",
       "      <th>category_kids_pets</th>\n",
       "      <th>category_misc_net</th>\n",
       "      <th>category_misc_pos</th>\n",
       "      <th>category_personal_care</th>\n",
       "      <th>category_shopping_net</th>\n",
       "      <th>category_shopping_pos</th>\n",
       "      <th>category_travel</th>\n",
       "    </tr>\n",
       "  </thead>\n",
       "  <tbody>\n",
       "    <tr>\n",
       "      <th>0</th>\n",
       "      <td>2703186189652095</td>\n",
       "      <td>4.97</td>\n",
       "      <td>0</td>\n",
       "      <td>3495</td>\n",
       "      <td>0b242abb623afc578575680df30655b9</td>\n",
       "      <td>0</td>\n",
       "      <td>30</td>\n",
       "      <td>0</td>\n",
       "      <td>1</td>\n",
       "      <td>0</td>\n",
       "      <td>...</td>\n",
       "      <td>0</td>\n",
       "      <td>0</td>\n",
       "      <td>0</td>\n",
       "      <td>0</td>\n",
       "      <td>1</td>\n",
       "      <td>0</td>\n",
       "      <td>0</td>\n",
       "      <td>0</td>\n",
       "      <td>0</td>\n",
       "      <td>0</td>\n",
       "    </tr>\n",
       "    <tr>\n",
       "      <th>1</th>\n",
       "      <td>630423337322</td>\n",
       "      <td>107.23</td>\n",
       "      <td>0</td>\n",
       "      <td>149</td>\n",
       "      <td>1f76529f8574734946361c461b024d99</td>\n",
       "      <td>0</td>\n",
       "      <td>40</td>\n",
       "      <td>0</td>\n",
       "      <td>1</td>\n",
       "      <td>0</td>\n",
       "      <td>...</td>\n",
       "      <td>1</td>\n",
       "      <td>0</td>\n",
       "      <td>0</td>\n",
       "      <td>0</td>\n",
       "      <td>0</td>\n",
       "      <td>0</td>\n",
       "      <td>0</td>\n",
       "      <td>0</td>\n",
       "      <td>0</td>\n",
       "      <td>0</td>\n",
       "    </tr>\n",
       "    <tr>\n",
       "      <th>2</th>\n",
       "      <td>38859492057661</td>\n",
       "      <td>220.11</td>\n",
       "      <td>1</td>\n",
       "      <td>4154</td>\n",
       "      <td>a1a22d70485983eac12b5b88dad1cf95</td>\n",
       "      <td>0</td>\n",
       "      <td>56</td>\n",
       "      <td>0</td>\n",
       "      <td>1</td>\n",
       "      <td>0</td>\n",
       "      <td>...</td>\n",
       "      <td>0</td>\n",
       "      <td>0</td>\n",
       "      <td>0</td>\n",
       "      <td>0</td>\n",
       "      <td>0</td>\n",
       "      <td>0</td>\n",
       "      <td>0</td>\n",
       "      <td>0</td>\n",
       "      <td>0</td>\n",
       "      <td>0</td>\n",
       "    </tr>\n",
       "    <tr>\n",
       "      <th>3</th>\n",
       "      <td>3534093764340240</td>\n",
       "      <td>45.00</td>\n",
       "      <td>1</td>\n",
       "      <td>1939</td>\n",
       "      <td>6b849c168bdad6f867558c3793159a81</td>\n",
       "      <td>0</td>\n",
       "      <td>52</td>\n",
       "      <td>0</td>\n",
       "      <td>1</td>\n",
       "      <td>0</td>\n",
       "      <td>...</td>\n",
       "      <td>0</td>\n",
       "      <td>0</td>\n",
       "      <td>0</td>\n",
       "      <td>0</td>\n",
       "      <td>0</td>\n",
       "      <td>0</td>\n",
       "      <td>0</td>\n",
       "      <td>0</td>\n",
       "      <td>0</td>\n",
       "      <td>0</td>\n",
       "    </tr>\n",
       "    <tr>\n",
       "      <th>4</th>\n",
       "      <td>375534208663984</td>\n",
       "      <td>41.96</td>\n",
       "      <td>1</td>\n",
       "      <td>99</td>\n",
       "      <td>a41d7549acf90789359a9aa5346dcb46</td>\n",
       "      <td>0</td>\n",
       "      <td>32</td>\n",
       "      <td>0</td>\n",
       "      <td>1</td>\n",
       "      <td>0</td>\n",
       "      <td>...</td>\n",
       "      <td>0</td>\n",
       "      <td>0</td>\n",
       "      <td>0</td>\n",
       "      <td>0</td>\n",
       "      <td>0</td>\n",
       "      <td>1</td>\n",
       "      <td>0</td>\n",
       "      <td>0</td>\n",
       "      <td>0</td>\n",
       "      <td>0</td>\n",
       "    </tr>\n",
       "  </tbody>\n",
       "</table>\n",
       "<p>5 rows × 32 columns</p>\n",
       "</div>"
      ],
      "text/plain": [
       "             cc_num     amt  gender  city_pop  \\\n",
       "0  2703186189652095    4.97       0      3495   \n",
       "1      630423337322  107.23       0       149   \n",
       "2    38859492057661  220.11       1      4154   \n",
       "3  3534093764340240   45.00       1      1939   \n",
       "4   375534208663984   41.96       1        99   \n",
       "\n",
       "                          trans_num  is_fraud  age  trans_hour  \\\n",
       "0  0b242abb623afc578575680df30655b9         0   30           0   \n",
       "1  1f76529f8574734946361c461b024d99         0   40           0   \n",
       "2  a1a22d70485983eac12b5b88dad1cf95         0   56           0   \n",
       "3  6b849c168bdad6f867558c3793159a81         0   52           0   \n",
       "4  a41d7549acf90789359a9aa5346dcb46         0   32           0   \n",
       "\n",
       "   trans_day_of_week  trans_weekend  ...  category_grocery_pos  \\\n",
       "0                  1              0  ...                     0   \n",
       "1                  1              0  ...                     1   \n",
       "2                  1              0  ...                     0   \n",
       "3                  1              0  ...                     0   \n",
       "4                  1              0  ...                     0   \n",
       "\n",
       "   category_health_fitness  category_home  category_kids_pets  \\\n",
       "0                        0              0                   0   \n",
       "1                        0              0                   0   \n",
       "2                        0              0                   0   \n",
       "3                        0              0                   0   \n",
       "4                        0              0                   0   \n",
       "\n",
       "   category_misc_net  category_misc_pos  category_personal_care  \\\n",
       "0                  1                  0                       0   \n",
       "1                  0                  0                       0   \n",
       "2                  0                  0                       0   \n",
       "3                  0                  0                       0   \n",
       "4                  0                  1                       0   \n",
       "\n",
       "   category_shopping_net  category_shopping_pos  category_travel  \n",
       "0                      0                      0                0  \n",
       "1                      0                      0                0  \n",
       "2                      0                      0                0  \n",
       "3                      0                      0                0  \n",
       "4                      0                      0                0  \n",
       "\n",
       "[5 rows x 32 columns]"
      ]
     },
     "execution_count": 248,
     "metadata": {},
     "output_type": "execute_result"
    }
   ],
   "source": [
    "df.head(5)"
   ]
  },
  {
   "cell_type": "code",
   "execution_count": 249,
   "id": "d863af43-49e9-4878-875b-25d3e27b804b",
   "metadata": {
    "tags": []
   },
   "outputs": [
    {
     "name": "stdout",
     "output_type": "stream",
     "text": [
      "<class 'pandas.core.frame.DataFrame'>\n",
      "RangeIndex: 1852394 entries, 0 to 1852393\n",
      "Data columns (total 32 columns):\n",
      " #   Column                   Dtype  \n",
      "---  ------                   -----  \n",
      " 0   cc_num                   int64  \n",
      " 1   amt                      float64\n",
      " 2   gender                   int64  \n",
      " 3   city_pop                 int64  \n",
      " 4   trans_num                object \n",
      " 5   is_fraud                 int64  \n",
      " 6   age                      int64  \n",
      " 7   trans_hour               int32  \n",
      " 8   trans_day_of_week        int32  \n",
      " 9   trans_weekend            int64  \n",
      " 10  trans_month              int32  \n",
      " 11  distance                 float64\n",
      " 12  avg_amt                  float64\n",
      " 13  total_transactions       int64  \n",
      " 14  total_fraud              int64  \n",
      " 15  fraud_rate               float64\n",
      " 16  merchant_encoded         int32  \n",
      " 17  job_encoded              int32  \n",
      " 18  category_entertainment   int32  \n",
      " 19  category_food_dining     int32  \n",
      " 20  category_gas_transport   int32  \n",
      " 21  category_grocery_net     int32  \n",
      " 22  category_grocery_pos     int32  \n",
      " 23  category_health_fitness  int32  \n",
      " 24  category_home            int32  \n",
      " 25  category_kids_pets       int32  \n",
      " 26  category_misc_net        int32  \n",
      " 27  category_misc_pos        int32  \n",
      " 28  category_personal_care   int32  \n",
      " 29  category_shopping_net    int32  \n",
      " 30  category_shopping_pos    int32  \n",
      " 31  category_travel          int32  \n",
      "dtypes: float64(4), int32(19), int64(8), object(1)\n",
      "memory usage: 318.0+ MB\n"
     ]
    }
   ],
   "source": [
    "df.info()"
   ]
  },
  {
   "cell_type": "code",
   "execution_count": 250,
   "id": "57772e75-b768-40f8-bd33-84c0b139672a",
   "metadata": {
    "tags": []
   },
   "outputs": [],
   "source": [
    "df.to_csv('cleaning_FeatureEngg.csv', index=False) #with trans_num"
   ]
  },
  {
   "cell_type": "code",
   "execution_count": 251,
   "id": "62301fe1-43e5-445c-824d-43bc1c092024",
   "metadata": {
    "tags": []
   },
   "outputs": [],
   "source": [
    "columns_to_drop = ['trans_num']\n",
    "df = df.drop(columns=columns_to_drop, axis=1)"
   ]
  },
  {
   "cell_type": "code",
   "execution_count": 252,
   "id": "5f519d8a-06e2-428d-931a-8d87e0f5f2ac",
   "metadata": {
    "tags": []
   },
   "outputs": [],
   "source": [
    "df.to_csv('cleaning_FeatureEngg2.csv', index=False) #without trans_num"
   ]
  },
  {
   "cell_type": "code",
   "execution_count": null,
   "id": "e4c2dba3-00d9-4b86-8f4e-7c2894819391",
   "metadata": {},
   "outputs": [],
   "source": []
  },
  {
   "cell_type": "markdown",
   "id": "75bdb787-b9f6-4fbf-919c-511768e9af72",
   "metadata": {},
   "source": [
    "# 4. EDA (Exploratory Data Analysis)"
   ]
  },
  {
   "cell_type": "raw",
   "id": "ee241ee1-543e-4184-bdc5-e4fe0d3b139f",
   "metadata": {},
   "source": [
    "Correlation Analysis:\n",
    "Use a heatmap to check correlations among numerical features.\n",
    "\n",
    "Fraud Analysis:\n",
    "Compare fraudulent and non-fraudulent transactions across key features (e.g., amt, category, city_pop)."
   ]
  },
  {
   "cell_type": "code",
   "execution_count": 253,
   "id": "63d8766a-8730-4d36-9ccc-22b16b2094e8",
   "metadata": {
    "tags": []
   },
   "outputs": [
    {
     "data": {
      "image/png": "[encoded data removed]",
      "text/plain": [
       "<Figure size 1600x1200 with 2 Axes>"
      ]
     },
     "metadata": {},
     "output_type": "display_data"
    }
   ],
   "source": [
    "import pandas as pd\n",
    "import seaborn as sns\n",
    "import matplotlib.pyplot as plt\n",
    "\n",
    "# List of numerical columns\n",
    "numerical_columns = ['cc_num', 'amt', 'gender', 'city_pop', 'is_fraud', 'age', 'trans_hour', 'trans_day_of_week',\n",
    "       'trans_weekend', 'trans_month', 'distance', 'avg_amt',\n",
    "       'total_transactions', 'total_fraud', 'fraud_rate', 'merchant_encoded',\n",
    "       'job_encoded']\n",
    "\n",
    "# Including the target variable 'is_fraud' for correlation analysis\n",
    "numerical_columns_with_target = numerical_columns + ['is_fraud']\n",
    "\n",
    "# 1. Correlation matrix for numerical features using Pearson or Spearman correlation\n",
    "corr_matrix = df[numerical_columns_with_target].corr(method='pearson')  # Change to 'spearman' if needed\n",
    "\n",
    "# Plotting the correlation matrix\n",
    "plt.figure(figsize=(16, 12))\n",
    "sns.heatmap(corr_matrix, annot=True, cmap='coolwarm', fmt='.2f', linewidths=0.5)\n",
    "plt.title('Correlation Matrix for Numerical Features and Target (is_fraud)')\n",
    "plt.show()"
   ]
  },
  {
   "cell_type": "code",
   "execution_count": 254,
   "id": "e8ad8de3-6048-4bec-843a-d8b101a7e999",
   "metadata": {
    "tags": []
   },
   "outputs": [
    {
     "name": "stdout",
     "output_type": "stream",
     "text": [
      "gender\n",
      "0    0.004828\n",
      "1    0.005673\n",
      "Name: is_fraud, dtype: float64\n"
     ]
    }
   ],
   "source": [
    "print(df.groupby('gender')['is_fraud'].mean())"
   ]
  },
  {
   "cell_type": "raw",
   "id": "bf716006-7609-46f7-a9ef-c15cc569f869",
   "metadata": {},
   "source": [
    "# EXTRA code cell below just for visual"
   ]
  },
  {
   "cell_type": "code",
   "execution_count": 255,
   "id": "b14f443f-fbc1-4ef0-8c23-d4567564e8f9",
   "metadata": {
    "tags": []
   },
   "outputs": [
    {
     "name": "stdout",
     "output_type": "stream",
     "text": [
      "is_fraud\n",
      "0    1842743\n",
      "1       9651\n",
      "Name: count, dtype: int64\n"
     ]
    },
    {
     "data": {
      "image/png": "[encoded data removed]",
      "text/plain": [
       "<Figure size 640x480 with 1 Axes>"
      ]
     },
     "metadata": {},
     "output_type": "display_data"
    }
   ],
   "source": [
    "# Count the number of fraudulent vs non-fraudulent transactions\n",
    "print(df['is_fraud'].value_counts())\n",
    "\n",
    "# Plot the distribution of fraud vs non-fraud\n",
    "import seaborn as sns\n",
    "import matplotlib.pyplot as plt\n",
    "\n",
    "sns.countplot(x='is_fraud', data=df)\n",
    "plt.title('Distribution of Fraudulent vs Non-Fraudulent Transactions')\n",
    "plt.show()"
   ]
  },
  {
   "cell_type": "markdown",
   "id": "648eba7e-a778-4931-8a1d-0ffa424b7abf",
   "metadata": {},
   "source": [
    "# 5. Split Data into Training and Testing Sets"
   ]
  },
  {
   "cell_type": "raw",
   "id": "cc222ada-f44a-4c36-9e09-15f746db5b6f",
   "metadata": {},
   "source": [
    "Split the data into training and testing sets while ensuring balanced class distribution.\n",
    "Consider stratified sampling since fraud cases are usually rare.\n",
    "\n",
    "Training Features: (1481915, 30), Training Labels: (1481915,)\n",
    "Testing Features: (370479, 30), Testing Labels: (370479,)\n"
   ]
  },
  {
   "cell_type": "code",
   "execution_count": 256,
   "id": "4ddb75dc-0ce3-4ef2-ab65-5b012d5634e1",
   "metadata": {
    "tags": []
   },
   "outputs": [
    {
     "name": "stdout",
     "output_type": "stream",
     "text": [
      "Training Features: (1481915, 30), Training Labels: (1481915,)\n",
      "Testing Features: (370479, 30), Testing Labels: (370479,)\n"
     ]
    }
   ],
   "source": [
    "from sklearn.model_selection import train_test_split\n",
    "\n",
    "# Define features (X) and target (y)\n",
    "X = df.drop('is_fraud', axis=1)  # All columns except the target\n",
    "y = df['is_fraud']  # Target column\n",
    "\n",
    "# Split into train and test sets (e.g., 80% train, 20% test)\n",
    "X_train, X_test, y_train, y_test = train_test_split(X, y, test_size=0.2, random_state=42, stratify=y)\n",
    "\n",
    "# Check the sizes of the resulting datasets\n",
    "print(f\"Training Features: {X_train.shape}, Training Labels: {y_train.shape}\")\n",
    "print(f\"Testing Features: {X_test.shape}, Testing Labels: {y_test.shape}\")"
   ]
  },
  {
   "cell_type": "code",
   "execution_count": 257,
   "id": "d722567b-3a9c-4f41-b128-d966797896a9",
   "metadata": {
    "tags": []
   },
   "outputs": [
    {
     "name": "stdout",
     "output_type": "stream",
     "text": [
      "Data has been saved to CSV files successfully.\n"
     ]
    }
   ],
   "source": [
    "# Save the training data\n",
    "X_train.to_csv('X_train.csv', index=False)  # Features for training\n",
    "y_train.to_csv('y_train.csv', index=False)  # Labels for training\n",
    "\n",
    "# Save the testing data\n",
    "X_test.to_csv('X_test.csv', index=False)    # Features for testing\n",
    "y_test.to_csv('y_test.csv', index=False)    # Labels for testing\n",
    "\n",
    "print(\"Data has been saved to CSV files successfully.\")"
   ]
  },
  {
   "cell_type": "code",
   "execution_count": 258,
   "id": "47fd79fe-4aa0-4306-b680-cea9af35d049",
   "metadata": {
    "tags": []
   },
   "outputs": [
    {
     "name": "stdout",
     "output_type": "stream",
     "text": [
      "Original Class Distribution:\n",
      "is_fraud\n",
      "0    0.99479\n",
      "1    0.00521\n",
      "Name: proportion, dtype: float64\n",
      "\n",
      "Training Set Class Distribution:\n",
      "is_fraud\n",
      "0    0.99479\n",
      "1    0.00521\n",
      "Name: proportion, dtype: float64\n",
      "\n",
      "Testing Set Class Distribution:\n",
      "is_fraud\n",
      "0    0.994791\n",
      "1    0.005209\n",
      "Name: proportion, dtype: float64\n"
     ]
    }
   ],
   "source": [
    "# Check the class distribution in the original dataset\n",
    "original_distribution = y.value_counts(normalize=True)\n",
    "\n",
    "# Check the class distribution in the training set\n",
    "train_distribution = y_train.value_counts(normalize=True)\n",
    "\n",
    "# Check the class distribution in the testing set\n",
    "test_distribution = y_test.value_counts(normalize=True)\n",
    "\n",
    "# Display the results\n",
    "print(\"Original Class Distribution:\")\n",
    "print(original_distribution)\n",
    "\n",
    "print(\"\\nTraining Set Class Distribution:\")\n",
    "print(train_distribution)\n",
    "\n",
    "print(\"\\nTesting Set Class Distribution:\")\n",
    "print(test_distribution)"
   ]
  },
  {
   "cell_type": "raw",
   "id": "4352e5e0-b746-4db9-ae15-2fa7b7ad6f54",
   "metadata": {},
   "source": [
    "The output confirms that the stratify parameter worked as intended, as the class distributions in the training and testing sets closely match the original dataset's distribution.\n",
    "\n",
    "Checking the class distribution in your dataset is important to understand if the data is imbalanced, meaning one class (e.g., \"not fraud\") has many more examples than the other class (e.g., \"fraud\").\n",
    "\n",
    "Why is this important?\n",
    "Model Bias:\n",
    "If the dataset is highly imbalanced, a machine learning model might learn to predict the majority class (non-fraud) most of the time and ignore the minority class (fraud), leading to poor fraud detection.\n",
    "\n",
    "Fair Training:\n",
    "Ensuring that the training and testing sets have a similar distribution helps in making sure that the model performs consistently on new, unseen data.\n",
    "\n",
    "Evaluation Accuracy:\n",
    "If 99% of transactions are not fraud and only 1% are fraud, an accuracy of 99% might seem good, but it could mean the model is not detecting fraud at all. Instead, using metrics like Precision, Recall, and F1-score becomes important."
   ]
  },
  {
   "cell_type": "raw",
   "id": "1a4cf1f0-fda2-4efb-a216-70056cce262e",
   "metadata": {},
   "source": [
    "We could have used some 1. Resampling Techniques which aims to balance the dataset by either increasing the number of minority class examples or decreasing the number of majority class examples.\n",
    "a. Oversampling (Adding More Fraud Cases): SMOTE \n",
    "b. Undersampling (Reducing Non-Fraud Cases): Random Undersampling\n",
    "c. Combined Sampling\n",
    "\n",
    "However, we will be using 2. Algorithm-Level Techniques\n",
    "Many machine learning algorithms provide built-in options to handle imbalanced data.\n",
    "Class Weights: Assign higher weight to fraud cases to penalize misclassification.\n",
    "In models like Random Forest, XGBoost, LightGBM: class_weight='balanced'\n",
    "Threshold Tuning: Instead of using a 0.5 probability threshold, adjust it to favor fraud detection (e.g., lower it to 0.3).\n",
    "Anomaly Detection Models: Treat fraud detection as an anomaly detection problem.\n",
    "\n",
    "AND 3.Performance Evaluation Metrics\n",
    "Since accuracy is not useful in imbalanced datasets, focus on the following metrics:\n",
    "Precision: Measures how many detected fraud cases were actually fraud.\n",
    "Recall (Sensitivity): Measures how many fraud cases were correctly detected.\n",
    "F1-score: Balances Precision and Recall.\n",
    "ROC-AUC: Evaluates the trade-off between true positive and false positive rates.\n",
    "PR-AUC (Precision-Recall AUC): More informative when dealing with imbalanced data."
   ]
  },
  {
   "cell_type": "markdown",
   "id": "ec3e79c7-db6c-4ab1-a9fd-3e06ca5e15ab",
   "metadata": {},
   "source": [
    "# Model Training"
   ]
  },
  {
   "cell_type": "raw",
   "id": "8159e21a-cbac-4068-96b2-ce7a4b323343",
   "metadata": {},
   "source": [
    "For a fraud detection problem like yours, where the dataset is typically large and imbalanced, the following models are widely used by companies due to their effectiveness:"
   ]
  },
  {
   "cell_type": "markdown",
   "id": "6d50ac7c-3f96-4005-9be9-3abd52805ad5",
   "metadata": {},
   "source": [
    "# Gradient Boosting Machines (GBMs): LightGBM"
   ]
  },
  {
   "cell_type": "raw",
   "id": "624dff05-062c-4313-a979-d6d009103222",
   "metadata": {},
   "source": [
    "Why LightGBM?\n",
    "Speed and Efficiency:\n",
    "Handles large datasets and high-cardinality features efficiently.\n",
    "Performance:\n",
    "Excels in handling imbalanced datasets and offers excellent accuracy. When using class_weight='balanced'\n",
    "Built-in Handling of Missing Data:\n",
    "No need for imputation of missing values."
   ]
  },
  {
   "cell_type": "code",
   "execution_count": 157,
   "id": "ddaf6107-d355-430c-b3d6-89b0b0d280be",
   "metadata": {
    "tags": []
   },
   "outputs": [
    {
     "name": "stdout",
     "output_type": "stream",
     "text": [
      "Collecting lightgbm\n",
      "  Obtaining dependency information for lightgbm from https://files.pythonhosted.org/packages/d9/28/3be76b591a2e14a031b681b8283acf1dec2ad521f6f1701b7957df68c466/lightgbm-4.5.0-py3-none-win_amd64.whl.metadata\n",
      "  Downloading lightgbm-4.5.0-py3-none-win_amd64.whl.metadata (17 kB)\n",
      "Requirement already satisfied: numpy>=1.17.0 in c:\\users\\jaihanuman\\anaconda3\\lib\\site-packages (from lightgbm) (1.24.3)\n",
      "Requirement already satisfied: scipy in c:\\users\\jaihanuman\\anaconda3\\lib\\site-packages (from lightgbm) (1.11.1)\n",
      "Downloading lightgbm-4.5.0-py3-none-win_amd64.whl (1.4 MB)\n",
      "   ---------------------------------------- 0.0/1.4 MB ? eta -:--:--\n",
      "   ---------------------------------------- 0.0/1.4 MB ? eta -:--:--\n",
      "    --------------------------------------- 0.0/1.4 MB 660.6 kB/s eta 0:00:03\n",
      "   --- ------------------------------------ 0.1/1.4 MB 1.3 MB/s eta 0:00:01\n",
      "   ------- -------------------------------- 0.3/1.4 MB 1.9 MB/s eta 0:00:01\n",
      "   ----------- ---------------------------- 0.4/1.4 MB 2.2 MB/s eta 0:00:01\n",
      "   ---------------- ----------------------- 0.6/1.4 MB 2.7 MB/s eta 0:00:01\n",
      "   -------------------- ------------------- 0.8/1.4 MB 2.7 MB/s eta 0:00:01\n",
      "   ------------------------- -------------- 0.9/1.4 MB 2.9 MB/s eta 0:00:01\n",
      "   ------------------------------- -------- 1.1/1.4 MB 3.0 MB/s eta 0:00:01\n",
      "   ------------------------------------ --- 1.3/1.4 MB 3.1 MB/s eta 0:00:01\n",
      "   ---------------------------------------- 1.4/1.4 MB 3.2 MB/s eta 0:00:00\n",
      "Installing collected packages: lightgbm\n",
      "Successfully installed lightgbm-4.5.0\n"
     ]
    }
   ],
   "source": [
    "!pip install lightgbm"
   ]
  },
  {
   "cell_type": "code",
   "execution_count": 185,
   "id": "73c8072a-d624-4b23-85ac-89dbb5dc5329",
   "metadata": {
    "tags": []
   },
   "outputs": [
    {
     "name": "stdout",
     "output_type": "stream",
     "text": [
      "[LightGBM] [Info] Number of positive: 7721, number of negative: 1474194\n",
      "[LightGBM] [Info] Auto-choosing col-wise multi-threading, the overhead of testing was 0.060554 seconds.\n",
      "You can set `force_col_wise=true` to remove the overhead.\n",
      "[LightGBM] [Info] Total Bins 2335\n",
      "[LightGBM] [Info] Number of data points in the train set: 1481915, number of used features: 30\n",
      "[LightGBM] [Info] [binary:BoostFromScore]: pavg=0.500000 -> initscore=0.000000\n",
      "[LightGBM] [Info] Start training from score 0.000000\n",
      "Classification Report:\n",
      "              precision    recall  f1-score   support\n",
      "\n",
      "           0       1.00      0.99      0.99    368549\n",
      "           1       0.27      0.99      0.43      1930\n",
      "\n",
      "    accuracy                           0.99    370479\n",
      "   macro avg       0.64      0.99      0.71    370479\n",
      "weighted avg       1.00      0.99      0.99    370479\n",
      "\n",
      "AUC-ROC Score: 0.998994474297236\n",
      "Confusion Matrix:\n",
      "[[363518   5031]\n",
      " [    28   1902]]\n"
     ]
    }
   ],
   "source": [
    "import lightgbm as lgb\n",
    "from sklearn.metrics import classification_report, roc_auc_score, confusion_matrix\n",
    "\n",
    "# Initialize the LightGBM classifier\n",
    "lgb_model = lgb.LGBMClassifier(random_state=42, class_weight='balanced')\n",
    "\n",
    "# Train the model\n",
    "lgb_model.fit(X_train, y_train)\n",
    "\n",
    "# Make predictions\n",
    "y_pred = lgb_model.predict(X_test)\n",
    "y_pred_prob = lgb_model.predict_proba(X_test)[:, 1]\n",
    "\n",
    "# Evaluate the model\n",
    "print(\"Classification Report:\")\n",
    "print(classification_report(y_test, y_pred))\n",
    "\n",
    "# AUC-ROC Score\n",
    "roc_auc = roc_auc_score(y_test, y_pred_prob)\n",
    "print(f\"AUC-ROC Score: {roc_auc}\")\n",
    "\n",
    "# Confusion Matrix\n",
    "print(\"Confusion Matrix:\")\n",
    "print(confusion_matrix(y_test, y_pred))"
   ]
  },
  {
   "cell_type": "raw",
   "id": "02020573-ccaa-4ad4-9400-0b4af94d1f40",
   "metadata": {},
   "source": [
    "Key Terms:\n",
    "Precision: Of the predicted frauds (is_fraud = 1), how many are actual frauds.\n",
    "Recall: Of the actual frauds, how many were detected correctly.\n",
    "F1-Score: The harmonic mean of precision and recall.\n",
    "Support: The number of instances in each class.\n",
    "For Non-Fraudulent Transactions (0):\n",
    "Precision: 1.00 (perfect precision, very few false positives).\n",
    "Recall: 0.99 (most non-fraudulent transactions are correctly classified).\n",
    "F1-Score: 0.99.\n",
    "For Fraudulent Transactions (1):\n",
    "Precision: 0.28 (only 28% of predicted frauds are correct; high false positive rate).\n",
    "Recall: 0.99 (the model captures almost all actual frauds).\n",
    "F1-Score: 0.43 (low due to poor precision).\n",
    "Overall Accuracy:\n",
    "99% Accuracy:\n",
    "However, accuracy isn't a good metric for imbalanced datasets since non-fraudulent transactions dominate.\n",
    "Macro vs. Weighted Average:\n",
    "Macro Average:\n",
    "Simple average of metrics for both classes.\n",
    "F1-score = 0.71 indicates moderate performance overall.\n",
    "Weighted Average:\n",
    "Takes into account the imbalance between classes.\n",
    "Weighted F1-score = 0.99 is dominated by the majority class (0).\n",
    "\n",
    "Area Under the Curve (AUC):\n",
    "Measures the model's ability to distinguish between fraud and non-fraud.\n",
    "0.999 is an excellent score, showing the model is very good at ranking fraudulent transactions higher than non-fraudulent ones.\n",
    "\n",
    "Rows represent the actual class (is_fraud), and columns represent the predicted class.\n",
    "Non-Fraudulent Transactions (0):\n",
    "True Negatives (TN): 363,572 correctly classified as non-fraudulent.\n",
    "False Positives (FP): 4,977 non-fraudulent transactions wrongly classified as fraud.\n",
    "Fraudulent Transactions (1):\n",
    "False Negatives (FN): 28 fraudulent transactions missed by the model.\n",
    "True Positives (TP): 1,902 correctly classified as fraud."
   ]
  },
  {
   "cell_type": "raw",
   "id": "d4b0f10a-5158-4e15-9e73-dfecf0f630a5",
   "metadata": {},
   "source": [
    "Analysis\n",
    "Strengths:\n",
    "Excellent recall for fraud (0.99): Almost all frauds are identified.\n",
    "High AUC-ROC (0.999): Strong ability to distinguish fraud from non-fraud.\n",
    "Very low false negatives (28): Only a small number of frauds are missed.\n",
    "\n",
    "Weaknesses:\n",
    "Low precision for fraud (0.28): High false positive rate (4,977), meaning many transactions are flagged as fraud incorrectly."
   ]
  },
  {
   "cell_type": "markdown",
   "id": "ac313925-47c1-4dae-aba4-1a68342cb118",
   "metadata": {},
   "source": [
    "# Random Forest\n",
    "It is a robust and widely used ensemble model for classification tasks like fraud detection. Random Forest works by combining multiple decision trees and can handle imbalanced datasets well."
   ]
  },
  {
   "cell_type": "raw",
   "id": "5afc6d44-6249-4ba0-a8a1-17e725f0b860",
   "metadata": {},
   "source": [
    "Why Random Forest?\n",
    "Handles Imbalanced Data:\n",
    "Assigns class_weight='balanced' to give more importance to the minority class (fraudulent transactions).\n",
    "Feature Importance:\n",
    "Provides a straightforward way to identify which features contribute most to the prediction.\n",
    "Robustness:\n",
    "Performs well even without extensive hyperparameter tuning."
   ]
  },
  {
   "cell_type": "code",
   "execution_count": 186,
   "id": "f9417085-de9b-4761-a03f-9dbc643ccaf5",
   "metadata": {
    "tags": []
   },
   "outputs": [
    {
     "name": "stdout",
     "output_type": "stream",
     "text": [
      "Classification Report:\n",
      "              precision    recall  f1-score   support\n",
      "\n",
      "           0       1.00      0.98      0.99    368549\n",
      "           1       0.19      0.94      0.32      1930\n",
      "\n",
      "    accuracy                           0.98    370479\n",
      "   macro avg       0.60      0.96      0.65    370479\n",
      "weighted avg       1.00      0.98      0.99    370479\n",
      "\n"
     ]
    }
   ],
   "source": [
    "from sklearn.ensemble import RandomForestClassifier\n",
    "from sklearn.metrics import classification_report, roc_auc_score, confusion_matrix\n",
    "\n",
    "# Initialize the Random Forest classifier\n",
    "rf_model = RandomForestClassifier(n_estimators=50, max_depth=10, random_state=42, class_weight='balanced')\n",
    "\n",
    "# Train the model\n",
    "rf_model.fit(X_train, y_train)\n",
    "\n",
    "# Make predictions\n",
    "y_pred = rf_model.predict(X_test)\n",
    "y_pred_prob = rf_model.predict_proba(X_test)[:, 1]\n",
    "\n",
    "# Evaluate the model\n",
    "print(\"Classification Report:\")\n",
    "print(classification_report(y_test, y_pred))"
   ]
  },
  {
   "cell_type": "code",
   "execution_count": 187,
   "id": "db1e41dd-485c-4b69-bed5-bbe5d0e5f37f",
   "metadata": {
    "tags": []
   },
   "outputs": [
    {
     "name": "stdout",
     "output_type": "stream",
     "text": [
      "AUC-ROC Score: 0.9918424490260833\n",
      "Confusion Matrix:\n",
      "[[360857   7692]\n",
      " [   109   1821]]\n"
     ]
    }
   ],
   "source": [
    "# AUC-ROC Score\n",
    "roc_auc = roc_auc_score(y_test, y_pred_prob)\n",
    "print(f\"AUC-ROC Score: {roc_auc}\")\n",
    "\n",
    "# Confusion Matrix\n",
    "print(\"Confusion Matrix:\")\n",
    "print(confusion_matrix(y_test, y_pred))"
   ]
  },
  {
   "cell_type": "code",
   "execution_count": 188,
   "id": "26b71e5c-9cd6-41d5-9510-2cb31aff87db",
   "metadata": {
    "tags": []
   },
   "outputs": [
    {
     "name": "stdout",
     "output_type": "stream",
     "text": [
      "\n",
      "Top 10 Features by Importance:\n",
      "amt: 0.5705925256496874\n",
      "trans_hour: 0.1912094226026861\n",
      "fraud_rate: 0.04574052268886596\n",
      "total_transactions: 0.027020487030608137\n",
      "avg_amt: 0.02327780162060262\n",
      "category_gas_transport: 0.019107966266206415\n",
      "category_shopping_net: 0.01692792506106694\n",
      "category_grocery_pos: 0.01619855607778463\n",
      "total_fraud: 0.011077144593501788\n",
      "category_home: 0.008134072587154453\n"
     ]
    }
   ],
   "source": [
    "# Feature Importance\n",
    "importances = rf_model.feature_importances_\n",
    "feature_importances = sorted(zip(X_train.columns, importances), key=lambda x: x[1], reverse=True)\n",
    "print(\"\\nTop 10 Features by Importance:\")\n",
    "for feature, importance in feature_importances[:10]:\n",
    "    print(f\"{feature}: {importance}\")"
   ]
  },
  {
   "cell_type": "code",
   "execution_count": 189,
   "id": "b8fd675a-1804-43b6-bef9-33e55ee62de7",
   "metadata": {
    "tags": []
   },
   "outputs": [
    {
     "name": "stdout",
     "output_type": "stream",
     "text": [
      "Classification Report:\n",
      "              precision    recall  f1-score   support\n",
      "\n",
      "           0       1.00      0.99      1.00    368549\n",
      "           1       0.45      0.92      0.61      1930\n",
      "\n",
      "    accuracy                           0.99    370479\n",
      "   macro avg       0.73      0.96      0.80    370479\n",
      "weighted avg       1.00      0.99      0.99    370479\n",
      "\n"
     ]
    }
   ],
   "source": [
    "from sklearn.ensemble import RandomForestClassifier\n",
    "from sklearn.metrics import classification_report, roc_auc_score, confusion_matrix\n",
    "\n",
    "# Initialize the Random Forest classifier\n",
    "rf_model = RandomForestClassifier(\n",
    "    n_estimators=100,  # Start with 100 trees\n",
    "    max_depth=15,      # Medium-depth trees\n",
    "    random_state=42,\n",
    "    class_weight='balanced',  # Handle class imbalance\n",
    "    n_jobs=-1          # Parallel processing\n",
    ")\n",
    "\n",
    "# Train the model\n",
    "rf_model.fit(X_train, y_train)\n",
    "\n",
    "# Make predictions\n",
    "y_pred = rf_model.predict(X_test)\n",
    "y_pred_prob = rf_model.predict_proba(X_test)[:, 1]\n",
    "\n",
    "# Evaluate the model\n",
    "print(\"Classification Report:\")\n",
    "print(classification_report(y_test, y_pred))"
   ]
  },
  {
   "cell_type": "code",
   "execution_count": 190,
   "id": "20693f6a-d0b9-4913-a7a7-dba97fb9d935",
   "metadata": {
    "tags": []
   },
   "outputs": [
    {
     "name": "stdout",
     "output_type": "stream",
     "text": [
      "AUC-ROC Score: 0.9960254411513281\n",
      "Confusion Matrix:\n",
      "[[366414   2135]\n",
      " [   161   1769]]\n"
     ]
    }
   ],
   "source": [
    "# AUC-ROC Score\n",
    "roc_auc = roc_auc_score(y_test, y_pred_prob)\n",
    "print(f\"AUC-ROC Score: {roc_auc}\")\n",
    "\n",
    "# Confusion Matrix\n",
    "print(\"Confusion Matrix:\")\n",
    "print(confusion_matrix(y_test, y_pred))"
   ]
  },
  {
   "cell_type": "markdown",
   "id": "309d4398-605b-46a8-99ac-d3f6857bf266",
   "metadata": {},
   "source": [
    "# XGBoost (Extreme Gradient Boosting)\n",
    "another powerful and widely-used model for structured/tabular data, particularly in fraud detection tasks."
   ]
  },
  {
   "cell_type": "raw",
   "id": "bfa6acec-f9f3-441d-b575-d45c34eef364",
   "metadata": {},
   "source": [
    "Why XGBoost?\n",
    "Handles Imbalanced Data:\n",
    "Supports custom loss functions and weight balancing for imbalanced datasets.\n",
    "Performance:\n",
    "Often achieves higher accuracy and recall than Random Forest or LightGBM.\n",
    "Efficiency:\n",
    "Optimized for speed and memory usage.\n",
    "Advanced Regularization:\n",
    "Reduces overfitting using L1/L2 regularization."
   ]
  },
  {
   "cell_type": "code",
   "execution_count": 191,
   "id": "741a5ea3-5afe-4b5e-87f1-08e16e8513bb",
   "metadata": {
    "tags": []
   },
   "outputs": [
    {
     "name": "stdout",
     "output_type": "stream",
     "text": [
      "Classification Report:\n",
      "              precision    recall  f1-score   support\n",
      "\n",
      "           0       1.00      1.00      1.00    368549\n",
      "           1       0.85      0.90      0.87      1930\n",
      "\n",
      "    accuracy                           1.00    370479\n",
      "   macro avg       0.92      0.95      0.94    370479\n",
      "weighted avg       1.00      1.00      1.00    370479\n",
      "\n",
      "AUC-ROC Score: 0.9991932330283849\n",
      "Confusion Matrix:\n",
      "[[368240    309]\n",
      " [   190   1740]]\n"
     ]
    }
   ],
   "source": [
    "import xgboost as xgb\n",
    "from sklearn.metrics import classification_report, roc_auc_score, confusion_matrix\n",
    "\n",
    "# Initialize the XGBoost classifier\n",
    "xgb_model = xgb.XGBClassifier(\n",
    "    n_estimators=100,          # Number of trees\n",
    "    max_depth=10,              # Maximum tree depth\n",
    "    learning_rate=0.1,         # Step size for weight updates\n",
    "    scale_pos_weight=10,       # Balances the imbalanced dataset\n",
    "    subsample=0.8,             # Fraction of samples used per tree\n",
    "    colsample_bytree=0.8,      # Fraction of features used per tree\n",
    "    random_state=42,\n",
    "    use_label_encoder=False,   # Avoids deprecation warnings\n",
    "    eval_metric='logloss'      # Evaluation metric\n",
    ")\n",
    "\n",
    "# Train the model\n",
    "xgb_model.fit(X_train, y_train)\n",
    "\n",
    "# Make predictions\n",
    "y_pred = xgb_model.predict(X_test)\n",
    "y_pred_prob = xgb_model.predict_proba(X_test)[:, 1]\n",
    "\n",
    "# Evaluate the model\n",
    "print(\"Classification Report:\")\n",
    "print(classification_report(y_test, y_pred))\n",
    "\n",
    "# AUC-ROC Score\n",
    "roc_auc = roc_auc_score(y_test, y_pred_prob)\n",
    "print(f\"AUC-ROC Score: {roc_auc}\")\n",
    "\n",
    "# Confusion Matrix\n",
    "print(\"Confusion Matrix:\")\n",
    "print(confusion_matrix(y_test, y_pred))"
   ]
  },
  {
   "cell_type": "code",
   "execution_count": null,
   "id": "4129cb71-3e6b-4c90-a2d5-79e39be82661",
   "metadata": {},
   "outputs": [],
   "source": []
  },
  {
   "cell_type": "raw",
   "id": "6542c0f3-2b7e-4111-b293-2347c6e03f59",
   "metadata": {},
   "source": [
    "1-Classification Report LIGHTBGM:\n",
    "              precision    recall  f1-score   support\n",
    "\n",
    "           0       1.00      0.99      0.99    368549\n",
    "           1       0.28      0.99      0.43      1930\n",
    "\n",
    "    accuracy                           0.99    370479\n",
    "   macro avg       0.64      0.99      0.71    370479\n",
    "weighted avg       1.00      0.99      0.99    370479\n",
    "\n",
    "AUC-ROC Score: 0.999037839991946\n",
    "Confusion Matrix:\n",
    "[[363572   4977]\n",
    " [    28   1902]]\n",
    "\n",
    "2-Classification Report RANDOMFOREST:\n",
    "              precision    recall  f1-score   support\n",
    "\n",
    "           0       1.00      0.99      1.00    368549\n",
    "           1       0.47      0.90      0.62      1930\n",
    "\n",
    "    accuracy                           0.99    370479\n",
    "   macro avg       0.74      0.95      0.81    370479\n",
    "weighted avg       1.00      0.99      1.00    370479\n",
    "AUC-ROC Score: 0.9952681512235415\n",
    "Confusion Matrix:\n",
    "[[366610   1939]\n",
    " [   189   1741]]\n",
    "\n",
    "3-Classification Report XGBOOST: (BEST TILL NOW)\n",
    "              precision    recall  f1-score   support\n",
    "\n",
    "           0       1.00      1.00      1.00    368549\n",
    "           1       0.85      0.90      0.87      1930\n",
    "\n",
    "    accuracy                           1.00    370479\n",
    "   macro avg       0.92      0.95      0.94    370479\n",
    "weighted avg       1.00      1.00      1.00    370479\n",
    "\n",
    "AUC-ROC Score: 0.9991932330283849\n",
    "Confusion Matrix:\n",
    "[[368240    309]\n",
    " [   190   1740]]"
   ]
  },
  {
   "cell_type": "raw",
   "id": "2f90a211-fc7e-4907-9a2b-aeb2d04dfae6",
   "metadata": {},
   "source": [
    "Key Observations:\n",
    "1. LightGBM Analysis:\n",
    "Precision (Fraud - Class 1): 0.28 (Very low)\n",
    "Recall (Fraud - Class 1): 0.99 (Very high)\n",
    "F1-Score (Fraud - Class 1): 0.43 (Moderate)\n",
    "AUC-ROC Score: 0.999 (Excellent)\n",
    "Confusion Matrix:\n",
    "False Positives (4977) → High (incorrect fraud alarms)\n",
    "False Negatives (28) → Very low (good fraud detection)\n",
    "Conclusion:\n",
    "\n",
    "The model captures almost all fraud cases (high recall), but it struggles with precision, meaning it flags too many legitimate transactions as fraud.\n",
    "Potential issue: High number of false positives can lead to customer dissatisfaction and operational costs.\n",
    "\n",
    "\n",
    "2. Random Forest Analysis:\n",
    "Precision (Fraud - Class 1): 0.47 (Moderate)\n",
    "Recall (Fraud - Class 1): 0.90 (Good)\n",
    "F1-Score (Fraud - Class 1): 0.62 (Better balance)\n",
    "AUC-ROC Score: 0.995 (Very good)\n",
    "Confusion Matrix:\n",
    "False Positives (1939) → Lower than LightGBM\n",
    "False Negatives (189) → Slightly higher compared to LightGBM\n",
    "Conclusion:\n",
    "\n",
    "Better balance between precision and recall compared to LightGBM.\n",
    "Fewer false positives than LightGBM but more false negatives, meaning some fraud cases might go undetected.\n",
    "\n",
    "\n",
    "3. XGBoost Analysis (Best Performance):\n",
    "Precision (Fraud - Class 1): 0.84 (Excellent)\n",
    "Recall (Fraud - Class 1): 0.90 (Good)\n",
    "F1-Score (Fraud - Class 1): 0.87 (Very good)\n",
    "AUC-ROC Score: 0.999 (Excellent)\n",
    "Confusion Matrix:\n",
    "False Positives (325) → Very low\n",
    "False Negatives (186) → Comparable to Random Forest\n",
    "Conclusion:\n",
    "\n",
    "XGBoost provides the best trade-off between precision and recall.\n",
    "Low false positives and relatively low false negatives.\n",
    "This model is the most balanced and operationally efficient."
   ]
  },
  {
   "cell_type": "raw",
   "id": "ef3d01c0-ff52-4bf2-9646-16e078b8e007",
   "metadata": {},
   "source": [
    "Recommendations:\n",
    "Is this good enough?\n",
    "The results from XGBoost are quite good, with high precision and recall, meaning fewer false alarms and good fraud detection.\n",
    "However, even with class_weight='balanced', XGBoost might still miss some fraud cases. If your business requires near-perfect fraud detection, consider threshold tuning.\n",
    "\n",
    "Should you use SMOTE?\n",
    "Given that XGBoost is performing well, SMOTE might not be necessary at this stage.\n",
    "If you decide to further improve recall, consider SMOTE for LightGBM or Random Forest, as they show lower precision.\n",
    "\n",
    "Final Model Choice:\n",
    "XGBoost is the best choice based on the current results.\n",
    "If precision needs to be further improved, consider fine-tuning hyperparameters (learning rate, max depth, etc.).\n",
    "If recall is the focus, balancing through techniques like SMOTE might help other models like LightGBM."
   ]
  },
  {
   "cell_type": "raw",
   "id": "fb749c79-97d4-46df-949f-53df7c75386a",
   "metadata": {},
   "source": [
    "Next Steps:\n",
    "Threshold Tuning: Adjust the fraud prediction threshold (default is 0.5). Lowering it slightly (e.g., 0.4) may improve recall without drastically affecting precision.\n",
    "Feature Importance Analysis: Identify the most critical fraud indicators and focus on improving them.\n",
    "Cross-Validation: Ensure consistent results across different data splits to avoid overfitting.\n",
    "Deploy and Monitor: Once deployed, monitor model performance in real-time to adjust thresholds based on actual fraud trends."
   ]
  },
  {
   "cell_type": "raw",
   "id": "526967dc-03c9-4037-baf0-2947c40d7c91",
   "metadata": {},
   "source": [
    "Accuracy: Out of all the predictions we made, how many were true?”\n",
    "Precision: Out of all the positive predictions we made, how many were true?\n",
    "Recall: Out of all the data points that should be predicted as true, how many did we correctly predict as true?”\n",
    "F1 Score: is a measure that combines recall and precision."
   ]
  },
  {
   "cell_type": "markdown",
   "id": "7568e73c-394c-4c04-82fd-9357cdde129e",
   "metadata": {},
   "source": [
    "# Model Validation and Tuning:"
   ]
  },
  {
   "cell_type": "raw",
   "id": "e5b69c46-90c1-4fc0-a827-208989c9c4b5",
   "metadata": {},
   "source": [
    "1st tried changing: scale_pos_weight=190 (result = bad)"
   ]
  },
  {
   "cell_type": "code",
   "execution_count": 192,
   "id": "f4c36c95-bf76-4c0a-a208-731038ab1e65",
   "metadata": {},
   "outputs": [
    {
     "name": "stdout",
     "output_type": "stream",
     "text": [
      "Optimal scale_pos_weight: 190.9330397616889\n"
     ]
    }
   ],
   "source": [
    "scale_pos_weight = len(y_train[y_train == 0]) / len(y_train[y_train == 1])\n",
    "print(f\"Optimal scale_pos_weight: {scale_pos_weight}\")"
   ]
  },
  {
   "cell_type": "raw",
   "id": "a9a6354f-2c58-41a6-9a22-a939304fc297",
   "metadata": {},
   "source": [
    "The calculated scale_pos_weight of 190.93 indicates a highly imbalanced dataset, with approximately 191 non-fraudulent transactions for every 1 fraudulent transaction."
   ]
  },
  {
   "cell_type": "raw",
   "id": "7074f3ce-fbb1-4eb0-bcf2-067f326f445f",
   "metadata": {},
   "source": [
    "NOT GOOD"
   ]
  },
  {
   "cell_type": "code",
   "execution_count": 193,
   "id": "5aff21c6-8f8c-42b3-8c19-16e50d6d8061",
   "metadata": {
    "tags": []
   },
   "outputs": [
    {
     "name": "stdout",
     "output_type": "stream",
     "text": [
      "Classification Report:\n",
      "              precision    recall  f1-score   support\n",
      "\n",
      "           0       1.00      1.00      1.00    368549\n",
      "           1       0.53      0.96      0.68      1930\n",
      "\n",
      "    accuracy                           1.00    370479\n",
      "   macro avg       0.77      0.98      0.84    370479\n",
      "weighted avg       1.00      1.00      1.00    370479\n",
      "\n",
      "AUC-ROC Score: 0.9989366913296461\n",
      "Confusion Matrix:\n",
      "[[366926   1623]\n",
      " [    86   1844]]\n"
     ]
    }
   ],
   "source": [
    "import xgboost as xgb\n",
    "from sklearn.metrics import classification_report, roc_auc_score, confusion_matrix\n",
    "\n",
    "# Initialize the XGBoost classifier\n",
    "xgb_model = xgb.XGBClassifier(\n",
    "    n_estimators=100,          # Number of trees\n",
    "    max_depth=10,              # Maximum tree depth\n",
    "    learning_rate=0.1,         # Step size for weight updates\n",
    "    scale_pos_weight=190,       # Balances the imbalanced dataset\n",
    "    subsample=0.8,             # Fraction of samples used per tree\n",
    "    colsample_bytree=0.8,      # Fraction of features used per tree\n",
    "    random_state=42,\n",
    "    use_label_encoder=False,   # Avoids deprecation warnings\n",
    "    eval_metric='logloss'      # Evaluation metric\n",
    ")\n",
    "\n",
    "# Train the model\n",
    "xgb_model.fit(X_train, y_train)\n",
    "\n",
    "# Make predictions\n",
    "y_pred = xgb_model.predict(X_test)\n",
    "y_pred_prob = xgb_model.predict_proba(X_test)[:, 1]\n",
    "\n",
    "# Evaluate the model\n",
    "print(\"Classification Report:\")\n",
    "print(classification_report(y_test, y_pred))\n",
    "\n",
    "# AUC-ROC Score\n",
    "roc_auc = roc_auc_score(y_test, y_pred_prob)\n",
    "print(f\"AUC-ROC Score: {roc_auc}\")\n",
    "\n",
    "# Confusion Matrix\n",
    "print(\"Confusion Matrix:\")\n",
    "print(confusion_matrix(y_test, y_pred))"
   ]
  },
  {
   "cell_type": "raw",
   "id": "2b6d3a6f-1001-41b2-b86e-adad02378acc",
   "metadata": {},
   "source": [
    "2nd tried changing: estimators from 100 to 200 and learning rate from 0.1 to 0.05 (result = still similar to 1st testing but slightly better)"
   ]
  },
  {
   "cell_type": "code",
   "execution_count": 194,
   "id": "8249f387-8379-47a2-9f4d-1d4fc9a00814",
   "metadata": {
    "tags": []
   },
   "outputs": [
    {
     "name": "stdout",
     "output_type": "stream",
     "text": [
      "Classification Report:\n",
      "              precision    recall  f1-score   support\n",
      "\n",
      "           0       1.00      1.00      1.00    368549\n",
      "           1       0.86      0.90      0.88      1930\n",
      "\n",
      "    accuracy                           1.00    370479\n",
      "   macro avg       0.93      0.95      0.94    370479\n",
      "weighted avg       1.00      1.00      1.00    370479\n",
      "\n",
      "AUC-ROC Score: 0.9992382815583594\n",
      "Confusion Matrix:\n",
      "[[368257    292]\n",
      " [   188   1742]]\n"
     ]
    }
   ],
   "source": [
    "import xgboost as xgb\n",
    "from sklearn.metrics import classification_report, roc_auc_score, confusion_matrix\n",
    "\n",
    "# Initialize the XGBoost classifier\n",
    "xgb_model = xgb.XGBClassifier(\n",
    "    n_estimators=200,          # Number of trees\n",
    "    max_depth=10,              # Maximum tree depth\n",
    "    learning_rate=0.05,         # Step size for weight updates\n",
    "    scale_pos_weight=10,       # Balances the imbalanced dataset\n",
    "    subsample=0.8,             # Fraction of samples used per tree\n",
    "    colsample_bytree=0.8,      # Fraction of features used per tree\n",
    "    random_state=42,\n",
    "    use_label_encoder=False,   # Avoids deprecation warnings\n",
    "    eval_metric='logloss'      # Evaluation metric\n",
    ")\n",
    "\n",
    "# Train the model\n",
    "xgb_model.fit(X_train, y_train)\n",
    "\n",
    "# Make predictions\n",
    "y_pred = xgb_model.predict(X_test)\n",
    "y_pred_prob = xgb_model.predict_proba(X_test)[:, 1]\n",
    "\n",
    "# Evaluate the model\n",
    "print(\"Classification Report:\")\n",
    "print(classification_report(y_test, y_pred))\n",
    "\n",
    "# AUC-ROC Score\n",
    "roc_auc = roc_auc_score(y_test, y_pred_prob)\n",
    "print(f\"AUC-ROC Score: {roc_auc}\")\n",
    "\n",
    "# Confusion Matrix\n",
    "print(\"Confusion Matrix:\")\n",
    "print(confusion_matrix(y_test, y_pred))"
   ]
  },
  {
   "cell_type": "code",
   "execution_count": null,
   "id": "cfe2bc5b-cd4a-4c5b-ac0c-b5b8162ddcff",
   "metadata": {
    "tags": []
   },
   "outputs": [],
   "source": [
    "!pip install shap"
   ]
  },
  {
   "cell_type": "code",
   "execution_count": 195,
   "id": "0a6e384e-56b6-4a33-9dc7-7288689a8e67",
   "metadata": {
    "tags": []
   },
   "outputs": [
    {
     "data": {
      "text/plain": [
       "Index(['cc_num', 'amt', 'gender', 'city_pop', 'age', 'trans_hour',\n",
       "       'trans_day_of_week', 'trans_weekend', 'trans_month', 'distance',\n",
       "       'avg_amt', 'total_transactions', 'total_fraud', 'fraud_rate',\n",
       "       'merchant_encoded', 'job_encoded', 'category_entertainment',\n",
       "       'category_food_dining', 'category_gas_transport',\n",
       "       'category_grocery_net', 'category_grocery_pos',\n",
       "       'category_health_fitness', 'category_home', 'category_kids_pets',\n",
       "       'category_misc_net', 'category_misc_pos', 'category_personal_care',\n",
       "       'category_shopping_net', 'category_shopping_pos', 'category_travel'],\n",
       "      dtype='object')"
      ]
     },
     "execution_count": 195,
     "metadata": {},
     "output_type": "execute_result"
    }
   ],
   "source": [
    "X_train.columns"
   ]
  },
  {
   "cell_type": "code",
   "execution_count": 196,
   "id": "348ce1ee-1fa7-45f2-8eca-829c657e5fb8",
   "metadata": {
    "tags": []
   },
   "outputs": [
    {
     "data": {
      "text/plain": [
       "Index(['cc_num', 'amt', 'gender', 'city_pop', 'age', 'trans_hour',\n",
       "       'trans_day_of_week', 'trans_weekend', 'trans_month', 'distance',\n",
       "       'avg_amt', 'total_transactions', 'total_fraud', 'fraud_rate',\n",
       "       'merchant_encoded', 'job_encoded', 'category_entertainment',\n",
       "       'category_food_dining', 'category_gas_transport',\n",
       "       'category_grocery_net', 'category_grocery_pos',\n",
       "       'category_health_fitness', 'category_home', 'category_kids_pets',\n",
       "       'category_misc_net', 'category_misc_pos', 'category_personal_care',\n",
       "       'category_shopping_net', 'category_shopping_pos', 'category_travel'],\n",
       "      dtype='object')"
      ]
     },
     "execution_count": 196,
     "metadata": {},
     "output_type": "execute_result"
    }
   ],
   "source": [
    "X_test.columns"
   ]
  },
  {
   "cell_type": "code",
   "execution_count": 197,
   "id": "435132e2-b7f0-4f7a-93bf-59ced8d7c87d",
   "metadata": {
    "tags": []
   },
   "outputs": [
    {
     "name": "stdout",
     "output_type": "stream",
     "text": [
      "Highly correlated features to drop: []\n"
     ]
    }
   ],
   "source": [
    "import numpy as np\n",
    "\n",
    "# Calculate correlation matrix\n",
    "correlation_matrix = X_train.corr().abs()\n",
    "\n",
    "# Select upper triangle of correlation matrix\n",
    "upper = correlation_matrix.where(np.triu(np.ones(correlation_matrix.shape), k=1).astype(bool))\n",
    "\n",
    "# Find features with correlation greater than a threshold (e.g., 0.95)\n",
    "highly_correlated_features = [column for column in upper.columns if any(upper[column] > 0.95)]\n",
    "\n",
    "print(\"Highly correlated features to drop:\", highly_correlated_features)"
   ]
  },
  {
   "cell_type": "code",
   "execution_count": 53,
   "id": "ecec8b70-da68-4b8d-b758-f352aecc42f5",
   "metadata": {
    "tags": []
   },
   "outputs": [],
   "source": [
    "# Drop highly correlated features ONLY RUN IF Highly correlated features FOUND (SKIPPING FOR NOW)\n",
    "X_train.drop(columns=highly_correlated_features, inplace=True)\n",
    "X_test.drop(columns=highly_correlated_features, inplace=True)"
   ]
  },
  {
   "cell_type": "code",
   "execution_count": 198,
   "id": "1ba0e992-1445-4683-b0c2-125e7ee6d847",
   "metadata": {
    "tags": []
   },
   "outputs": [
    {
     "data": {
      "text/plain": [
       "30"
      ]
     },
     "execution_count": 198,
     "metadata": {},
     "output_type": "execute_result"
    }
   ],
   "source": [
    "len(X_test.columns)"
   ]
  },
  {
   "cell_type": "raw",
   "id": "5454804f-b460-4521-b83e-f0f737f7cad8",
   "metadata": {},
   "source": [
    "3rd test: using 200 and 0.1 (BEST so far) (You care about precision (minimize false alarms,Okay with slightly more missed frauds (208))"
   ]
  },
  {
   "cell_type": "code",
   "execution_count": 199,
   "id": "dd08b760-76fe-46a0-8987-7d7c0648d666",
   "metadata": {
    "tags": []
   },
   "outputs": [
    {
     "name": "stdout",
     "output_type": "stream",
     "text": [
      "Classification Report:\n",
      "              precision    recall  f1-score   support\n",
      "\n",
      "           0       1.00      1.00      1.00    368549\n",
      "           1       0.92      0.89      0.90      1930\n",
      "\n",
      "    accuracy                           1.00    370479\n",
      "   macro avg       0.96      0.94      0.95    370479\n",
      "weighted avg       1.00      1.00      1.00    370479\n",
      "\n",
      "AUC-ROC Score: 0.999348616223682\n",
      "Confusion Matrix:\n",
      "[[368399    150]\n",
      " [   216   1714]]\n"
     ]
    }
   ],
   "source": [
    "import xgboost as xgb\n",
    "from sklearn.metrics import classification_report, roc_auc_score, confusion_matrix\n",
    "\n",
    "# Initialize the XGBoost classifier\n",
    "xgb_model = xgb.XGBClassifier(\n",
    "    n_estimators=200,          # Number of trees\n",
    "    max_depth=10,              # Maximum tree depth\n",
    "    learning_rate=0.1,         # Step size for weight updates\n",
    "    scale_pos_weight=10,       # Balances the imbalanced dataset\n",
    "    subsample=0.8,             # Fraction of samples used per tree\n",
    "    colsample_bytree=0.8,      # Fraction of features used per tree\n",
    "    random_state=42,\n",
    "    use_label_encoder=False,   # Avoids deprecation warnings\n",
    "    eval_metric='logloss'      # Evaluation metric\n",
    ")\n",
    "\n",
    "# Train the model\n",
    "xgb_model.fit(X_train, y_train)\n",
    "\n",
    "# Make predictions\n",
    "y_pred = xgb_model.predict(X_test)\n",
    "y_pred_prob = xgb_model.predict_proba(X_test)[:, 1]\n",
    "\n",
    "# Evaluate the model\n",
    "print(\"Classification Report:\")\n",
    "print(classification_report(y_test, y_pred))\n",
    "\n",
    "# AUC-ROC Score\n",
    "roc_auc = roc_auc_score(y_test, y_pred_prob)\n",
    "print(f\"AUC-ROC Score: {roc_auc}\")\n",
    "\n",
    "# Confusion Matrix\n",
    "print(\"Confusion Matrix:\")\n",
    "print(confusion_matrix(y_test, y_pred))"
   ]
  },
  {
   "cell_type": "code",
   "execution_count": 200,
   "id": "49b6f741-36ba-4dbf-b57b-6e5838704c54",
   "metadata": {
    "tags": []
   },
   "outputs": [
    {
     "data": {
      "image/png": "[encoded data removed]",
      "text/plain": [
       "<Figure size 640x480 with 2 Axes>"
      ]
     },
     "metadata": {},
     "output_type": "display_data"
    }
   ],
   "source": [
    "from sklearn.metrics import confusion_matrix, ConfusionMatrixDisplay\n",
    "\n",
    "# Get predicted values with the current threshold\n",
    "y_pred = xgb_model.predict(X_test)\n",
    "\n",
    "# Plot the confusion matrix\n",
    "cm = confusion_matrix(y_test, y_pred)\n",
    "disp = ConfusionMatrixDisplay(confusion_matrix=cm, display_labels=['Not Fraud', 'Fraud'])\n",
    "disp.plot(cmap='Blues')\n",
    "plt.title('Confusion Matrix')\n",
    "plt.show()"
   ]
  },
  {
   "cell_type": "code",
   "execution_count": 201,
   "id": "1322491a-40ab-4175-b422-de6312e6df92",
   "metadata": {
    "tags": []
   },
   "outputs": [
    {
     "name": "stdout",
     "output_type": "stream",
     "text": [
      "              precision    recall  f1-score   support\n",
      "\n",
      "           0       1.00      1.00      1.00    368549\n",
      "           1       0.92      0.89      0.90      1930\n",
      "\n",
      "    accuracy                           1.00    370479\n",
      "   macro avg       0.96      0.94      0.95    370479\n",
      "weighted avg       1.00      1.00      1.00    370479\n",
      "\n"
     ]
    }
   ],
   "source": [
    "from sklearn.metrics import classification_report\n",
    "\n",
    "# Evaluate and print classification report\n",
    "report = classification_report(y_test, y_pred)\n",
    "print(report)"
   ]
  },
  {
   "cell_type": "code",
   "execution_count": 202,
   "id": "1700bb73-8c66-44a8-b58e-e2465d50cba0",
   "metadata": {
    "tags": []
   },
   "outputs": [
    {
     "data": {
      "image/png": "[encoded data removed]",
      "text/plain": [
       "<Figure size 640x480 with 1 Axes>"
      ]
     },
     "metadata": {},
     "output_type": "display_data"
    }
   ],
   "source": [
    "from sklearn.metrics import precision_recall_curve\n",
    "import matplotlib.pyplot as plt\n",
    "\n",
    "# Get predicted probabilities\n",
    "y_pred_prob = xgb_model.predict_proba(X_test)[:, 1]\n",
    "\n",
    "# Compute precision-recall curve\n",
    "precision, recall, _ = precision_recall_curve(y_test, y_pred_prob)\n",
    "\n",
    "# Plot curve\n",
    "plt.plot(recall, precision, marker='.')\n",
    "plt.xlabel('Recall')\n",
    "plt.ylabel('Precision')\n",
    "plt.title('Precision-Recall Curve')\n",
    "plt.show()"
   ]
  },
  {
   "cell_type": "raw",
   "id": "06e39c3c-cb8c-445c-9e08-c9dc23466220",
   "metadata": {},
   "source": [
    "AUC-ROC (Area Under the Receiver Operating Characteristic Curve):\n",
    "Measures the trade-off between True Positive Rate (Recall) and False Positive Rate.\n",
    "Suitable when both classes (fraud and non-fraud) are balanced or if you want an overall performance metric.\n",
    "The ROC curve considers all classification thresholds, making it useful for balanced datasets but sometimes misleading for highly imbalanced datasets.\n",
    "Your AUC-ROC score of 0.999 indicates that your model can almost perfectly distinguish between fraud and non-fraud.\n",
    "Precision-Recall (PR) Curve:\n",
    "Measures the relationship between Precision (positive predictive value) and Recall (sensitivity).\n",
    "More useful for imbalanced datasets, such as fraud detection, where we care more about finding fraudulent cases (minority class).\n",
    "The curve shows how precision decreases as recall increases, helping you choose an optimal threshold."
   ]
  },
  {
   "cell_type": "code",
   "execution_count": 203,
   "id": "c56cf52f-5f7c-4c45-929c-f048c34de9fb",
   "metadata": {
    "tags": []
   },
   "outputs": [
    {
     "name": "stdout",
     "output_type": "stream",
     "text": [
      "Precision-Recall AUC Score: 0.957409124822222\n"
     ]
    }
   ],
   "source": [
    "from sklearn.metrics import average_precision_score\n",
    "\n",
    "pr_auc = average_precision_score(y_test, y_pred_prob)\n",
    "print(f\"Precision-Recall AUC Score: {pr_auc}\")"
   ]
  },
  {
   "cell_type": "raw",
   "id": "3863b6e6-001a-4bbf-b3ba-b0f8390e63d8",
   "metadata": {},
   "source": [
    "#4th"
   ]
  },
  {
   "cell_type": "code",
   "execution_count": 259,
   "id": "fdad3792-0fb5-44d9-91fe-cbb3a0767470",
   "metadata": {},
   "outputs": [
    {
     "name": "stdout",
     "output_type": "stream",
     "text": [
      "Optimal Threshold based on F1-score: 0.718947172164917\n",
      "\n",
      "Classification Report with Optimal Threshold:\n",
      "              precision    recall  f1-score   support\n",
      "\n",
      "           0       1.00      1.00      1.00    368549\n",
      "           1       0.96      0.87      0.91      1930\n",
      "\n",
      "    accuracy                           1.00    370479\n",
      "   macro avg       0.98      0.93      0.96    370479\n",
      "weighted avg       1.00      1.00      1.00    370479\n",
      "\n",
      "AUC-ROC Score: 0.999348616223682\n",
      "Confusion Matrix with Optimal Threshold:\n",
      "[[368483     66]\n",
      " [   259   1671]]\n"
     ]
    }
   ],
   "source": [
    "import xgboost as xgb\n",
    "from sklearn.metrics import classification_report, roc_auc_score, confusion_matrix, precision_recall_curve\n",
    "import numpy as np\n",
    "\n",
    "# Initialize the XGBoost classifier\n",
    "xgb_model = xgb.XGBClassifier(\n",
    "    n_estimators=200,          # Number of trees\n",
    "    max_depth=10,              # Maximum tree depth\n",
    "    learning_rate=0.1,         # Step size for weight updates\n",
    "    scale_pos_weight=10,       # Balances the imbalanced dataset\n",
    "    subsample=0.8,             # Fraction of samples used per tree\n",
    "    colsample_bytree=0.8,      # Fraction of features used per tree\n",
    "    random_state=42,\n",
    "    use_label_encoder=False,   # Avoids deprecation warnings\n",
    "    eval_metric='logloss'      # Evaluation metric\n",
    ")\n",
    "\n",
    "# Train the model\n",
    "xgb_model.fit(X_train, y_train)\n",
    "\n",
    "# 🔄 CHANGED: Get predicted probabilities instead of using predict()\n",
    "y_pred_prob = xgb_model.predict_proba(X_test)[:, 1]\n",
    "\n",
    "# 🔄 NEW: Find optimal threshold based on F1-score\n",
    "precision, recall, thresholds = precision_recall_curve(y_test, y_pred_prob)\n",
    "f1_scores = (2 * precision * recall) / (precision + recall + 1e-9)\n",
    "optimal_idx = np.argmax(f1_scores)\n",
    "optimal_threshold = thresholds[optimal_idx]\n",
    "\n",
    "print(f\"Optimal Threshold based on F1-score: {optimal_threshold}\")\n",
    "\n",
    "# 🔄 CHANGED: Use optimal threshold to get final predictions\n",
    "y_pred = (y_pred_prob >= optimal_threshold).astype(int)\n",
    "\n",
    "# Evaluate the model with the adjusted threshold\n",
    "print(\"\\nClassification Report with Optimal Threshold:\")\n",
    "print(classification_report(y_test, y_pred))\n",
    "\n",
    "# AUC-ROC Score (still uses probabilities)\n",
    "roc_auc = roc_auc_score(y_test, y_pred_prob)\n",
    "print(f\"AUC-ROC Score: {roc_auc}\")\n",
    "\n",
    "# Confusion Matrix\n",
    "print(\"Confusion Matrix with Optimal Threshold:\")\n",
    "print(confusion_matrix(y_test, y_pred))"
   ]
  },
  {
   "cell_type": "code",
   "execution_count": 260,
   "id": "111dcfc0-b6c7-40ee-a787-6e08dac27725",
   "metadata": {
    "tags": []
   },
   "outputs": [
    {
     "name": "stdout",
     "output_type": "stream",
     "text": [
      "Model input features:\n",
      "['cc_num', 'amt', 'gender', 'city_pop', 'age', 'trans_hour', 'trans_day_of_week', 'trans_weekend', 'trans_month', 'distance', 'avg_amt', 'total_transactions', 'total_fraud', 'fraud_rate', 'merchant_encoded', 'job_encoded', 'category_entertainment', 'category_food_dining', 'category_gas_transport', 'category_grocery_net', 'category_grocery_pos', 'category_health_fitness', 'category_home', 'category_kids_pets', 'category_misc_net', 'category_misc_pos', 'category_personal_care', 'category_shopping_net', 'category_shopping_pos', 'category_travel']\n"
     ]
    }
   ],
   "source": [
    "#checking which columns we are using for model\n",
    "print(\"Model input features:\")\n",
    "print(xgb_model.get_booster().feature_names)"
   ]
  },
  {
   "cell_type": "code",
   "execution_count": 261,
   "id": "7c10646a-6f57-466d-8246-3c52074f5253",
   "metadata": {
    "tags": []
   },
   "outputs": [
    {
     "name": "stdout",
     "output_type": "stream",
     "text": [
      "Model and threshold saved in fraud_detection_bundle.pkl\n"
     ]
    }
   ],
   "source": [
    "import joblib\n",
    "\n",
    "# Bundle model and threshold\n",
    "bundle = {\n",
    "    'model': xgb_model,\n",
    "    'threshold': optimal_threshold\n",
    "}\n",
    "\n",
    "# Save to a single file\n",
    "joblib.dump(bundle, 'fraud_detection_bundle.pkl')\n",
    "print(\"Model and threshold saved in fraud_detection_bundle.pkl\")"
   ]
  },
  {
   "cell_type": "raw",
   "id": "f7aac976-cf8d-46f7-97b6-baa0a830c317",
   "metadata": {},
   "source": [
    "Later: Load and use for prediction"
   ]
  },
  {
   "cell_type": "code",
   "execution_count": null,
   "id": "dc2059b7-4ff7-4eef-8da0-618fec1a84ee",
   "metadata": {},
   "outputs": [],
   "source": [
    "# Load bundle\n",
    "bundle = joblib.load('fraud_detection_bundle.pkl')\n",
    "model = bundle['model']\n",
    "threshold = bundle['threshold']\n",
    "\n",
    "# Example: Predict if a transaction is fraud\n",
    "sample_transaction = X_test.iloc[0:1]  # Example test input\n",
    "prob = model.predict_proba(sample_transaction)[:, 1][0]\n",
    "prediction = int(prob >= threshold)\n",
    "\n",
    "print(f\"Predicted probability: {prob}\")\n",
    "print(\"Fraud\" if prediction == 1 else \"Not Fraud\")"
   ]
  },
  {
   "cell_type": "raw",
   "id": "14d7d14b-eec0-4351-b6dc-3d53cefbc441",
   "metadata": {},
   "source": [
    "END"
   ]
  },
  {
   "cell_type": "code",
   "execution_count": null,
   "id": "413b59c2-85b1-4d33-8624-9ae001fb3dba",
   "metadata": {},
   "outputs": [],
   "source": []
  },
  {
   "cell_type": "code",
   "execution_count": 262,
   "id": "9e223a63-4d29-4a37-94e2-abdf701e8b86",
   "metadata": {
    "tags": []
   },
   "outputs": [
    {
     "name": "stdout",
     "output_type": "stream",
     "text": [
      "<class 'pandas.core.frame.DataFrame'>\n",
      "RangeIndex: 1852394 entries, 0 to 1852393\n",
      "Data columns (total 31 columns):\n",
      " #   Column                   Dtype  \n",
      "---  ------                   -----  \n",
      " 0   cc_num                   int64  \n",
      " 1   amt                      float64\n",
      " 2   gender                   int64  \n",
      " 3   city_pop                 int64  \n",
      " 4   is_fraud                 int64  \n",
      " 5   age                      int64  \n",
      " 6   trans_hour               int32  \n",
      " 7   trans_day_of_week        int32  \n",
      " 8   trans_weekend            int64  \n",
      " 9   trans_month              int32  \n",
      " 10  distance                 float64\n",
      " 11  avg_amt                  float64\n",
      " 12  total_transactions       int64  \n",
      " 13  total_fraud              int64  \n",
      " 14  fraud_rate               float64\n",
      " 15  merchant_encoded         int32  \n",
      " 16  job_encoded              int32  \n",
      " 17  category_entertainment   int32  \n",
      " 18  category_food_dining     int32  \n",
      " 19  category_gas_transport   int32  \n",
      " 20  category_grocery_net     int32  \n",
      " 21  category_grocery_pos     int32  \n",
      " 22  category_health_fitness  int32  \n",
      " 23  category_home            int32  \n",
      " 24  category_kids_pets       int32  \n",
      " 25  category_misc_net        int32  \n",
      " 26  category_misc_pos        int32  \n",
      " 27  category_personal_care   int32  \n",
      " 28  category_shopping_net    int32  \n",
      " 29  category_shopping_pos    int32  \n",
      " 30  category_travel          int32  \n",
      "dtypes: float64(4), int32(19), int64(8)\n",
      "memory usage: 303.9 MB\n"
     ]
    }
   ],
   "source": [
    "df.info()"
   ]
  },
  {
   "cell_type": "code",
   "execution_count": 263,
   "id": "c3b8654f-99f5-4634-b303-73424ee807b7",
   "metadata": {
    "tags": []
   },
   "outputs": [],
   "source": [
    "df.to_csv('final_cleaned_data.csv', index=False)"
   ]
  },
  {
   "cell_type": "code",
   "execution_count": null,
   "id": "5b90be17-4563-4e6b-8264-f40b83cb37b8",
   "metadata": {},
   "outputs": [],
   "source": []
  },
  {
   "cell_type": "code",
   "execution_count": 264,
   "id": "ab2add0b-41bf-403c-aa74-3d09185f2c0a",
   "metadata": {
    "tags": []
   },
   "outputs": [],
   "source": [
    "df = pd.read_csv('final_cleaned_data.csv')"
   ]
  },
  {
   "cell_type": "code",
   "execution_count": 265,
   "id": "909b2dbd-b0c2-4a6b-b7d7-a7b692ac95fc",
   "metadata": {
    "tags": []
   },
   "outputs": [
    {
     "data": {
      "text/html": [
       "<div>\n",
       "<style scoped>\n",
       "    .dataframe tbody tr th:only-of-type {\n",
       "        vertical-align: middle;\n",
       "    }\n",
       "\n",
       "    .dataframe tbody tr th {\n",
       "        vertical-align: top;\n",
       "    }\n",
       "\n",
       "    .dataframe thead th {\n",
       "        text-align: right;\n",
       "    }\n",
       "</style>\n",
       "<table border=\"1\" class=\"dataframe\">\n",
       "  <thead>\n",
       "    <tr style=\"text-align: right;\">\n",
       "      <th></th>\n",
       "      <th>cc_num</th>\n",
       "      <th>amt</th>\n",
       "      <th>gender</th>\n",
       "      <th>city_pop</th>\n",
       "      <th>is_fraud</th>\n",
       "      <th>age</th>\n",
       "      <th>trans_hour</th>\n",
       "      <th>trans_day_of_week</th>\n",
       "      <th>trans_weekend</th>\n",
       "      <th>trans_month</th>\n",
       "      <th>...</th>\n",
       "      <th>category_grocery_pos</th>\n",
       "      <th>category_health_fitness</th>\n",
       "      <th>category_home</th>\n",
       "      <th>category_kids_pets</th>\n",
       "      <th>category_misc_net</th>\n",
       "      <th>category_misc_pos</th>\n",
       "      <th>category_personal_care</th>\n",
       "      <th>category_shopping_net</th>\n",
       "      <th>category_shopping_pos</th>\n",
       "      <th>category_travel</th>\n",
       "    </tr>\n",
       "  </thead>\n",
       "  <tbody>\n",
       "    <tr>\n",
       "      <th>0</th>\n",
       "      <td>2703186189652095</td>\n",
       "      <td>4.97</td>\n",
       "      <td>0</td>\n",
       "      <td>3495</td>\n",
       "      <td>0</td>\n",
       "      <td>30</td>\n",
       "      <td>0</td>\n",
       "      <td>1</td>\n",
       "      <td>0</td>\n",
       "      <td>1</td>\n",
       "      <td>...</td>\n",
       "      <td>0</td>\n",
       "      <td>0</td>\n",
       "      <td>0</td>\n",
       "      <td>0</td>\n",
       "      <td>1</td>\n",
       "      <td>0</td>\n",
       "      <td>0</td>\n",
       "      <td>0</td>\n",
       "      <td>0</td>\n",
       "      <td>0</td>\n",
       "    </tr>\n",
       "    <tr>\n",
       "      <th>1</th>\n",
       "      <td>630423337322</td>\n",
       "      <td>107.23</td>\n",
       "      <td>0</td>\n",
       "      <td>149</td>\n",
       "      <td>0</td>\n",
       "      <td>40</td>\n",
       "      <td>0</td>\n",
       "      <td>1</td>\n",
       "      <td>0</td>\n",
       "      <td>1</td>\n",
       "      <td>...</td>\n",
       "      <td>1</td>\n",
       "      <td>0</td>\n",
       "      <td>0</td>\n",
       "      <td>0</td>\n",
       "      <td>0</td>\n",
       "      <td>0</td>\n",
       "      <td>0</td>\n",
       "      <td>0</td>\n",
       "      <td>0</td>\n",
       "      <td>0</td>\n",
       "    </tr>\n",
       "    <tr>\n",
       "      <th>2</th>\n",
       "      <td>38859492057661</td>\n",
       "      <td>220.11</td>\n",
       "      <td>1</td>\n",
       "      <td>4154</td>\n",
       "      <td>0</td>\n",
       "      <td>56</td>\n",
       "      <td>0</td>\n",
       "      <td>1</td>\n",
       "      <td>0</td>\n",
       "      <td>1</td>\n",
       "      <td>...</td>\n",
       "      <td>0</td>\n",
       "      <td>0</td>\n",
       "      <td>0</td>\n",
       "      <td>0</td>\n",
       "      <td>0</td>\n",
       "      <td>0</td>\n",
       "      <td>0</td>\n",
       "      <td>0</td>\n",
       "      <td>0</td>\n",
       "      <td>0</td>\n",
       "    </tr>\n",
       "    <tr>\n",
       "      <th>3</th>\n",
       "      <td>3534093764340240</td>\n",
       "      <td>45.00</td>\n",
       "      <td>1</td>\n",
       "      <td>1939</td>\n",
       "      <td>0</td>\n",
       "      <td>52</td>\n",
       "      <td>0</td>\n",
       "      <td>1</td>\n",
       "      <td>0</td>\n",
       "      <td>1</td>\n",
       "      <td>...</td>\n",
       "      <td>0</td>\n",
       "      <td>0</td>\n",
       "      <td>0</td>\n",
       "      <td>0</td>\n",
       "      <td>0</td>\n",
       "      <td>0</td>\n",
       "      <td>0</td>\n",
       "      <td>0</td>\n",
       "      <td>0</td>\n",
       "      <td>0</td>\n",
       "    </tr>\n",
       "    <tr>\n",
       "      <th>4</th>\n",
       "      <td>375534208663984</td>\n",
       "      <td>41.96</td>\n",
       "      <td>1</td>\n",
       "      <td>99</td>\n",
       "      <td>0</td>\n",
       "      <td>32</td>\n",
       "      <td>0</td>\n",
       "      <td>1</td>\n",
       "      <td>0</td>\n",
       "      <td>1</td>\n",
       "      <td>...</td>\n",
       "      <td>0</td>\n",
       "      <td>0</td>\n",
       "      <td>0</td>\n",
       "      <td>0</td>\n",
       "      <td>0</td>\n",
       "      <td>1</td>\n",
       "      <td>0</td>\n",
       "      <td>0</td>\n",
       "      <td>0</td>\n",
       "      <td>0</td>\n",
       "    </tr>\n",
       "  </tbody>\n",
       "</table>\n",
       "<p>5 rows × 31 columns</p>\n",
       "</div>"
      ],
      "text/plain": [
       "             cc_num     amt  gender  city_pop  is_fraud  age  trans_hour  \\\n",
       "0  2703186189652095    4.97       0      3495         0   30           0   \n",
       "1      630423337322  107.23       0       149         0   40           0   \n",
       "2    38859492057661  220.11       1      4154         0   56           0   \n",
       "3  3534093764340240   45.00       1      1939         0   52           0   \n",
       "4   375534208663984   41.96       1        99         0   32           0   \n",
       "\n",
       "   trans_day_of_week  trans_weekend  trans_month  ...  category_grocery_pos  \\\n",
       "0                  1              0            1  ...                     0   \n",
       "1                  1              0            1  ...                     1   \n",
       "2                  1              0            1  ...                     0   \n",
       "3                  1              0            1  ...                     0   \n",
       "4                  1              0            1  ...                     0   \n",
       "\n",
       "   category_health_fitness  category_home  category_kids_pets  \\\n",
       "0                        0              0                   0   \n",
       "1                        0              0                   0   \n",
       "2                        0              0                   0   \n",
       "3                        0              0                   0   \n",
       "4                        0              0                   0   \n",
       "\n",
       "   category_misc_net  category_misc_pos  category_personal_care  \\\n",
       "0                  1                  0                       0   \n",
       "1                  0                  0                       0   \n",
       "2                  0                  0                       0   \n",
       "3                  0                  0                       0   \n",
       "4                  0                  1                       0   \n",
       "\n",
       "   category_shopping_net  category_shopping_pos  category_travel  \n",
       "0                      0                      0                0  \n",
       "1                      0                      0                0  \n",
       "2                      0                      0                0  \n",
       "3                      0                      0                0  \n",
       "4                      0                      0                0  \n",
       "\n",
       "[5 rows x 31 columns]"
      ]
     },
     "execution_count": 265,
     "metadata": {},
     "output_type": "execute_result"
    }
   ],
   "source": [
    "df.head()"
   ]
  },
  {
   "cell_type": "code",
   "execution_count": 266,
   "id": "19690864-afbd-43b8-829f-24c7d9fc6083",
   "metadata": {
    "tags": []
   },
   "outputs": [
    {
     "data": {
      "text/plain": [
       "(1852394, 31)"
      ]
     },
     "execution_count": 266,
     "metadata": {},
     "output_type": "execute_result"
    }
   ],
   "source": [
    "df.shape"
   ]
  },
  {
   "cell_type": "code",
   "execution_count": null,
   "id": "d8fd6c50-b99f-491f-a2eb-20077e4573f0",
   "metadata": {},
   "outputs": [],
   "source": []
  },
  {
   "cell_type": "code",
   "execution_count": null,
   "id": "7847def8-564a-43ab-be34-459b50c6a703",
   "metadata": {},
   "outputs": [],
   "source": []
  },
  {
   "cell_type": "code",
   "execution_count": null,
   "id": "77a5b443-fa6e-4a5e-a53b-3e4aa6e22d95",
   "metadata": {},
   "outputs": [],
   "source": []
  },
  {
   "cell_type": "code",
   "execution_count": null,
   "id": "16a4ad5d-cb11-437d-aad8-bd6a1868662b",
   "metadata": {},
   "outputs": [],
   "source": []
  },
  {
   "cell_type": "raw",
   "id": "3ffc7ee3-4d65-4908-b722-bcf7e2dd5996",
   "metadata": {},
   "source": [
    "# sample for docker"
   ]
  },
  {
   "cell_type": "code",
   "execution_count": 313,
   "id": "c9f5360d-0248-4f52-a6af-0159715b6dfd",
   "metadata": {
    "tags": []
   },
   "outputs": [],
   "source": [
    "df2 = pd.read_csv('cleaning_FeatureEngg.csv')"
   ]
  },
  {
   "cell_type": "code",
   "execution_count": 314,
   "id": "a2c80e7b-e45b-410f-8c89-f5bfc134e17f",
   "metadata": {
    "tags": []
   },
   "outputs": [
    {
     "data": {
      "text/plain": [
       "(1852394, 32)"
      ]
     },
     "execution_count": 314,
     "metadata": {},
     "output_type": "execute_result"
    }
   ],
   "source": [
    "df2.shape"
   ]
  },
  {
   "cell_type": "code",
   "execution_count": 315,
   "id": "9e812ca1-db36-4fa5-86ec-af3f763ee262",
   "metadata": {
    "tags": []
   },
   "outputs": [
    {
     "name": "stdout",
     "output_type": "stream",
     "text": [
      "<class 'pandas.core.frame.DataFrame'>\n",
      "RangeIndex: 1852394 entries, 0 to 1852393\n",
      "Data columns (total 32 columns):\n",
      " #   Column                   Dtype  \n",
      "---  ------                   -----  \n",
      " 0   cc_num                   int64  \n",
      " 1   amt                      float64\n",
      " 2   gender                   int64  \n",
      " 3   city_pop                 int64  \n",
      " 4   trans_num                object \n",
      " 5   is_fraud                 int64  \n",
      " 6   age                      int64  \n",
      " 7   trans_hour               int64  \n",
      " 8   trans_day_of_week        int64  \n",
      " 9   trans_weekend            int64  \n",
      " 10  trans_month              int64  \n",
      " 11  distance                 float64\n",
      " 12  avg_amt                  float64\n",
      " 13  total_transactions       int64  \n",
      " 14  total_fraud              int64  \n",
      " 15  fraud_rate               float64\n",
      " 16  merchant_encoded         int64  \n",
      " 17  job_encoded              int64  \n",
      " 18  category_entertainment   int64  \n",
      " 19  category_food_dining     int64  \n",
      " 20  category_gas_transport   int64  \n",
      " 21  category_grocery_net     int64  \n",
      " 22  category_grocery_pos     int64  \n",
      " 23  category_health_fitness  int64  \n",
      " 24  category_home            int64  \n",
      " 25  category_kids_pets       int64  \n",
      " 26  category_misc_net        int64  \n",
      " 27  category_misc_pos        int64  \n",
      " 28  category_personal_care   int64  \n",
      " 29  category_shopping_net    int64  \n",
      " 30  category_shopping_pos    int64  \n",
      " 31  category_travel          int64  \n",
      "dtypes: float64(4), int64(27), object(1)\n",
      "memory usage: 452.2+ MB\n"
     ]
    }
   ],
   "source": [
    "df2.info()"
   ]
  },
  {
   "cell_type": "code",
   "execution_count": null,
   "id": "129759f1-024e-4e95-881e-8fc5d40debf4",
   "metadata": {},
   "outputs": [],
   "source": []
  },
  {
   "cell_type": "code",
   "execution_count": 316,
   "id": "c2be2101-5e0d-4131-b05d-165575a32e76",
   "metadata": {
    "tags": []
   },
   "outputs": [],
   "source": [
    "#Create a smaller CSV file with some rows:\n",
    "import pandas as pd\n",
    "df_sample = df2.sample(n=100000, random_state=42)\n",
    "df_sample.to_csv('sample1.csv', index=False)"
   ]
  },
  {
   "cell_type": "code",
   "execution_count": 317,
   "id": "4d408fa3-71ae-4640-899d-bcc1ccdb3a47",
   "metadata": {
    "tags": []
   },
   "outputs": [],
   "source": [
    "df_sample = pd.read_csv(r'sample1.csv')"
   ]
  },
  {
   "cell_type": "code",
   "execution_count": 318,
   "id": "ae78b946-20c9-4d8c-905a-d277a69d7bf7",
   "metadata": {
    "tags": []
   },
   "outputs": [
    {
     "data": {
      "text/html": [
       "<div>\n",
       "<style scoped>\n",
       "    .dataframe tbody tr th:only-of-type {\n",
       "        vertical-align: middle;\n",
       "    }\n",
       "\n",
       "    .dataframe tbody tr th {\n",
       "        vertical-align: top;\n",
       "    }\n",
       "\n",
       "    .dataframe thead th {\n",
       "        text-align: right;\n",
       "    }\n",
       "</style>\n",
       "<table border=\"1\" class=\"dataframe\">\n",
       "  <thead>\n",
       "    <tr style=\"text-align: right;\">\n",
       "      <th></th>\n",
       "      <th>cc_num</th>\n",
       "      <th>amt</th>\n",
       "      <th>gender</th>\n",
       "      <th>city_pop</th>\n",
       "      <th>is_fraud</th>\n",
       "      <th>age</th>\n",
       "      <th>trans_hour</th>\n",
       "      <th>trans_day_of_week</th>\n",
       "      <th>trans_weekend</th>\n",
       "      <th>trans_month</th>\n",
       "      <th>...</th>\n",
       "      <th>category_grocery_pos</th>\n",
       "      <th>category_health_fitness</th>\n",
       "      <th>category_home</th>\n",
       "      <th>category_kids_pets</th>\n",
       "      <th>category_misc_net</th>\n",
       "      <th>category_misc_pos</th>\n",
       "      <th>category_personal_care</th>\n",
       "      <th>category_shopping_net</th>\n",
       "      <th>category_shopping_pos</th>\n",
       "      <th>category_travel</th>\n",
       "    </tr>\n",
       "  </thead>\n",
       "  <tbody>\n",
       "    <tr>\n",
       "      <th>0</th>\n",
       "      <td>2703186189652095</td>\n",
       "      <td>4.97</td>\n",
       "      <td>0</td>\n",
       "      <td>3495</td>\n",
       "      <td>0</td>\n",
       "      <td>30</td>\n",
       "      <td>0</td>\n",
       "      <td>1</td>\n",
       "      <td>0</td>\n",
       "      <td>1</td>\n",
       "      <td>...</td>\n",
       "      <td>0</td>\n",
       "      <td>0</td>\n",
       "      <td>0</td>\n",
       "      <td>0</td>\n",
       "      <td>1</td>\n",
       "      <td>0</td>\n",
       "      <td>0</td>\n",
       "      <td>0</td>\n",
       "      <td>0</td>\n",
       "      <td>0</td>\n",
       "    </tr>\n",
       "    <tr>\n",
       "      <th>1</th>\n",
       "      <td>630423337322</td>\n",
       "      <td>107.23</td>\n",
       "      <td>0</td>\n",
       "      <td>149</td>\n",
       "      <td>0</td>\n",
       "      <td>40</td>\n",
       "      <td>0</td>\n",
       "      <td>1</td>\n",
       "      <td>0</td>\n",
       "      <td>1</td>\n",
       "      <td>...</td>\n",
       "      <td>1</td>\n",
       "      <td>0</td>\n",
       "      <td>0</td>\n",
       "      <td>0</td>\n",
       "      <td>0</td>\n",
       "      <td>0</td>\n",
       "      <td>0</td>\n",
       "      <td>0</td>\n",
       "      <td>0</td>\n",
       "      <td>0</td>\n",
       "    </tr>\n",
       "    <tr>\n",
       "      <th>2</th>\n",
       "      <td>38859492057661</td>\n",
       "      <td>220.11</td>\n",
       "      <td>1</td>\n",
       "      <td>4154</td>\n",
       "      <td>0</td>\n",
       "      <td>56</td>\n",
       "      <td>0</td>\n",
       "      <td>1</td>\n",
       "      <td>0</td>\n",
       "      <td>1</td>\n",
       "      <td>...</td>\n",
       "      <td>0</td>\n",
       "      <td>0</td>\n",
       "      <td>0</td>\n",
       "      <td>0</td>\n",
       "      <td>0</td>\n",
       "      <td>0</td>\n",
       "      <td>0</td>\n",
       "      <td>0</td>\n",
       "      <td>0</td>\n",
       "      <td>0</td>\n",
       "    </tr>\n",
       "    <tr>\n",
       "      <th>3</th>\n",
       "      <td>3534093764340240</td>\n",
       "      <td>45.00</td>\n",
       "      <td>1</td>\n",
       "      <td>1939</td>\n",
       "      <td>0</td>\n",
       "      <td>52</td>\n",
       "      <td>0</td>\n",
       "      <td>1</td>\n",
       "      <td>0</td>\n",
       "      <td>1</td>\n",
       "      <td>...</td>\n",
       "      <td>0</td>\n",
       "      <td>0</td>\n",
       "      <td>0</td>\n",
       "      <td>0</td>\n",
       "      <td>0</td>\n",
       "      <td>0</td>\n",
       "      <td>0</td>\n",
       "      <td>0</td>\n",
       "      <td>0</td>\n",
       "      <td>0</td>\n",
       "    </tr>\n",
       "    <tr>\n",
       "      <th>4</th>\n",
       "      <td>375534208663984</td>\n",
       "      <td>41.96</td>\n",
       "      <td>1</td>\n",
       "      <td>99</td>\n",
       "      <td>0</td>\n",
       "      <td>32</td>\n",
       "      <td>0</td>\n",
       "      <td>1</td>\n",
       "      <td>0</td>\n",
       "      <td>1</td>\n",
       "      <td>...</td>\n",
       "      <td>0</td>\n",
       "      <td>0</td>\n",
       "      <td>0</td>\n",
       "      <td>0</td>\n",
       "      <td>0</td>\n",
       "      <td>1</td>\n",
       "      <td>0</td>\n",
       "      <td>0</td>\n",
       "      <td>0</td>\n",
       "      <td>0</td>\n",
       "    </tr>\n",
       "  </tbody>\n",
       "</table>\n",
       "<p>5 rows × 31 columns</p>\n",
       "</div>"
      ],
      "text/plain": [
       "             cc_num     amt  gender  city_pop  is_fraud  age  trans_hour  \\\n",
       "0  2703186189652095    4.97       0      3495         0   30           0   \n",
       "1      630423337322  107.23       0       149         0   40           0   \n",
       "2    38859492057661  220.11       1      4154         0   56           0   \n",
       "3  3534093764340240   45.00       1      1939         0   52           0   \n",
       "4   375534208663984   41.96       1        99         0   32           0   \n",
       "\n",
       "   trans_day_of_week  trans_weekend  trans_month  ...  category_grocery_pos  \\\n",
       "0                  1              0            1  ...                     0   \n",
       "1                  1              0            1  ...                     1   \n",
       "2                  1              0            1  ...                     0   \n",
       "3                  1              0            1  ...                     0   \n",
       "4                  1              0            1  ...                     0   \n",
       "\n",
       "   category_health_fitness  category_home  category_kids_pets  \\\n",
       "0                        0              0                   0   \n",
       "1                        0              0                   0   \n",
       "2                        0              0                   0   \n",
       "3                        0              0                   0   \n",
       "4                        0              0                   0   \n",
       "\n",
       "   category_misc_net  category_misc_pos  category_personal_care  \\\n",
       "0                  1                  0                       0   \n",
       "1                  0                  0                       0   \n",
       "2                  0                  0                       0   \n",
       "3                  0                  0                       0   \n",
       "4                  0                  1                       0   \n",
       "\n",
       "   category_shopping_net  category_shopping_pos  category_travel  \n",
       "0                      0                      0                0  \n",
       "1                      0                      0                0  \n",
       "2                      0                      0                0  \n",
       "3                      0                      0                0  \n",
       "4                      0                      0                0  \n",
       "\n",
       "[5 rows x 31 columns]"
      ]
     },
     "execution_count": 318,
     "metadata": {},
     "output_type": "execute_result"
    }
   ],
   "source": [
    "df.head()"
   ]
  },
  {
   "cell_type": "code",
   "execution_count": 319,
   "id": "ab56f9bb-67ad-463f-a37f-ad8a4e429199",
   "metadata": {
    "tags": []
   },
   "outputs": [
    {
     "data": {
      "text/plain": [
       "is_fraud\n",
       "0    99457\n",
       "1      543\n",
       "Name: count, dtype: int64"
      ]
     },
     "execution_count": 319,
     "metadata": {},
     "output_type": "execute_result"
    }
   ],
   "source": [
    "df_sample['is_fraud'].value_counts()"
   ]
  },
  {
   "cell_type": "code",
   "execution_count": 320,
   "id": "223cc23f-157c-42d5-b922-901c8b85dccd",
   "metadata": {
    "tags": []
   },
   "outputs": [],
   "source": [
    "columns_to_drop = ['is_fraud']\n",
    "df_sample = df_sample.drop(columns=columns_to_drop, axis=1)"
   ]
  },
  {
   "cell_type": "code",
   "execution_count": 321,
   "id": "2e7c0fb7-02f6-46f0-bf85-ebfa106c63d0",
   "metadata": {
    "tags": []
   },
   "outputs": [
    {
     "name": "stdout",
     "output_type": "stream",
     "text": [
      "<class 'pandas.core.frame.DataFrame'>\n",
      "RangeIndex: 100000 entries, 0 to 99999\n",
      "Data columns (total 31 columns):\n",
      " #   Column                   Non-Null Count   Dtype  \n",
      "---  ------                   --------------   -----  \n",
      " 0   cc_num                   100000 non-null  int64  \n",
      " 1   amt                      100000 non-null  float64\n",
      " 2   gender                   100000 non-null  int64  \n",
      " 3   city_pop                 100000 non-null  int64  \n",
      " 4   trans_num                100000 non-null  object \n",
      " 5   age                      100000 non-null  int64  \n",
      " 6   trans_hour               100000 non-null  int64  \n",
      " 7   trans_day_of_week        100000 non-null  int64  \n",
      " 8   trans_weekend            100000 non-null  int64  \n",
      " 9   trans_month              100000 non-null  int64  \n",
      " 10  distance                 100000 non-null  float64\n",
      " 11  avg_amt                  100000 non-null  float64\n",
      " 12  total_transactions       100000 non-null  int64  \n",
      " 13  total_fraud              100000 non-null  int64  \n",
      " 14  fraud_rate               100000 non-null  float64\n",
      " 15  merchant_encoded         100000 non-null  int64  \n",
      " 16  job_encoded              100000 non-null  int64  \n",
      " 17  category_entertainment   100000 non-null  int64  \n",
      " 18  category_food_dining     100000 non-null  int64  \n",
      " 19  category_gas_transport   100000 non-null  int64  \n",
      " 20  category_grocery_net     100000 non-null  int64  \n",
      " 21  category_grocery_pos     100000 non-null  int64  \n",
      " 22  category_health_fitness  100000 non-null  int64  \n",
      " 23  category_home            100000 non-null  int64  \n",
      " 24  category_kids_pets       100000 non-null  int64  \n",
      " 25  category_misc_net        100000 non-null  int64  \n",
      " 26  category_misc_pos        100000 non-null  int64  \n",
      " 27  category_personal_care   100000 non-null  int64  \n",
      " 28  category_shopping_net    100000 non-null  int64  \n",
      " 29  category_shopping_pos    100000 non-null  int64  \n",
      " 30  category_travel          100000 non-null  int64  \n",
      "dtypes: float64(4), int64(26), object(1)\n",
      "memory usage: 23.7+ MB\n"
     ]
    }
   ],
   "source": [
    "df_sample.info()"
   ]
  },
  {
   "cell_type": "code",
   "execution_count": 322,
   "id": "5d17763a-2ccf-4f2e-98b8-f372bd0447ea",
   "metadata": {
    "tags": []
   },
   "outputs": [
    {
     "name": "stdout",
     "output_type": "stream",
     "text": [
      "File saved to C:\\kafka-docker\\sample1.csv\n"
     ]
    }
   ],
   "source": [
    "# Specify the file path where you want to save the CSV file\n",
    "file_path = r\"C:\\kafka-docker\\sample1.csv\"\n",
    "\n",
    "# Save the DataFrame to the specified path\n",
    "df_sample.to_csv(file_path, index=False)\n",
    "print(f\"File saved to {file_path}\")"
   ]
  },
  {
   "cell_type": "code",
   "execution_count": null,
   "id": "83dc2b22-dae7-4732-9fc0-99469b70c622",
   "metadata": {},
   "outputs": [],
   "source": []
  },
  {
   "cell_type": "code",
   "execution_count": null,
   "id": "f0cec489-6000-495e-ac69-f6ad12fb6fe3",
   "metadata": {},
   "outputs": [],
   "source": []
  },
  {
   "cell_type": "code",
   "execution_count": 284,
   "id": "fbe8b9fd-66d6-4a7a-8778-52c236e71ab2",
   "metadata": {
    "tags": []
   },
   "outputs": [
    {
     "data": {
      "text/plain": [
       "Index(['cc_num', 'amt', 'gender', 'city_pop', 'trans_num', 'is_fraud', 'age',\n",
       "       'trans_hour', 'trans_day_of_week', 'trans_weekend', 'trans_month',\n",
       "       'distance', 'avg_amt', 'total_transactions', 'total_fraud',\n",
       "       'fraud_rate', 'merchant_encoded', 'job_encoded',\n",
       "       'category_entertainment', 'category_food_dining',\n",
       "       'category_gas_transport', 'category_grocery_net',\n",
       "       'category_grocery_pos', 'category_health_fitness', 'category_home',\n",
       "       'category_kids_pets', 'category_misc_net', 'category_misc_pos',\n",
       "       'category_personal_care', 'category_shopping_net',\n",
       "       'category_shopping_pos', 'category_travel'],\n",
       "      dtype='object')"
      ]
     },
     "execution_count": 284,
     "metadata": {},
     "output_type": "execute_result"
    }
   ],
   "source": [
    "df_sample.columns"
   ]
  },
  {
   "cell_type": "code",
   "execution_count": 285,
   "id": "e4ca94dc-c0ef-4d02-b600-807958f21148",
   "metadata": {
    "tags": []
   },
   "outputs": [
    {
     "name": "stdout",
     "output_type": "stream",
     "text": [
      "<class 'pandas.core.frame.DataFrame'>\n",
      "RangeIndex: 800 entries, 0 to 799\n",
      "Data columns (total 32 columns):\n",
      " #   Column                   Non-Null Count  Dtype  \n",
      "---  ------                   --------------  -----  \n",
      " 0   cc_num                   800 non-null    int64  \n",
      " 1   amt                      800 non-null    float64\n",
      " 2   gender                   800 non-null    int64  \n",
      " 3   city_pop                 800 non-null    int64  \n",
      " 4   trans_num                800 non-null    object \n",
      " 5   is_fraud                 800 non-null    int64  \n",
      " 6   age                      800 non-null    int64  \n",
      " 7   trans_hour               800 non-null    int64  \n",
      " 8   trans_day_of_week        800 non-null    int64  \n",
      " 9   trans_weekend            800 non-null    int64  \n",
      " 10  trans_month              800 non-null    int64  \n",
      " 11  distance                 800 non-null    float64\n",
      " 12  avg_amt                  800 non-null    float64\n",
      " 13  total_transactions       800 non-null    int64  \n",
      " 14  total_fraud              800 non-null    int64  \n",
      " 15  fraud_rate               800 non-null    float64\n",
      " 16  merchant_encoded         800 non-null    int64  \n",
      " 17  job_encoded              800 non-null    int64  \n",
      " 18  category_entertainment   800 non-null    int64  \n",
      " 19  category_food_dining     800 non-null    int64  \n",
      " 20  category_gas_transport   800 non-null    int64  \n",
      " 21  category_grocery_net     800 non-null    int64  \n",
      " 22  category_grocery_pos     800 non-null    int64  \n",
      " 23  category_health_fitness  800 non-null    int64  \n",
      " 24  category_home            800 non-null    int64  \n",
      " 25  category_kids_pets       800 non-null    int64  \n",
      " 26  category_misc_net        800 non-null    int64  \n",
      " 27  category_misc_pos        800 non-null    int64  \n",
      " 28  category_personal_care   800 non-null    int64  \n",
      " 29  category_shopping_net    800 non-null    int64  \n",
      " 30  category_shopping_pos    800 non-null    int64  \n",
      " 31  category_travel          800 non-null    int64  \n",
      "dtypes: float64(4), int64(27), object(1)\n",
      "memory usage: 200.1+ KB\n"
     ]
    }
   ],
   "source": [
    "df_sample.info()"
   ]
  },
  {
   "cell_type": "code",
   "execution_count": 221,
   "id": "042fd7e5-fb6d-40a3-9331-19b02e6015ad",
   "metadata": {
    "tags": []
   },
   "outputs": [
    {
     "name": "stdout",
     "output_type": "stream",
     "text": [
      "2.0.3\n"
     ]
    }
   ],
   "source": [
    "import xgboost\n",
    "print(xgboost.__version__)"
   ]
  },
  {
   "cell_type": "code",
   "execution_count": 222,
   "id": "ac480db1-c0f0-44fc-bfac-64a837a4835b",
   "metadata": {
    "tags": []
   },
   "outputs": [
    {
     "name": "stdout",
     "output_type": "stream",
     "text": [
      "1.2.0\n"
     ]
    }
   ],
   "source": [
    "import joblib\n",
    "print(joblib.__version__)"
   ]
  },
  {
   "cell_type": "code",
   "execution_count": 223,
   "id": "1116af36-dd73-479b-b07f-c3adbbb9786d",
   "metadata": {
    "tags": []
   },
   "outputs": [
    {
     "name": "stdout",
     "output_type": "stream",
     "text": [
      "1.3.0\n"
     ]
    }
   ],
   "source": [
    "import sklearn\n",
    "print(sklearn.__version__)"
   ]
  },
  {
   "cell_type": "code",
   "execution_count": 225,
   "id": "cc44c6d9-5784-4e48-9a41-961e5fdf2823",
   "metadata": {
    "tags": []
   },
   "outputs": [
    {
     "name": "stdout",
     "output_type": "stream",
     "text": [
      "NumPy version: 1.24.3\n",
      "Pandas version: 2.0.3\n"
     ]
    }
   ],
   "source": [
    "import numpy as np\n",
    "import pandas as pd\n",
    "\n",
    "print(\"NumPy version:\", np.__version__)\n",
    "print(\"Pandas version:\", pd.__version__)"
   ]
  },
  {
   "cell_type": "code",
   "execution_count": 229,
   "id": "634efb01-6dee-46e9-b7e9-e3c1d874f279",
   "metadata": {
    "tags": []
   },
   "outputs": [
    {
     "name": "stdout",
     "output_type": "stream",
     "text": [
      "cc_num                      874\n",
      "amt                        3919\n",
      "gender                        2\n",
      "city_pop                    796\n",
      "is_fraud                      2\n",
      "age                          82\n",
      "trans_hour                   24\n",
      "trans_day_of_week             7\n",
      "trans_weekend                 2\n",
      "trans_month                  12\n",
      "distance                   5000\n",
      "avg_amt                     874\n",
      "total_transactions          132\n",
      "total_fraud                  18\n",
      "fraud_rate                  412\n",
      "merchant_encoded            691\n",
      "job_encoded                 461\n",
      "category_entertainment        2\n",
      "category_food_dining          2\n",
      "category_gas_transport        2\n",
      "category_grocery_net          2\n",
      "category_grocery_pos          2\n",
      "category_health_fitness       2\n",
      "category_home                 2\n",
      "category_kids_pets            2\n",
      "category_misc_net             2\n",
      "category_misc_pos             2\n",
      "category_personal_care        2\n",
      "category_shopping_net         2\n",
      "category_shopping_pos         2\n",
      "category_travel               2\n",
      "dtype: int64\n"
     ]
    }
   ],
   "source": [
    "# Check unique value counts for all columns\n",
    "unique_counts = df_sample.nunique()\n",
    "# Display the results\n",
    "print(unique_counts)"
   ]
  },
  {
   "cell_type": "code",
   "execution_count": null,
   "id": "256b02e9-6b49-40bf-b99a-c226c7c9612b",
   "metadata": {},
   "outputs": [],
   "source": []
  }
 ],
 "metadata": {
  "kernelspec": {
   "display_name": "Python 3 (ipykernel)",
   "language": "python",
   "name": "python3"
  },
  "language_info": {
   "codemirror_mode": {
    "name": "ipython",
    "version": 3
   },
   "file_extension": ".py",
   "mimetype": "text/x-python",
   "name": "python",
   "nbconvert_exporter": "python",
   "pygments_lexer": "ipython3",
   "version": "3.11.5"
  }
 },
 "nbformat": 4,
 "nbformat_minor": 5
}
